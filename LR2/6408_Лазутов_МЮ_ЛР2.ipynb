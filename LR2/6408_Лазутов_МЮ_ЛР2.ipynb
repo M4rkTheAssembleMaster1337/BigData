{
 "cells": [
  {
   "cell_type": "markdown",
   "id": "68877c33-085a-4f6b-a4a7-feede9d0c8e3",
   "metadata": {
    "id": "68877c33-085a-4f6b-a4a7-feede9d0c8e3"
   },
   "source": [
    "# Импортирование необходимых модулей"
   ]
  },
  {
   "metadata": {
    "ExecuteTime": {
     "end_time": "2024-04-21T15:23:09.675915Z",
     "start_time": "2024-04-21T15:23:09.645956Z"
    }
   },
   "cell_type": "code",
   "source": [
    "import findspark \n",
    "\n",
    "findspark.init()\n",
    "findspark.find()"
   ],
   "id": "8ab7f597faf21677",
   "outputs": [
    {
     "data": {
      "text/plain": [
       "'C:\\\\Users\\\\Ekaterina\\\\Desktop\\\\spark-3.5.1-bin-hadoop3\\\\spark-3.5.1-bin-hadoop3'"
      ]
     },
     "execution_count": 1,
     "metadata": {},
     "output_type": "execute_result"
    }
   ],
   "execution_count": 1
  },
  {
   "metadata": {
    "ExecuteTime": {
     "end_time": "2024-04-21T15:23:14.646420Z",
     "start_time": "2024-04-21T15:23:14.511009Z"
    }
   },
   "cell_type": "code",
   "source": [
    "import pyspark\n",
    "import os\n",
    "import re\n",
    "from datetime import datetime\n",
    "from pyspark.sql.functions import *\n",
    "from pyspark.sql.types import *\n",
    "from pyspark.sql.window import Window\n",
    "#from pyspark.sql.functions import col\n",
    "from pyspark.sql import SparkSession\n",
    "from pyspark import SparkContext, SparkConf\n",
    "# from pyspark.sql.types import StructType, StructField, StringType, DateType"
   ],
   "id": "5c54a224-5cab-48a9-81d0-d89e060a69e9",
   "outputs": [],
   "execution_count": 2
  },
  {
   "metadata": {
    "ExecuteTime": {
     "end_time": "2024-04-21T15:23:18.675965Z",
     "start_time": "2024-04-21T15:23:18.666197Z"
    }
   },
   "cell_type": "code",
   "source": [
    "# os.environ['HADOOP_HOME'] = \"C:\\\\Users\\\\Ekaterina\\\\Desktop\\\\hadoop-3.4.0\\\\hadoop-3.4.0\"\n",
    "os.environ['HADOOP_HOME'] = \"C:\\\\Users\\\\Ekaterina\\\\Desktop\\\\spark-3.5.1-bin-hadoop3\\\\spark-3.5.1-bin-hadoop3\""
   ],
   "id": "4bd73d26a882d020",
   "outputs": [],
   "execution_count": 3
  },
  {
   "metadata": {
    "ExecuteTime": {
     "end_time": "2024-04-21T15:23:26.475841Z",
     "start_time": "2024-04-21T15:23:22.026049Z"
    }
   },
   "cell_type": "code",
   "source": [
    "spark = SparkSession.builder.appName(\"LR2\") \\\n",
    "    .master(\"local[*]\").getOrCreate()"
   ],
   "id": "ce61a81136126737",
   "outputs": [],
   "execution_count": 4
  },
  {
   "cell_type": "markdown",
   "id": "e1f1590a-13bf-4bea-9de1-9372533eb9f1",
   "metadata": {
    "id": "e1f1590a-13bf-4bea-9de1-9372533eb9f1"
   },
   "source": [
    "# Инициализация сессии"
   ]
  },
  {
   "metadata": {
    "ExecuteTime": {
     "end_time": "2024-04-21T09:53:15.332824Z",
     "start_time": "2024-04-21T09:53:10.270227Z"
    }
   },
   "cell_type": "code",
   "source": "# spark=SparkSession.builder.appName(\"LR2\").getOrCreate()",
   "id": "d5ed74f12c6b9af8",
   "outputs": [],
   "execution_count": 3
  },
  {
   "cell_type": "code",
   "id": "e404cd45-a855-48de-93cf-8b8b5765786a",
   "metadata": {
    "colab": {
     "base_uri": "https://localhost:8080/",
     "height": 35
    },
    "id": "e404cd45-a855-48de-93cf-8b8b5765786a",
    "outputId": "7f3ac1a7-1102-4f29-87d1-1a0ce12a4b9f",
    "ExecuteTime": {
     "end_time": "2024-04-21T10:00:58.762887Z",
     "start_time": "2024-04-21T10:00:58.732602Z"
    }
   },
   "source": [
    "spark.version"
   ],
   "outputs": [
    {
     "data": {
      "text/plain": [
       "'3.5.1'"
      ]
     },
     "execution_count": 10,
     "metadata": {},
     "output_type": "execute_result"
    }
   ],
   "execution_count": 10
  },
  {
   "cell_type": "markdown",
   "id": "6983f59d-d684-4296-81c0-b6a3dfb98904",
   "metadata": {
    "id": "6983f59d-d684-4296-81c0-b6a3dfb98904"
   },
   "source": [
    "# Загрузка данных"
   ]
  },
  {
   "cell_type": "markdown",
   "id": "7af5f647-7891-44a9-84ea-a05996539b7d",
   "metadata": {
    "id": "7af5f647-7891-44a9-84ea-a05996539b7d"
   },
   "source": [
    "## Чтение данных о постах Stack Overflow"
   ]
  },
  {
   "cell_type": "code",
   "id": "3944ab72-d0fd-4d6a-9807-d3bf962f7041",
   "metadata": {
    "colab": {
     "base_uri": "https://localhost:8080/"
    },
    "id": "3944ab72-d0fd-4d6a-9807-d3bf962f7041",
    "outputId": "b617fa5c-5273-476c-d8ea-f545cb0dfee9",
    "ExecuteTime": {
     "end_time": "2024-04-21T15:23:49.045856Z",
     "start_time": "2024-04-21T15:23:38.566114Z"
    }
   },
   "source": [
    "# posts_data = sc.read.format('com.databricks.spark.xml').options(rowTag='rowTag').load('posts_sample.xml')\n",
    "posts_data = spark.read.format(\"xml\").options(rowTag='row').load('posts_sample.xml')\n",
    "\n",
    "# posts_data = spark.read.format(\"com.databricks.spark.xml\").options(rowTag='root').load('posts_sample.xml')\n",
    "\n",
    "print(\"Posts\")\n",
    "posts_data.printSchema()"
   ],
   "outputs": [
    {
     "name": "stdout",
     "output_type": "stream",
     "text": [
      "Posts\n",
      "root\n",
      " |-- _AcceptedAnswerId: long (nullable = true)\n",
      " |-- _AnswerCount: long (nullable = true)\n",
      " |-- _Body: string (nullable = true)\n",
      " |-- _ClosedDate: timestamp (nullable = true)\n",
      " |-- _CommentCount: long (nullable = true)\n",
      " |-- _CommunityOwnedDate: timestamp (nullable = true)\n",
      " |-- _CreationDate: timestamp (nullable = true)\n",
      " |-- _FavoriteCount: long (nullable = true)\n",
      " |-- _Id: long (nullable = true)\n",
      " |-- _LastActivityDate: timestamp (nullable = true)\n",
      " |-- _LastEditDate: timestamp (nullable = true)\n",
      " |-- _LastEditorDisplayName: string (nullable = true)\n",
      " |-- _LastEditorUserId: long (nullable = true)\n",
      " |-- _OwnerDisplayName: string (nullable = true)\n",
      " |-- _OwnerUserId: long (nullable = true)\n",
      " |-- _ParentId: long (nullable = true)\n",
      " |-- _PostTypeId: long (nullable = true)\n",
      " |-- _Score: long (nullable = true)\n",
      " |-- _Tags: string (nullable = true)\n",
      " |-- _Title: string (nullable = true)\n",
      " |-- _ViewCount: long (nullable = true)\n",
      "\n"
     ]
    }
   ],
   "execution_count": 5
  },
  {
   "cell_type": "markdown",
   "id": "cf522166-ee62-4184-9d47-a9567e4427d0",
   "metadata": {
    "id": "cf522166-ee62-4184-9d47-a9567e4427d0"
   },
   "source": [
    "## Чтение данных о языках программирования"
   ]
  },
  {
   "cell_type": "code",
   "id": "1d858945-de74-4666-8e7c-8a557f1a8007",
   "metadata": {
    "colab": {
     "base_uri": "https://localhost:8080/"
    },
    "id": "1d858945-de74-4666-8e7c-8a557f1a8007",
    "outputId": "a1b9f44b-3c2d-44bc-d170-d44c004d0df7",
    "ExecuteTime": {
     "end_time": "2024-04-21T15:23:56.285946Z",
     "start_time": "2024-04-21T15:23:53.475943Z"
    }
   },
   "source": [
    "prog_lang_data = spark.read\\\n",
    ".option(\"header\", True)\\\n",
    ".option(\"inferSchema\", True)\\\n",
    ".option(\"timestampFormat\", 'M/d/y H:m')\\\n",
    ".csv('programming-languages.csv')\n",
    "\n",
    "print(\"Programming languages\")\n",
    "prog_lang_data.printSchema()"
   ],
   "outputs": [
    {
     "name": "stdout",
     "output_type": "stream",
     "text": [
      "Programming languages\n",
      "root\n",
      " |-- name: string (nullable = true)\n",
      " |-- wikipedia_url: string (nullable = true)\n",
      "\n"
     ]
    }
   ],
   "execution_count": 6
  },
  {
   "cell_type": "markdown",
   "id": "4837ddd7-be02-44aa-b76f-87c7ea8e4859",
   "metadata": {
    "id": "4837ddd7-be02-44aa-b76f-87c7ea8e4859"
   },
   "source": [
    "# Работа с данными"
   ]
  },
  {
   "cell_type": "markdown",
   "id": "e50d7a3a-8882-4775-a8ab-29725a1fe161",
   "metadata": {
    "id": "e50d7a3a-8882-4775-a8ab-29725a1fe161"
   },
   "source": [
    "## Функции для обработки содержимого столбцов с тегами и датой последней активности поста"
   ]
  },
  {
   "cell_type": "code",
   "id": "b7a0e348-ece0-4e49-8eb3-59d055b3fc72",
   "metadata": {
    "id": "b7a0e348-ece0-4e49-8eb3-59d055b3fc72",
    "ExecuteTime": {
     "end_time": "2024-04-21T15:23:59.615379Z",
     "start_time": "2024-04-21T15:23:59.600642Z"
    }
   },
   "source": [
    "def get_tags(tags_string):\n",
    "    if tags_string is None:\n",
    "        return []\n",
    "\n",
    "    pattern = r'<(.+?)>'\n",
    "    tags = re.findall(pattern, tags_string)\n",
    "\n",
    "    return tags\n",
    "\n",
    "def get_year(date_and_time):\n",
    "    return date_and_time.year\n",
    "\n",
    "get_tags_udf = udf(get_tags, ArrayType(StringType()))\n",
    "get_year_udf = udf(get_year, IntegerType())"
   ],
   "outputs": [],
   "execution_count": 7
  },
  {
   "cell_type": "markdown",
   "id": "d6d5036c-1f0d-4379-a70f-5fc8674fce3c",
   "metadata": {
    "id": "d6d5036c-1f0d-4379-a70f-5fc8674fce3c"
   },
   "source": [
    "## Выбор необходимых столбцов"
   ]
  },
  {
   "cell_type": "code",
   "id": "5a0a1004-e951-46fd-9bf2-161ae38114ef",
   "metadata": {
    "colab": {
     "base_uri": "https://localhost:8080/"
    },
    "id": "5a0a1004-e951-46fd-9bf2-161ae38114ef",
    "outputId": "12ff8b63-ab0d-4cdf-fb17-abf5e5ae9669",
    "ExecuteTime": {
     "end_time": "2024-04-21T15:24:03.996067Z",
     "start_time": "2024-04-21T15:24:02.366220Z"
    }
   },
   "source": [
    "# Применение приведенных выше функция для преобразования данных в нужный вид\n",
    "posts_data_simplified = posts_data \\\n",
    "                        .withColumn(\"tags\", get_tags_udf(posts_data[\"_Tags\"])) \\\n",
    "                        .withColumn(\"year\", get_year_udf(posts_data[\"_LastActivityDate\"]))\n",
    "\n",
    "# Выбор только нужных столбцов\n",
    "posts_data_simplified = posts_data_simplified.select(\n",
    "    col(\"tags\"),\n",
    "    col(\"year\"),\n",
    "    col(\"_ViewCount\").alias(\"views\")\n",
    ")\n",
    "\n",
    "# Отображение полученных данных\n",
    "posts_data_simplified.show()"
   ],
   "outputs": [
    {
     "name": "stdout",
     "output_type": "stream",
     "text": [
      "+--------------------+----+------+\n",
      "|                tags|year| views|\n",
      "+--------------------+----+------+\n",
      "|[c#, floating-poi...|2019| 42817|\n",
      "|[html, css, inter...|2019| 18214|\n",
      "|                  []|2017|  NULL|\n",
      "|[c#, .net, datetime]|2019|555183|\n",
      "|[c#, datetime, ti...|2019|149445|\n",
      "|                  []|2018|  NULL|\n",
      "|[html, browser, t...|2019|176405|\n",
      "|        [.net, math]|2018|123231|\n",
      "|                  []|2010|  NULL|\n",
      "|                  []|2010|  NULL|\n",
      "|                  []|2010|  NULL|\n",
      "|                  []|2010|  NULL|\n",
      "|                  []|2010|  NULL|\n",
      "|                  []|2010|  NULL|\n",
      "|                  []|2010|  NULL|\n",
      "|                  []|2010|  NULL|\n",
      "|                  []|2010|  NULL|\n",
      "|                  []|2010|  NULL|\n",
      "|                  []|2013|  NULL|\n",
      "|                  []|2010|  NULL|\n",
      "+--------------------+----+------+\n",
      "only showing top 20 rows\n",
      "\n"
     ]
    }
   ],
   "execution_count": 8
  },
  {
   "cell_type": "markdown",
   "id": "8e6a49b0-56e3-4588-bed5-ae9668aa9ae5",
   "metadata": {
    "id": "8e6a49b0-56e3-4588-bed5-ae9668aa9ae5"
   },
   "source": [
    "## Удаление тегов, не соответствующих языкам программирования"
   ]
  },
  {
   "cell_type": "code",
   "id": "25cb5cc2-30d2-4c39-a95d-c125656787a7",
   "metadata": {
    "colab": {
     "base_uri": "https://localhost:8080/"
    },
    "id": "25cb5cc2-30d2-4c39-a95d-c125656787a7",
    "outputId": "0806a371-69ae-4d8f-e15a-5e4d210b173b",
    "ExecuteTime": {
     "end_time": "2024-04-21T15:24:10.445665Z",
     "start_time": "2024-04-21T15:24:06.967717Z"
    }
   },
   "source": [
    "# Добавление столбца, содержащего название языка программирования, но в нижнем регистре\n",
    "prog_lang_data_modified = prog_lang_data.withColumn(\"tag_lowercase\", lower(prog_lang_data[\"name\"]))\n",
    "\n",
    "# Разбиение массива тегов на отдельные столбцы\n",
    "posts_data_filtered = posts_data_simplified.select(\"year\", explode(\"tags\").alias(\"tag\"), \"views\")\n",
    "\n",
    "# Объединение таблиц для того, чтобы оставить только те строки, где поле tag у постов является языком программирования\n",
    "posts_data_filtered = posts_data_filtered.join(prog_lang_data_modified,\n",
    "                                    (posts_data_filtered[\"tag\"] == prog_lang_data_modified[\"tag_lowercase\"]),\n",
    "                                    \"inner\")\n",
    "\n",
    "# Выбор нужных столбцов\n",
    "posts_data_filtered = posts_data_filtered.select(\"year\", \"tag\", \"views\")\n",
    "\n",
    "# Отображение результата\n",
    "posts_data_filtered.show()"
   ],
   "outputs": [
    {
     "name": "stdout",
     "output_type": "stream",
     "text": [
      "+----+-----------+-----+\n",
      "|year|        tag|views|\n",
      "+----+-----------+-----+\n",
      "|2010|       java|  132|\n",
      "|2010|        php| 1258|\n",
      "|2015|       ruby| 9649|\n",
      "|2010|          c| 2384|\n",
      "|2015|        php| 1987|\n",
      "|2010|     python| 3321|\n",
      "|2010| javascript|  128|\n",
      "|2010|applescript|  477|\n",
      "|2010|        php| 1748|\n",
      "|2010|        php|  998|\n",
      "|2013| javascript| 2095|\n",
      "|2010|        sed|  447|\n",
      "|2015|     python| 6558|\n",
      "|2015|       java|  214|\n",
      "|2015|       ruby|  214|\n",
      "|2013|objective-c|  852|\n",
      "|2010| javascript|  179|\n",
      "|2010|          r| 6709|\n",
      "|2010|        php|   78|\n",
      "|2010| javascript| 1280|\n",
      "+----+-----------+-----+\n",
      "only showing top 20 rows\n",
      "\n"
     ]
    }
   ],
   "execution_count": 9
  },
  {
   "cell_type": "markdown",
   "id": "274922b5-3583-4f7b-bdd1-0bd1079e485c",
   "metadata": {
    "id": "274922b5-3583-4f7b-bdd1-0bd1079e485c"
   },
   "source": [
    "## Составление полного отчета"
   ]
  },
  {
   "cell_type": "code",
   "id": "0967b9ff-cf1c-4ded-83d4-5601827ce30b",
   "metadata": {
    "colab": {
     "base_uri": "https://localhost:8080/"
    },
    "id": "0967b9ff-cf1c-4ded-83d4-5601827ce30b",
    "outputId": "c8972c62-f560-4527-bcd4-bb15159ed353",
    "ExecuteTime": {
     "end_time": "2024-04-21T15:24:20.929492Z",
     "start_time": "2024-04-21T15:24:13.414706Z"
    }
   },
   "source": [
    "# Группировка по году последней активности и тегам, суммирование всех просмотров для каждого языка программирования в пределах одного года\n",
    "posts_data_sorted = posts_data_filtered.groupBy(\"year\", \"tag\").agg(sum(\"views\").alias(\"total_views\"))\n",
    "\n",
    "# Сортировка по году и количеству просмотров\n",
    "posts_data_sorted = posts_data_sorted.orderBy(\"year\", desc(\"total_views\"))\n",
    "\n",
    "# Отображение результата\n",
    "posts_data_sorted.show()"
   ],
   "outputs": [
    {
     "name": "stdout",
     "output_type": "stream",
     "text": [
      "+----+------------+-----------+\n",
      "|year|         tag|total_views|\n",
      "+----+------------+-----------+\n",
      "|2008|        java|      11532|\n",
      "|2008|        ruby|       1843|\n",
      "|2008|         x++|       1363|\n",
      "|2009|      python|      32219|\n",
      "|2009|  javascript|      17139|\n",
      "|2009|           c|      16356|\n",
      "|2009|        java|      13533|\n",
      "|2009|         php|      12876|\n",
      "|2009|        bash|       4410|\n",
      "|2009|     haskell|       3992|\n",
      "|2009|       xpath|       3869|\n",
      "|2009| objective-c|       3671|\n",
      "|2009|      delphi|       3477|\n",
      "|2009|        ruby|       2844|\n",
      "|2009|  powershell|        536|\n",
      "|2009|actionscript|        318|\n",
      "|2010|        java|      53333|\n",
      "|2010|      matlab|      51865|\n",
      "|2010| objective-c|      43878|\n",
      "|2010|         php|      39730|\n",
      "+----+------------+-----------+\n",
      "only showing top 20 rows\n",
      "\n"
     ]
    }
   ],
   "execution_count": 10
  },
  {
   "cell_type": "markdown",
   "id": "e9473f4d-91d8-4e68-b3f0-9d1cae92912e",
   "metadata": {
    "id": "e9473f4d-91d8-4e68-b3f0-9d1cae92912e"
   },
   "source": [
    "## Составление итогового отчета (N самых популярных языков программирования за год)"
   ]
  },
  {
   "cell_type": "code",
   "id": "089ad1aa-8f74-4c13-bb17-6483c174be9b",
   "metadata": {
    "colab": {
     "base_uri": "https://localhost:8080/"
    },
    "id": "089ad1aa-8f74-4c13-bb17-6483c174be9b",
    "outputId": "0130b070-442d-47e6-c1ad-9bdd3d391ff8",
    "ExecuteTime": {
     "end_time": "2024-04-21T15:24:31.775994Z",
     "start_time": "2024-04-21T15:24:23.979617Z"
    }
   },
   "source": [
    "# Разбиение по году последней активности для нумерации языков программирования в соответствии с их популярностью\n",
    "window_spec = Window.partitionBy(\"year\").orderBy(posts_data_sorted[\"total_views\"].desc())\n",
    "\n",
    "# Добавление столбца rank, определяющего положение языка программирования в топе\n",
    "posts_data_with_ranks = posts_data_sorted.withColumn(\"rank\", rank().over(window_spec))\n",
    "\n",
    "# Оставляем только первые N языков программирования для каждого года\n",
    "languages_per_year = 10\n",
    "posts_data_sorted_result = posts_data_with_ranks.filter(posts_data_with_ranks[\"rank\"] <= languages_per_year)\n",
    "\n",
    "# Удаление столбца rank\n",
    "posts_data_sorted_result = posts_data_sorted_result.drop(col(\"rank\"))\n",
    "\n",
    "# Сортировка по году и количеству просмотров\n",
    "posts_data_sorted_result = posts_data_sorted_result.orderBy(\"year\", desc(\"total_views\"))\n",
    "\n",
    "# Отображение результата\n",
    "posts_data_sorted_result.show()"
   ],
   "outputs": [
    {
     "name": "stdout",
     "output_type": "stream",
     "text": [
      "+----+-----------+-----------+\n",
      "|year|        tag|total_views|\n",
      "+----+-----------+-----------+\n",
      "|2008|       java|      11532|\n",
      "|2008|       ruby|       1843|\n",
      "|2008|        x++|       1363|\n",
      "|2009|     python|      32219|\n",
      "|2009| javascript|      17139|\n",
      "|2009|          c|      16356|\n",
      "|2009|       java|      13533|\n",
      "|2009|        php|      12876|\n",
      "|2009|       bash|       4410|\n",
      "|2009|    haskell|       3992|\n",
      "|2009|      xpath|       3869|\n",
      "|2009|objective-c|       3671|\n",
      "|2009|     delphi|       3477|\n",
      "|2010|       java|      53333|\n",
      "|2010|     matlab|      51865|\n",
      "|2010|objective-c|      43878|\n",
      "|2010|        php|      39730|\n",
      "|2010| javascript|      37059|\n",
      "|2010|     python|      25930|\n",
      "|2010|       ruby|      15864|\n",
      "+----+-----------+-----------+\n",
      "only showing top 20 rows\n",
      "\n"
     ]
    }
   ],
   "execution_count": 11
  },
  {
   "cell_type": "markdown",
   "id": "2aa7364d-b6ea-4f09-acac-fbc0e1d88523",
   "metadata": {
    "id": "2aa7364d-b6ea-4f09-acac-fbc0e1d88523"
   },
   "source": [
    "## Сохранение результата в формате Apache Parquet"
   ]
  },
  {
   "cell_type": "code",
   "id": "b3425421-25e9-4aca-a24f-d3764f19b7ce",
   "metadata": {
    "id": "b3425421-25e9-4aca-a24f-d3764f19b7ce",
    "ExecuteTime": {
     "end_time": "2024-04-21T15:24:42.630837Z",
     "start_time": "2024-04-21T15:24:34.606315Z"
    }
   },
   "source": [
    "posts_data_sorted_result.write.format('parquet').save('top', mode='overwrite')"
   ],
   "outputs": [],
   "execution_count": 12
  },
  {
   "metadata": {},
   "cell_type": "code",
   "outputs": [],
   "execution_count": null,
   "source": "",
   "id": "1094fc21398c1ab8"
  }
 ],
 "metadata": {
  "kernelspec": {
   "display_name": "Python 3",
   "language": "python",
   "name": "python3"
  },
  "language_info": {
   "codemirror_mode": {
    "name": "ipython",
    "version": 3
   },
   "file_extension": ".py",
   "mimetype": "text/x-python",
   "name": "python",
   "nbconvert_exporter": "python",
   "pygments_lexer": "ipython3",
   "version": "3.9.5"
  },
  "colab": {
   "provenance": []
  }
 },
 "nbformat": 4,
 "nbformat_minor": 5
}
