{
 "cells": [
  {
   "cell_type": "markdown",
   "metadata": {
    "id": "82OvPKEiEqjc"
   },
   "source": [
    "# Введение в MapReduce модель на Python\n"
   ]
  },
  {
   "cell_type": "code",
   "execution_count": 1,
   "metadata": {
    "id": "JQ2cvXLjICmI"
   },
   "outputs": [],
   "source": [
    "from typing import NamedTuple # requires python 3.6+\n",
    "from typing import Iterator\n",
    "import random"
   ]
  },
  {
   "cell_type": "code",
   "execution_count": 2,
   "metadata": {
    "id": "yjPHumVwEyEg"
   },
   "outputs": [],
   "source": [
    "def MAP(_, row:NamedTuple):\n",
    "  if (row.gender == 'female'):\n",
    "    yield (row.age, row)\n",
    "\n",
    "def REDUCE(age:str, rows:Iterator[NamedTuple]):\n",
    "  sum = 0\n",
    "  count = 0\n",
    "  for row in rows:\n",
    "    sum += row.social_contacts\n",
    "    count += 1\n",
    "  if (count > 0):\n",
    "    yield (age, sum/count)\n",
    "  else:\n",
    "    yield (age, 0)"
   ]
  },
  {
   "cell_type": "markdown",
   "metadata": {
    "id": "vBKMgpG_ilaZ"
   },
   "source": [
    "Модель элемента данных"
   ]
  },
  {
   "cell_type": "code",
   "execution_count": 3,
   "metadata": {
    "id": "Rv-XIjhTJPx3"
   },
   "outputs": [],
   "source": [
    "class User(NamedTuple):\n",
    "  id: int\n",
    "  age: str\n",
    "  social_contacts: int\n",
    "  gender: str"
   ]
  },
  {
   "cell_type": "code",
   "execution_count": 4,
   "metadata": {
    "id": "5KV0Ze2vQgu5"
   },
   "outputs": [],
   "source": [
    "input_collection = [\n",
    "    User(id=0, age=55, gender='male', social_contacts=20),\n",
    "    User(id=1, age=25, gender='female', social_contacts=240),\n",
    "    User(id=2, age=25, gender='female', social_contacts=500),\n",
    "    User(id=3, age=33, gender='female', social_contacts=800)\n",
    "]"
   ]
  },
  {
   "cell_type": "markdown",
   "metadata": {
    "id": "YFeqzyZxZIFZ"
   },
   "source": [
    "Функция RECORDREADER моделирует чтение элементов с диска или по сети."
   ]
  },
  {
   "cell_type": "code",
   "execution_count": 5,
   "metadata": {
    "id": "S5HR4E_GQoMJ"
   },
   "outputs": [],
   "source": [
    "def RECORDREADER():\n",
    "  return [(u.id, u) for u in input_collection]"
   ]
  },
  {
   "cell_type": "code",
   "execution_count": 6,
   "metadata": {
    "colab": {
     "base_uri": "https://localhost:8080/"
    },
    "id": "NeEoWla-ROUy",
    "outputId": "255b0943-2a40-44cf-8845-45cdbe2af29e"
   },
   "outputs": [
    {
     "data": {
      "text/plain": [
       "[(0, User(id=0, age=55, social_contacts=20, gender='male')),\n",
       " (1, User(id=1, age=25, social_contacts=240, gender='female')),\n",
       " (2, User(id=2, age=25, social_contacts=500, gender='female')),\n",
       " (3, User(id=3, age=33, social_contacts=800, gender='female'))]"
      ]
     },
     "execution_count": 6,
     "metadata": {},
     "output_type": "execute_result"
    }
   ],
   "source": [
    "list(RECORDREADER())"
   ]
  },
  {
   "cell_type": "code",
   "execution_count": 7,
   "metadata": {
    "id": "YB8orgPSZs8M"
   },
   "outputs": [],
   "source": [
    "def flatten(nested_iterable):\n",
    "  for iterable in nested_iterable:\n",
    "    for element in iterable:\n",
    "      yield element"
   ]
  },
  {
   "cell_type": "code",
   "execution_count": 8,
   "metadata": {
    "colab": {
     "base_uri": "https://localhost:8080/"
    },
    "id": "74oyvDLaRmd5",
    "outputId": "087b968f-0c49-4a97-8744-7d61bca11ead"
   },
   "outputs": [
    {
     "data": {
      "text/plain": [
       "[(25, User(id=1, age=25, social_contacts=240, gender='female')),\n",
       " (25, User(id=2, age=25, social_contacts=500, gender='female')),\n",
       " (33, User(id=3, age=33, social_contacts=800, gender='female'))]"
      ]
     },
     "execution_count": 8,
     "metadata": {},
     "output_type": "execute_result"
    }
   ],
   "source": [
    "map_output = flatten(map(lambda x: MAP(*x), RECORDREADER()))\n",
    "map_output = list(map_output) # materialize\n",
    "map_output"
   ]
  },
  {
   "cell_type": "code",
   "execution_count": 9,
   "metadata": {
    "id": "8ncYDJ3-VzDn"
   },
   "outputs": [],
   "source": [
    "def groupbykey(iterable):\n",
    "  t = {}\n",
    "  for (k2, v2) in iterable:\n",
    "    t[k2] = t.get(k2, []) + [v2]\n",
    "  return t.items()"
   ]
  },
  {
   "cell_type": "code",
   "execution_count": 10,
   "metadata": {
    "colab": {
     "base_uri": "https://localhost:8080/"
    },
    "id": "cKzY_6COWOA2",
    "outputId": "adac8882-d8ea-495c-fefd-3e2b0e629c9c"
   },
   "outputs": [
    {
     "data": {
      "text/plain": [
       "[(25,\n",
       "  [User(id=1, age=25, social_contacts=240, gender='female'),\n",
       "   User(id=2, age=25, social_contacts=500, gender='female')]),\n",
       " (33, [User(id=3, age=33, social_contacts=800, gender='female')])]"
      ]
     },
     "execution_count": 10,
     "metadata": {},
     "output_type": "execute_result"
    }
   ],
   "source": [
    "shuffle_output = groupbykey(map_output)\n",
    "shuffle_output = list(shuffle_output)\n",
    "shuffle_output"
   ]
  },
  {
   "cell_type": "code",
   "execution_count": 11,
   "metadata": {
    "colab": {
     "base_uri": "https://localhost:8080/"
    },
    "id": "NlA7lkDDYL0t",
    "outputId": "a8ca0809-b15f-4e87-b59c-53cb76918caa"
   },
   "outputs": [
    {
     "data": {
      "text/plain": [
       "[(25, 370.0), (33, 800.0)]"
      ]
     },
     "execution_count": 11,
     "metadata": {},
     "output_type": "execute_result"
    }
   ],
   "source": [
    "reduce_output = flatten(map(lambda x: REDUCE(*x), shuffle_output))\n",
    "reduce_output = list(reduce_output)\n",
    "reduce_output"
   ]
  },
  {
   "cell_type": "markdown",
   "metadata": {
    "id": "xf6qhHEtd6bI"
   },
   "source": [
    "Все действия одним конвейером!"
   ]
  },
  {
   "cell_type": "code",
   "execution_count": 12,
   "metadata": {
    "colab": {
     "base_uri": "https://localhost:8080/"
    },
    "id": "dZaQGYxCdpw5",
    "outputId": "8e8fd391-b67f-47a8-997e-ab26d3f425c1"
   },
   "outputs": [
    {
     "data": {
      "text/plain": [
       "[(25, 370.0), (33, 800.0)]"
      ]
     },
     "execution_count": 12,
     "metadata": {},
     "output_type": "execute_result"
    }
   ],
   "source": [
    "list(flatten(map(lambda x: REDUCE(*x), groupbykey(flatten(map(lambda x: MAP(*x), RECORDREADER()))))))"
   ]
  },
  {
   "cell_type": "markdown",
   "metadata": {
    "id": "Vq3EWRIpwSiJ"
   },
   "source": [
    "# **MapReduce**\n",
    "Выделим общую для всех пользователей часть системы в отдельную функцию высшего порядка. Это наиболее простая модель MapReduce, без учёта распределённого хранения данных.\n",
    "\n",
    "Пользователь для решения своей задачи реализует RECORDREADER, MAP, REDUCE."
   ]
  },
  {
   "cell_type": "code",
   "execution_count": 13,
   "metadata": {
    "id": "V1PZeQMwwVjc"
   },
   "outputs": [],
   "source": [
    "def flatten(nested_iterable):\n",
    "  for iterable in nested_iterable:\n",
    "    for element in iterable:\n",
    "      yield element\n",
    "\n",
    "def groupbykey(iterable):\n",
    "  t = {}\n",
    "  for (k2, v2) in iterable:\n",
    "    t[k2] = t.get(k2, []) + [v2]\n",
    "  return t.items()\n",
    "\n",
    "def MapReduce(RECORDREADER, MAP, REDUCE):\n",
    "  return flatten(map(lambda x: REDUCE(*x), groupbykey(flatten(map(lambda x: MAP(*x), RECORDREADER())))))"
   ]
  },
  {
   "cell_type": "markdown",
   "metadata": {
    "id": "iFIVrimep678"
   },
   "source": [
    "## Спецификация MapReduce\n",
    "\n",
    "\n",
    "\n",
    "```\n",
    "f (k1, v1) -> (k2,v2)*\n",
    "g (k2, v2*) -> (k3,v3)*\n",
    "\n",
    "mapreduce ((k1,v1)*) -> (k3,v3)*\n",
    "groupby ((k2,v2)*) -> (k2,v2*)*\n",
    "flatten (e2**) -> e2*\n",
    "\n",
    "mapreduce .map(f).flatten.groupby(k2).map(g).flatten\n",
    "```\n",
    "\n",
    "\n"
   ]
  },
  {
   "cell_type": "markdown",
   "metadata": {
    "id": "QtTFyqke3KGe"
   },
   "source": [
    "# Примеры"
   ]
  },
  {
   "cell_type": "markdown",
   "metadata": {
    "id": "BNhh5763w5Vn"
   },
   "source": [
    "## SQL"
   ]
  },
  {
   "cell_type": "code",
   "execution_count": 14,
   "metadata": {
    "colab": {
     "base_uri": "https://localhost:8080/"
    },
    "id": "QkyurnvGxBGk",
    "outputId": "1b5e6b6e-5dc6-4f38-8776-0707424a5889"
   },
   "outputs": [
    {
     "data": {
      "text/plain": [
       "[(25, 370.0), (33, 800.0)]"
      ]
     },
     "execution_count": 14,
     "metadata": {},
     "output_type": "execute_result"
    }
   ],
   "source": [
    "from typing import NamedTuple # requires python 3.6+\n",
    "from typing import Iterator\n",
    "\n",
    "class User(NamedTuple):\n",
    "  id: int\n",
    "  age: str\n",
    "  social_contacts: int\n",
    "  gender: str\n",
    "\n",
    "input_collection = [\n",
    "    User(id=0, age=55, gender='male', social_contacts=20),\n",
    "    User(id=1, age=25, gender='female', social_contacts=240),\n",
    "    User(id=2, age=25, gender='female', social_contacts=500),\n",
    "    User(id=3, age=33, gender='female', social_contacts=800)\n",
    "]\n",
    "\n",
    "def MAP(_, row:NamedTuple):\n",
    "  if (row.gender == 'female'):\n",
    "    yield (row.age, row)\n",
    "\n",
    "def REDUCE(age:str, rows:Iterator[NamedTuple]):\n",
    "  sum = 0\n",
    "  count = 0\n",
    "  for row in rows:\n",
    "    sum += row.social_contacts\n",
    "    count += 1\n",
    "  if (count > 0):\n",
    "    yield (age, sum/count)\n",
    "  else:\n",
    "    yield (age, 0)\n",
    "\n",
    "def RECORDREADER():\n",
    "  return [(u.id, u) for u in input_collection]\n",
    "\n",
    "output = MapReduce(RECORDREADER, MAP, REDUCE)\n",
    "output = list(output)\n",
    "output"
   ]
  },
  {
   "cell_type": "markdown",
   "metadata": {
    "id": "kNKYIeerx0nY"
   },
   "source": [
    "## Matrix-Vector multiplication"
   ]
  },
  {
   "cell_type": "code",
   "execution_count": 15,
   "metadata": {
    "colab": {
     "base_uri": "https://localhost:8080/"
    },
    "id": "rwcntRcCyi1V",
    "outputId": "be84fc47-cd7e-4b45-e55f-3f5fbee8c282"
   },
   "outputs": [
    {
     "data": {
      "text/plain": [
       "[(0, 2.469969741728446),\n",
       " (1, 2.469969741728446),\n",
       " (2, 2.469969741728446),\n",
       " (3, 2.469969741728446),\n",
       " (4, 2.469969741728446)]"
      ]
     },
     "execution_count": 15,
     "metadata": {},
     "output_type": "execute_result"
    }
   ],
   "source": [
    "from typing import Iterator\n",
    "import numpy as np\n",
    "\n",
    "mat = np.ones((5,4))\n",
    "vec = np.random.rand(4) # in-memory vector in all map tasks\n",
    "\n",
    "def MAP(coordinates:(int, int), value:int):\n",
    "  i, j = coordinates\n",
    "  yield (i, value*vec[j])\n",
    "\n",
    "def REDUCE(i:int, products:Iterator[NamedTuple]):\n",
    "  sum = 0\n",
    "  for p in products:\n",
    "    sum += p\n",
    "  yield (i, sum)\n",
    "\n",
    "def RECORDREADER():\n",
    "  for i in range(mat.shape[0]):\n",
    "    for j in range(mat.shape[1]):\n",
    "      yield ((i, j), mat[i,j])\n",
    "\n",
    "output = MapReduce(RECORDREADER, MAP, REDUCE)\n",
    "output = list(output)\n",
    "output"
   ]
  },
  {
   "cell_type": "markdown",
   "metadata": {
    "id": "ruZREYdi2o4O"
   },
   "source": [
    "## Inverted index"
   ]
  },
  {
   "cell_type": "code",
   "execution_count": 16,
   "metadata": {
    "colab": {
     "base_uri": "https://localhost:8080/"
    },
    "id": "vt9H9Alf3TYv",
    "outputId": "44890a0c-6995-4842-d785-4d17f52d6291"
   },
   "outputs": [
    {
     "data": {
      "text/plain": [
       "[('it', ['0', '1', '2']),\n",
       " ('what', ['0', '1']),\n",
       " ('is', ['0', '1', '2']),\n",
       " ('a', ['2']),\n",
       " ('banana', ['2'])]"
      ]
     },
     "execution_count": 16,
     "metadata": {},
     "output_type": "execute_result"
    }
   ],
   "source": [
    "from typing import Iterator\n",
    "\n",
    "d1 = \"it is what it is\"\n",
    "d2 = \"what is it\"\n",
    "d3 = \"it is a banana\"\n",
    "documents = [d1, d2, d3]\n",
    "\n",
    "def RECORDREADER():\n",
    "  for (docid, document) in enumerate(documents):\n",
    "    yield (\"{}\".format(docid), document)\n",
    "\n",
    "def MAP(docId:str, body:str):\n",
    "  for word in set(body.split(' ')):\n",
    "    yield (word, docId)\n",
    "\n",
    "def REDUCE(word:str, docIds:Iterator[str]):\n",
    "  yield (word, sorted(docIds))\n",
    "\n",
    "output = MapReduce(RECORDREADER, MAP, REDUCE)\n",
    "output = list(output)\n",
    "output"
   ]
  },
  {
   "cell_type": "markdown",
   "metadata": {
    "id": "R7az-6DA6qr2"
   },
   "source": [
    "## WordCount"
   ]
  },
  {
   "cell_type": "code",
   "execution_count": 17,
   "metadata": {
    "colab": {
     "base_uri": "https://localhost:8080/"
    },
    "id": "dN-nbtgG6uYG",
    "outputId": "841a3566-ea84-480e-9337-7edc13bf928b"
   },
   "outputs": [
    {
     "data": {
      "text/plain": [
       "[('', 3), ('it', 9), ('is', 9), ('what', 5), ('a', 1), ('banana', 1)]"
      ]
     },
     "execution_count": 17,
     "metadata": {},
     "output_type": "execute_result"
    }
   ],
   "source": [
    "from typing import Iterator\n",
    "\n",
    "d1 = \"\"\"\n",
    "it is what it is\n",
    "it is what it is\n",
    "it is what it is\"\"\"\n",
    "d2 = \"\"\"\n",
    "what is it\n",
    "what is it\"\"\"\n",
    "d3 = \"\"\"\n",
    "it is a banana\"\"\"\n",
    "documents = [d1, d2, d3]\n",
    "\n",
    "def RECORDREADER():\n",
    "  for (docid, document) in enumerate(documents):\n",
    "    for (lineid, line) in enumerate(document.split('\\n')):\n",
    "      yield (\"{}:{}\".format(docid,lineid), line)\n",
    "\n",
    "def MAP(docId:str, line:str):\n",
    "  for word in line.split(\" \"):\n",
    "    yield (word, 1)\n",
    "\n",
    "def REDUCE(word:str, counts:Iterator[int]):\n",
    "  sum = 0\n",
    "  for c in counts:\n",
    "    sum += c\n",
    "  yield (word, sum)\n",
    "\n",
    "output = MapReduce(RECORDREADER, MAP, REDUCE)\n",
    "output = list(output)\n",
    "output"
   ]
  },
  {
   "cell_type": "markdown",
   "metadata": {
    "id": "h-jRAcYCAkkk"
   },
   "source": [
    "# MapReduce Distributed\n",
    "\n",
    "Добавляется в модель фабрика RECORDREARER-ов --- INPUTFORMAT, функция распределения промежуточных результатов по партициям PARTITIONER, и функция COMBINER для частичной аггрегации промежуточных результатов до распределения по новым партициям."
   ]
  },
  {
   "cell_type": "code",
   "execution_count": 18,
   "metadata": {
    "id": "nw-b-xJsApgW"
   },
   "outputs": [],
   "source": [
    "def flatten(nested_iterable):\n",
    "  for iterable in nested_iterable:\n",
    "    for element in iterable:\n",
    "      yield element\n",
    "\n",
    "def groupbykey(iterable):\n",
    "  t = {}\n",
    "  for (k2, v2) in iterable:\n",
    "    t[k2] = t.get(k2, []) + [v2]\n",
    "  return t.items()\n",
    "\n",
    "def groupbykey_distributed(map_partitions, PARTITIONER):\n",
    "  global reducers\n",
    "  partitions = [dict() for _ in range(reducers)]\n",
    "  for map_partition in map_partitions:\n",
    "    for (k2, v2) in map_partition:\n",
    "      p = partitions[PARTITIONER(k2)]\n",
    "      p[k2] = p.get(k2, []) + [v2]\n",
    "  return [(partition_id, sorted(partition.items(), key=lambda x: x[0])) for (partition_id, partition) in enumerate(partitions)]\n",
    "\n",
    "def PARTITIONER(obj):\n",
    "  global reducers\n",
    "  return hash(obj) % reducers\n",
    "\n",
    "def MapReduceDistributed(INPUTFORMAT, MAP, REDUCE, PARTITIONER=PARTITIONER, COMBINER=None):\n",
    "  map_partitions = map(lambda record_reader: flatten(map(lambda k1v1: MAP(*k1v1), record_reader)), INPUTFORMAT())\n",
    "  if COMBINER != None:\n",
    "    map_partitions = map(lambda map_partition: flatten(map(lambda k2v2: COMBINER(*k2v2), groupbykey(map_partition))), map_partitions)\n",
    "  reduce_partitions = groupbykey_distributed(map_partitions, PARTITIONER) # shuffle\n",
    "  reduce_outputs = map(lambda reduce_partition: (reduce_partition[0], flatten(map(lambda reduce_input_group: REDUCE(*reduce_input_group), reduce_partition[1]))), reduce_partitions)\n",
    "\n",
    "  print(\"{} key-value pairs were sent over a network.\".format(sum([len(vs) for (k,vs) in flatten([partition for (partition_id, partition) in reduce_partitions])])))\n",
    "  return reduce_outputs"
   ]
  },
  {
   "cell_type": "markdown",
   "metadata": {
    "id": "kxirlf3XqZxY"
   },
   "source": [
    "## Спецификация MapReduce Distributed\n",
    "\n",
    "\n",
    "```\n",
    "f (k1, v1) -> (k2,v2)*\n",
    "g (k2, v2*) -> (k3,v3)*\n",
    "\n",
    "e1 (k1, v1)\n",
    "e2 (k2, v2)\n",
    "partition1 (k2, v2)*\n",
    "partition2 (k2, v2*)*\n",
    "\n",
    "flatmap (e1->e2*, e1*) -> partition1*\n",
    "groupby (partition1*) -> partition2*\n",
    "\n",
    "mapreduce ((k1,v1)*) -> (k3,v3)*\n",
    "mapreduce .flatmap(f).groupby(k2).flatmap(g)\n",
    "```\n",
    "\n"
   ]
  },
  {
   "cell_type": "markdown",
   "metadata": {
    "id": "CWYw_CpbbY3C"
   },
   "source": [
    "## WordCount"
   ]
  },
  {
   "cell_type": "code",
   "execution_count": 19,
   "metadata": {
    "colab": {
     "base_uri": "https://localhost:8080/"
    },
    "id": "uR_zfGFkMZlp",
    "outputId": "b02648a1-1fd6-4795-8f71-d38fc94182ac"
   },
   "outputs": [
    {
     "name": "stdout",
     "output_type": "stream",
     "text": [
      "56 key-value pairs were sent over a network.\n"
     ]
    },
    {
     "data": {
      "text/plain": [
       "[(0, [('', 6), ('banana', 2), ('what', 10)]),\n",
       " (1, [('a', 2), ('is', 18), ('it', 18)])]"
      ]
     },
     "execution_count": 19,
     "metadata": {},
     "output_type": "execute_result"
    }
   ],
   "source": [
    "from typing import Iterator\n",
    "import numpy as np\n",
    "\n",
    "d1 = \"\"\"\n",
    "it is what it is\n",
    "it is what it is\n",
    "it is what it is\"\"\"\n",
    "d2 = \"\"\"\n",
    "what is it\n",
    "what is it\"\"\"\n",
    "d3 = \"\"\"\n",
    "it is a banana\"\"\"\n",
    "documents = [d1, d2, d3, d1, d2, d3]\n",
    "\n",
    "maps = 3\n",
    "reducers = 2\n",
    "\n",
    "def INPUTFORMAT():\n",
    "  global maps\n",
    "\n",
    "  def RECORDREADER(split):\n",
    "    for (docid, document) in enumerate(split):\n",
    "      for (lineid, line) in enumerate(document.split('\\n')):\n",
    "        yield (\"{}:{}\".format(docid,lineid), line)\n",
    "\n",
    "  split_size =  int(np.ceil(len(documents)/maps))\n",
    "  for i in range(0, len(documents), split_size):\n",
    "    yield RECORDREADER(documents[i:i+split_size])\n",
    "\n",
    "def MAP(docId:str, line:str):\n",
    "  for word in line.split(\" \"):\n",
    "    yield (word, 1)\n",
    "\n",
    "def REDUCE(word:str, counts:Iterator[int]):\n",
    "  sum = 0\n",
    "  for c in counts:\n",
    "    sum += c\n",
    "  yield (word, sum)\n",
    "\n",
    "# try to set COMBINER=REDUCER and look at the number of values sent over the network\n",
    "partitioned_output = MapReduceDistributed(INPUTFORMAT, MAP, REDUCE, COMBINER=None)\n",
    "partitioned_output = [(partition_id, list(partition)) for (partition_id, partition) in partitioned_output]\n",
    "partitioned_output"
   ]
  },
  {
   "cell_type": "markdown",
   "metadata": {
    "id": "gCJGx8IQ87xS"
   },
   "source": [
    "## TeraSort"
   ]
  },
  {
   "cell_type": "code",
   "execution_count": 20,
   "metadata": {
    "colab": {
     "base_uri": "https://localhost:8080/"
    },
    "id": "P2v8v1v_8_YR",
    "outputId": "abaa9723-17b0-466b-a337-a44ca1a62ead"
   },
   "outputs": [
    {
     "name": "stdout",
     "output_type": "stream",
     "text": [
      "30 key-value pairs were sent over a network.\n"
     ]
    },
    {
     "data": {
      "text/plain": [
       "[(0,\n",
       "  [(None, 0.009325765027667465),\n",
       "   (None, 0.03446646969359268),\n",
       "   (None, 0.03792538746967333),\n",
       "   (None, 0.07342778254068916),\n",
       "   (None, 0.0968676420982374),\n",
       "   (None, 0.16151215297839372),\n",
       "   (None, 0.16674924068003716),\n",
       "   (None, 0.17352434522054971),\n",
       "   (None, 0.18127715038885106),\n",
       "   (None, 0.19975852666773308),\n",
       "   (None, 0.2138185336168993),\n",
       "   (None, 0.2555421333925434),\n",
       "   (None, 0.29762502377751754),\n",
       "   (None, 0.3081339028662574),\n",
       "   (None, 0.3229944231369988),\n",
       "   (None, 0.3773635864959637),\n",
       "   (None, 0.4087249444125036),\n",
       "   (None, 0.4598927289973461)]),\n",
       " (1,\n",
       "  [(None, 0.5342198278090078),\n",
       "   (None, 0.5967188809991392),\n",
       "   (None, 0.6164230973829381),\n",
       "   (None, 0.71859885174973),\n",
       "   (None, 0.7297848079358737),\n",
       "   (None, 0.8099248379077906),\n",
       "   (None, 0.8606459942631931),\n",
       "   (None, 0.9278904831191764),\n",
       "   (None, 0.9619783296010332),\n",
       "   (None, 0.9834848649864824),\n",
       "   (None, 0.9871084912728156),\n",
       "   (None, 0.998405990674578)])]"
      ]
     },
     "execution_count": 20,
     "metadata": {},
     "output_type": "execute_result"
    }
   ],
   "source": [
    "import numpy as np\n",
    "\n",
    "input_values = np.random.rand(30)\n",
    "maps = 3\n",
    "reducers = 2\n",
    "min_value = 0.0\n",
    "max_value = 1.0\n",
    "\n",
    "def INPUTFORMAT():\n",
    "  global maps\n",
    "\n",
    "  def RECORDREADER(split):\n",
    "    for value in split:\n",
    "        yield (value, None)\n",
    "\n",
    "  split_size =  int(np.ceil(len(input_values)/maps))\n",
    "  for i in range(0, len(input_values), split_size):\n",
    "    yield RECORDREADER(input_values[i:i+split_size])\n",
    "\n",
    "def MAP(value:int, _):\n",
    "  yield (value, None)\n",
    "\n",
    "def PARTITIONER(key):\n",
    "  global reducers\n",
    "  global max_value\n",
    "  global min_value\n",
    "  bucket_size = (max_value-min_value)/reducers\n",
    "  bucket_id = 0\n",
    "  while((key>(bucket_id+1)*bucket_size) and ((bucket_id+1)*bucket_size<max_value)):\n",
    "    bucket_id += 1\n",
    "  return bucket_id\n",
    "\n",
    "def REDUCE(value:int, _):\n",
    "  yield (None,value)\n",
    "\n",
    "partitioned_output = MapReduceDistributed(INPUTFORMAT, MAP, REDUCE, COMBINER=None, PARTITIONER=PARTITIONER)\n",
    "partitioned_output = [(partition_id, list(partition)) for (partition_id, partition) in partitioned_output]\n",
    "partitioned_output"
   ]
  },
  {
   "cell_type": "code",
   "execution_count": 74,
   "metadata": {
    "id": "MQhoJaVZI93G"
   },
   "outputs": [],
   "source": []
  },
  {
   "cell_type": "markdown",
   "metadata": {
    "id": "Iy65YJTH99iT"
   },
   "source": [
    "# Упражнения\n",
    "Упражнения взяты из Rajaraman A., Ullman J. D. Mining of massive datasets. – Cambridge University Press, 2011.\n",
    "\n",
    "\n",
    "Для выполнения заданий переопределите функции RECORDREADER, MAP, REDUCE. Для модели распределённой системы может потребоваться переопределение функций PARTITION и COMBINER."
   ]
  },
  {
   "cell_type": "markdown",
   "metadata": {
    "id": "cfvAeZm3S8S8"
   },
   "source": [
    "### Максимальное значение ряда\n",
    "\n",
    "Разработайте MapReduce алгоритм, который находит максимальное число входного списка чисел."
   ]
  },
  {
   "cell_type": "code",
   "execution_count": 26,
   "metadata": {
    "colab": {
     "base_uri": "https://localhost:8080/"
    },
    "id": "3GRA1JR-Tkbg",
    "outputId": "769877d1-42ed-4c38-e7bf-280babb14030"
   },
   "outputs": [
    {
     "name": "stdout",
     "output_type": "stream",
     "text": [
      "records:\n",
      " [61, 170, 30, 65, 5, 58, 148, 88, 65, 94, 179, 198, 59, 181, 1, 71, 157, 0, 174, 4, 187, 66, 189, 81, 191, 118, 87, 166, 74, 139, 52, 154, 49, 53, 183, 199, 144, 184, 82, 153, 160, 76, 21, 144, 113, 112, 152, 118, 50, 166, 186, 121, 154, 152, 61, 196, 155, 192, 134, 102, 76, 62, 64, 169, 15, 68, 16, 2, 135, 12, 91, 111, 136, 101, 73, 6, 49, 109, 83, 14, 75, 83, 182, 28, 171, 90, 158, 173, 169, 103, 23, 188, 185, 51, 36, 0, 197, 97, 54, 182] \n",
      "\n",
      "records partitional:\n",
      " [[61, 170, 30, 65, 5], [58, 148, 88, 65, 94], [179, 198, 59, 181, 1], [71, 157, 0, 174, 4], [187, 66, 189, 81, 191], [118, 87, 166, 74, 139], [52, 154, 49, 53, 183], [199, 144, 184, 82, 153], [160, 76, 21, 144, 113], [112, 152, 118, 50, 166], [186, 121, 154, 152, 61], [196, 155, 192, 134, 102], [76, 62, 64, 169, 15], [68, 16, 2, 135, 12], [91, 111, 136, 101, 73], [6, 49, 109, 83, 14], [75, 83, 182, 28, 171], [90, 158, 173, 169, 103], [23, 188, 185, 51, 36], [0, 197, 97, 54, 182]] \n",
      "\n",
      "max_num:\n",
      "\n",
      "199\n"
     ]
    }
   ],
   "source": [
    "import random\n",
    "\n",
    "def MAP(num_list):\n",
    "    return max(num_list)\n",
    "\n",
    "\n",
    "def REDUCE(num_list):\n",
    "    return max(num_list)\n",
    "\n",
    "\n",
    "def RECORDREADER(count, distance=200):\n",
    "    return [random.randint(0, distance) for i in range(count)]\n",
    "\n",
    "\n",
    "record = RECORDREADER(count=100)\n",
    "print('records:\\n', record, '\\n')\n",
    "\n",
    "# разбиение на пачки\n",
    "part_count = 5\n",
    "record_partitional = [record[d:d + part_count] for d in range(0, len(record), part_count)]\n",
    "print('records partitional:\\n', record_partitional, '\\n')\n",
    "\n",
    "print('max_num:\\n')\n",
    "print(REDUCE(list(map(lambda x: MAP(x), record_partitional))))"
   ]
  },
  {
   "cell_type": "markdown",
   "metadata": {
    "id": "k86bXnqZTk-U"
   },
   "source": [
    "### Арифметическое среднее\n",
    "\n",
    "Разработайте MapReduce алгоритм, который находит арифметическое среднее.\n",
    "\n",
    "$$\\overline{X} = \\frac{1}{n}\\sum_{i=0}^{n} x_i$$\n"
   ]
  },
  {
   "cell_type": "code",
   "execution_count": 28,
   "metadata": {
    "colab": {
     "base_uri": "https://localhost:8080/"
    },
    "id": "MPoY5pkfUNZf",
    "outputId": "720eabe2-b971-401d-e7f4-a5617907c3f9"
   },
   "outputs": [
    {
     "name": "stdout",
     "output_type": "stream",
     "text": [
      "(ключ, число)\n",
      " [(1, 139), (1, 54), (1, 92), (1, 76), (1, 75), (1, 86), (1, 190), (1, 196), (1, 59), (1, 183), (1, 37), (1, 34), (1, 59), (1, 62), (1, 200), (1, 149), (1, 130), (1, 199), (1, 85), (1, 32), (1, 4), (1, 191), (1, 157), (1, 199), (1, 23), (1, 169), (1, 127), (1, 144), (1, 64), (1, 40), (1, 72), (1, 2), (1, 192), (1, 99), (1, 90), (1, 21), (1, 119), (1, 145), (1, 151), (1, 127), (1, 88), (1, 113), (1, 141), (1, 84), (1, 171), (1, 73), (1, 139), (1, 80), (1, 190), (1, 50), (1, 70), (1, 148), (1, 92), (1, 74), (1, 189), (1, 147), (1, 110), (1, 149), (1, 18), (1, 84), (1, 40), (1, 77), (1, 151), (1, 169), (1, 151), (1, 96), (1, 181), (1, 31), (1, 111), (1, 145), (1, 32), (1, 101), (1, 68), (1, 168), (1, 190), (1, 50), (1, 69), (1, 9), (1, 27), (1, 65), (1, 181), (1, 183), (1, 74), (1, 35), (1, 106), (1, 33), (1, 55), (1, 18), (1, 182), (1, 73), (1, 119), (1, 186), (1, 95), (1, 9), (1, 143), (1, 77), (1, 0), (1, 185), (1, 40), (1, 194)]\n",
      "группировка:\n",
      " [(1, [139, 54, 92, 76, 75, 86, 190, 196, 59, 183, 37, 34, 59, 62, 200, 149, 130, 199, 85, 32, 4, 191, 157, 199, 23, 169, 127, 144, 64, 40, 72, 2, 192, 99, 90, 21, 119, 145, 151, 127, 88, 113, 141, 84, 171, 73, 139, 80, 190, 50, 70, 148, 92, 74, 189, 147, 110, 149, 18, 84, 40, 77, 151, 169, 151, 96, 181, 31, 111, 145, 32, 101, 68, 168, 190, 50, 69, 9, 27, 65, 181, 183, 74, 35, 106, 33, 55, 18, 182, 73, 119, 186, 95, 9, 143, 77, 0, 185, 40, 194])]\n",
      "среднее:\n",
      " [104.02]\n"
     ]
    }
   ],
   "source": [
    "# одинаковый ключ группировки для всех чисел\n",
    "def MAP(num):\n",
    "    return (1, num)\n",
    "\n",
    "\n",
    "def REDUCE(key, nums: Iterator[NamedTuple]):\n",
    "    sum = 0\n",
    "    count = 0\n",
    "    for n in nums:\n",
    "        sum += n\n",
    "        count += 1\n",
    "    yield sum / count\n",
    "\n",
    "\n",
    "def RECORDREADER(count, distance=200):\n",
    "    return [random.randint(0, distance) for i in range(count)]\n",
    "\n",
    "records = RECORDREADER(100)\n",
    "map_output = list(map(lambda x: MAP(x), records))\n",
    "print('(ключ, число)\\n', map_output)\n",
    "\n",
    "shuffle_output = groupbykey(map_output)\n",
    "shuffle_output = list(shuffle_output)\n",
    "\n",
    "print('группировка:\\n', shuffle_output)\n",
    "\n",
    "reduce_output = list(flatten(map(lambda x: REDUCE(*x), shuffle_output)))\n",
    "print('среднее:\\n', reduce_output)"
   ]
  },
  {
   "cell_type": "markdown",
   "metadata": {
    "id": "xanzszhsIlLe"
   },
   "source": [
    "### GroupByKey на основе сортировки\n",
    "\n",
    "Реализуйте groupByKey на основе сортировки, проверьте его работу на примерах"
   ]
  },
  {
   "cell_type": "code",
   "execution_count": 21,
   "metadata": {
    "colab": {
     "base_uri": "https://localhost:8080/"
    },
    "id": "hQPn3USsIkEC",
    "outputId": "61680915-5832-4299-c320-48f8ec9b964f"
   },
   "outputs": [
    {
     "name": "stdout",
     "output_type": "stream",
     "text": [
      "Map:\n",
      "\n",
      "[(1, 7), (1, 170), (1, 147), (1, 123), (1, 107), (1, 80), (1, 14), (1, 52), (1, 200), (1, 109), (1, 89), (1, 103), (1, 68), (1, 178), (1, 109), (1, 82), (1, 184), (1, 131), (1, 3), (1, 170), (1, 110), (1, 51), (1, 47), (1, 140), (1, 1), (1, 175), (1, 86), (1, 7), (1, 35), (1, 125), (1, 46), (1, 187), (1, 185), (1, 111), (1, 74), (1, 140), (1, 178), (1, 97), (1, 158), (1, 125), (1, 178), (1, 134), (1, 88), (1, 77), (1, 70), (1, 101), (1, 183), (1, 170), (1, 34), (1, 105), (1, 15), (1, 54), (1, 186), (1, 82), (1, 30), (1, 176), (1, 96), (1, 143), (1, 99), (1, 77), (1, 85), (1, 141), (1, 112), (1, 184), (1, 110), (1, 26), (1, 40), (1, 94), (1, 3), (1, 43), (1, 6), (1, 17), (1, 68), (1, 39), (1, 127), (1, 8), (1, 196), (1, 159), (1, 179), (1, 103), (1, 169), (1, 48), (1, 5), (1, 84), (1, 78), (1, 138), (1, 190), (1, 64), (1, 146), (1, 109), (1, 162), (1, 68), (1, 96), (1, 72), (1, 71), (1, 173), (1, 54), (1, 96), (1, 177), (1, 194)]\n",
      "группировка:\n",
      "\n",
      "[(1, [7, 170, 147, 123, 107, 80, 14, 52, 200, 109, 89, 103, 68, 178, 109, 82, 184, 131, 3, 170, 110, 51, 47, 140, 1, 175, 86, 7, 35, 125, 46, 187, 185, 111, 74, 140, 178, 97, 158, 125, 178, 134, 88, 77, 70, 101, 183, 170, 34, 105, 15, 54, 186, 82, 30, 176, 96, 143, 99, 77, 85, 141, 112, 184, 110, 26, 40, 94, 3, 43, 6, 17, 68, 39, 127, 8, 196, 159, 179, 103, 169, 48, 5, 84, 78, 138, 190, 64, 146, 109, 162, 68, 96, 72, 71, 173, 54, 96, 177, 194])]\n",
      "среднее:\n",
      "\n",
      "[102.36]\n"
     ]
    }
   ],
   "source": [
    "def group_by_key(iterable):\n",
    "    sorted_data = sorted(iterable, key=lambda x: x[0])\n",
    "    grouped_data = {}\n",
    "    for key, value in sorted_data:\n",
    "        if key not in grouped_data:\n",
    "            grouped_data[key] = [value]\n",
    "        else:\n",
    "            grouped_data[key].append(value)\n",
    "    result = []\n",
    "    for key, value in grouped_data.items():\n",
    "        result.append((key, value))\n",
    "    return result\n",
    "\n",
    "def MAP(num):\n",
    "    return (1, num)\n",
    "\n",
    "\n",
    "def REDUCE(key, nums: Iterator[NamedTuple]):\n",
    "    sum = 0\n",
    "    count = 0\n",
    "    for n in nums:\n",
    "        sum += n\n",
    "        count += 1\n",
    "    yield sum / count\n",
    "\n",
    "\n",
    "def RECORDREADER(count, distance=200):\n",
    "    return [random.randint(0, distance) for i in range(count)]\n",
    "\n",
    "print('Map:\\n')\n",
    "map_output = list(map(lambda x: MAP(x), RECORDREADER(count=100)))\n",
    "print(map_output)\n",
    "\n",
    "shuffle_output = group_by_key(map_output)\n",
    "shuffle_output = list(shuffle_output)\n",
    "\n",
    "print('группировка:\\n')\n",
    "print(shuffle_output)\n",
    "\n",
    "reduce_output = list(flatten(map(lambda x: REDUCE(*x), shuffle_output)))\n",
    "print('среднее:\\n')\n",
    "print(reduce_output)"
   ]
  },
  {
   "cell_type": "markdown",
   "metadata": {
    "id": "5SgEjCZyGnu6"
   },
   "source": [
    "### Drop duplicates (set construction, unique elements, distinct)\n",
    "\n",
    "Реализуйте распределённую операцию исключения дубликатов"
   ]
  },
  {
   "cell_type": "code",
   "execution_count": 33,
   "metadata": {
    "colab": {
     "base_uri": "https://localhost:8080/"
    },
    "id": "okjbyApjGhMt",
    "outputId": "54f6bcfb-117a-4f68-9406-52857199682b"
   },
   "outputs": [
    {
     "name": "stdout",
     "output_type": "stream",
     "text": [
      "56 key-value pairs were sent over a network.\n"
     ]
    },
    {
     "data": {
      "text/plain": [
       "[(0, ['', 'banana', 'what']), (1, ['a', 'is', 'it'])]"
      ]
     },
     "execution_count": 33,
     "metadata": {},
     "output_type": "execute_result"
    }
   ],
   "source": [
    "def flatten(nested_iterable):\n",
    "  for iterable in nested_iterable:\n",
    "    for element in iterable:\n",
    "      yield element\n",
    "\n",
    "def groupbykey(iterable):\n",
    "  t = {}\n",
    "  for (k2, v2) in iterable:\n",
    "    t[k2] = t.get(k2, []) + [v2]\n",
    "  return t.items()\n",
    "\n",
    "def groupbykey_distributed(map_partitions, PARTITIONER):\n",
    "  global reducers\n",
    "  partitions = [dict() for _ in range(reducers)]\n",
    "  for map_partition in map_partitions:\n",
    "    for (k2, v2) in map_partition:\n",
    "      p = partitions[PARTITIONER(k2)]\n",
    "      p[k2] = p.get(k2, []) + [v2]\n",
    "  return [(partition_id, sorted(partition.items(), key=lambda x: x[0])) for (partition_id, partition) in enumerate(partitions)]\n",
    "\n",
    "def PARTITIONER(obj):\n",
    "  global reducers\n",
    "  return hash(obj) % reducers\n",
    "\n",
    "def MapReduceDistributed(INPUTFORMAT, MAP, REDUCE, PARTITIONER=PARTITIONER, COMBINER=None):\n",
    "  map_partitions = map(lambda record_reader: flatten(map(lambda k1v1: MAP(*k1v1), record_reader)), INPUTFORMAT())\n",
    "  if COMBINER != None:\n",
    "    map_partitions = map(lambda map_partition: flatten(map(lambda k2v2: COMBINER(*k2v2), groupbykey(map_partition))), map_partitions)\n",
    "  reduce_partitions = groupbykey_distributed(map_partitions, PARTITIONER) # shuffle\n",
    "  reduce_outputs = map(lambda reduce_partition: (reduce_partition[0], flatten(map(lambda reduce_input_group: REDUCE(*reduce_input_group), reduce_partition[1]))), reduce_partitions)\n",
    "\n",
    "  print(\"{} key-value pairs were sent over a network.\".format(sum([len(vs) for (k,vs) in flatten([partition for (partition_id, partition) in reduce_partitions])])))\n",
    "  return reduce_outputs\n",
    "\n",
    "\n",
    "# ===================================================================================================================================================================================\n",
    "\n",
    "from typing import Iterator\n",
    "import numpy as np\n",
    "\n",
    "d1 = \"\"\"\n",
    "it is what it is\n",
    "it is what it is\n",
    "it is what it is\"\"\"\n",
    "d2 = \"\"\"\n",
    "what is it\n",
    "what is it\"\"\"\n",
    "d3 = \"\"\"\n",
    "it is a banana\"\"\"\n",
    "documents = [d1, d2, d3, d1, d2, d3]\n",
    "\n",
    "maps = 3\n",
    "reducers = 2\n",
    "\n",
    "def INPUTFORMAT():\n",
    "  global maps\n",
    "\n",
    "  def RECORDREADER(split):\n",
    "    for (docid, document) in enumerate(split):\n",
    "      for (lineid, line) in enumerate(document.split('\\n')):\n",
    "        yield (\"{}:{}\".format(docid,lineid), line)\n",
    "\n",
    "  split_size =  int(np.ceil(len(documents)/maps))\n",
    "  for i in range(0, len(documents), split_size):\n",
    "    yield RECORDREADER(documents[i:i+split_size])\n",
    "\n",
    "def MAP(docId:str, line:str):\n",
    "  for word in line.split(\" \"):\n",
    "    yield (word, word)\n",
    "\n",
    "def REDUCE(key:str, value:Iterator[str]):\n",
    "  yield key\n",
    "\n",
    "# try to set COMBINER=REDUCER and look at the number of values sent over the network\n",
    "partitioned_output = MapReduceDistributed(INPUTFORMAT, MAP, REDUCE, COMBINER=None)\n",
    "partitioned_output = [(partition_id, list(partition)) for (partition_id, partition) in partitioned_output]\n",
    "partitioned_output"
   ]
  },
  {
   "cell_type": "markdown",
   "metadata": {
    "id": "e7sRGoTXuJze"
   },
   "source": [
    "#Операторы реляционной алгебры\n",
    "### Selection (Выборка)\n",
    "\n",
    "**The Map Function**: Для  каждого кортежа $t \\in R$ вычисляется истинность предиката $C$. В случае истины создаётся пара ключ-значение $(t, t)$. В паре ключ и значение одинаковы, равны $t$.\n",
    "\n",
    "**The Reduce Function:** Роль функции Reduce выполняет функция идентичности, которая возвращает то же значение, что получила на вход.\n",
    "\n"
   ]
  },
  {
   "cell_type": "code",
   "execution_count": 36,
   "metadata": {
    "colab": {
     "base_uri": "https://localhost:8080/"
    },
    "id": "4nKIKe59uIfc",
    "outputId": "889d14fe-25fa-467b-cfba-9d8b7471bd23"
   },
   "outputs": [
    {
     "name": "stdout",
     "output_type": "stream",
     "text": [
      "Кортежи:\n",
      "\n",
      "[(45, 56, 70), (46, 49, 36), (79, 25, 1), (22, 40, 40), (39, 71, 13), (11, 4, 29), (65, 63, 45), (43, 13, 31), (8, 11, 90), (63, 68, 52), (43, 54, 77), (63, 70, 39), (33, 29, 95), (65, 12, 17), (60, 80, 10), (50, 69, 98), (90, 86, 59), (64, 85, 53), (58, 29, 36), (30, 51, 44), (48, 28, 75), (18, 26, 52), (83, 6, 16), (22, 0, 12), (83, 0, 100), (77, 65, 55), (99, 21, 52), (26, 18, 49), (33, 62, 66), (100, 72, 7), (94, 4, 40), (13, 100, 66), (68, 14, 72), (20, 70, 48), (29, 16, 33), (5, 59, 94), (87, 21, 10), (41, 91, 40), (22, 50, 90), (28, 61, 35), (42, 66, 41), (87, 65, 34), (2, 64, 59), (19, 80, 40), (39, 77, 69), (54, 27, 94), (5, 78, 55), (36, 59, 38), (89, 85, 3), (57, 95, 83), (49, 96, 99), (82, 38, 76), (34, 74, 100), (37, 87, 65), (25, 89, 90), (43, 30, 92), (49, 64, 75), (24, 46, 79), (44, 1, 91), (65, 11, 40), (30, 90, 6), (42, 58, 80), (90, 51, 26), (15, 45, 24), (3, 63, 81), (16, 40, 90), (83, 65, 98), (51, 82, 66), (22, 17, 8), (44, 81, 99), (65, 37, 18), (51, 59, 54), (6, 64, 37), (53, 17, 73), (21, 77, 30), (44, 3, 90), (96, 12, 84), (32, 50, 46), (67, 84, 71), (43, 59, 51), (47, 89, 81), (94, 70, 67), (71, 86, 86), (88, 61, 16), (72, 44, 41), (70, 1, 93), (69, 13, 74), (69, 10, 63), (90, 23, 81), (76, 100, 45), (22, 52, 74), (84, 77, 42), (92, 31, 46), (83, 76, 89), (17, 94, 92), (64, 61, 11), (64, 74, 55), (15, 98, 45), (93, 65, 11), (78, 70, 7)]\n",
      "Кортежи по пачкам:\n",
      "\n",
      "[[(45, 56, 70), (46, 49, 36), (79, 25, 1), (22, 40, 40), (39, 71, 13)], [(11, 4, 29), (65, 63, 45), (43, 13, 31), (8, 11, 90), (63, 68, 52)], [(43, 54, 77), (63, 70, 39), (33, 29, 95), (65, 12, 17), (60, 80, 10)], [(50, 69, 98), (90, 86, 59), (64, 85, 53), (58, 29, 36), (30, 51, 44)], [(48, 28, 75), (18, 26, 52), (83, 6, 16), (22, 0, 12), (83, 0, 100)], [(77, 65, 55), (99, 21, 52), (26, 18, 49), (33, 62, 66), (100, 72, 7)], [(94, 4, 40), (13, 100, 66), (68, 14, 72), (20, 70, 48), (29, 16, 33)], [(5, 59, 94), (87, 21, 10), (41, 91, 40), (22, 50, 90), (28, 61, 35)], [(42, 66, 41), (87, 65, 34), (2, 64, 59), (19, 80, 40), (39, 77, 69)], [(54, 27, 94), (5, 78, 55), (36, 59, 38), (89, 85, 3), (57, 95, 83)], [(49, 96, 99), (82, 38, 76), (34, 74, 100), (37, 87, 65), (25, 89, 90)], [(43, 30, 92), (49, 64, 75), (24, 46, 79), (44, 1, 91), (65, 11, 40)], [(30, 90, 6), (42, 58, 80), (90, 51, 26), (15, 45, 24), (3, 63, 81)], [(16, 40, 90), (83, 65, 98), (51, 82, 66), (22, 17, 8), (44, 81, 99)], [(65, 37, 18), (51, 59, 54), (6, 64, 37), (53, 17, 73), (21, 77, 30)], [(44, 3, 90), (96, 12, 84), (32, 50, 46), (67, 84, 71), (43, 59, 51)], [(47, 89, 81), (94, 70, 67), (71, 86, 86), (88, 61, 16), (72, 44, 41)], [(70, 1, 93), (69, 13, 74), (69, 10, 63), (90, 23, 81), (76, 100, 45)], [(22, 52, 74), (84, 77, 42), (92, 31, 46), (83, 76, 89), (17, 94, 92)], [(64, 61, 11), (64, 74, 55), (15, 98, 45), (93, 65, 11), (78, 70, 7)]]\n",
      "Применение функции индентичности:\n",
      "\n",
      "[(46, 49, 36), (22, 40, 40), (8, 11, 90), (60, 80, 10), (50, 69, 98), (90, 86, 59), (64, 85, 53), (58, 29, 36), (30, 51, 44), (48, 28, 75), (18, 26, 52), (22, 0, 12), (26, 18, 49), (100, 72, 7), (94, 4, 40), (68, 14, 72), (20, 70, 48), (22, 50, 90), (28, 61, 35), (42, 66, 41), (2, 64, 59), (54, 27, 94), (36, 59, 38), (82, 38, 76), (34, 74, 100), (24, 46, 79), (44, 1, 91), (30, 90, 6), (42, 58, 80), (90, 51, 26), (16, 40, 90), (22, 17, 8), (44, 81, 99), (6, 64, 37), (44, 3, 90), (96, 12, 84), (32, 50, 46), (94, 70, 67), (88, 61, 16), (72, 44, 41), (70, 1, 93), (90, 23, 81), (76, 100, 45), (22, 52, 74), (84, 77, 42), (92, 31, 46), (64, 61, 11), (64, 74, 55), (78, 70, 7)]\n"
     ]
    }
   ],
   "source": [
    "from collections import defaultdict\n",
    "\n",
    "def MAP(el_list):\n",
    "    mapped_result = defaultdict(list)\n",
    "    for t in el_list:\n",
    "        if C(t):  # Предикат C\n",
    "            mapped_result[t].append(t)\n",
    "    return mapped_result.items()\n",
    "\n",
    "\n",
    "def REDUCE(mapped_items):\n",
    "    reduced_result = []\n",
    "    # print(mapped_items)\n",
    "    for values in mapped_items:\n",
    "        for value in values:\n",
    "            reduced_result.append(value[0])\n",
    "    return reduced_result\n",
    "\n",
    "def C(t):\n",
    "    return t[0] % 2 == 0  # Выбираем только кортежи с четным первым элементом\n",
    "\n",
    "\n",
    "def RECORDREADER(count, distance=100):\n",
    "    return [(random.randint(0, distance), random.randint(0, distance), random.randint(0, distance)) for i in range(count)]\n",
    "\n",
    "record = RECORDREADER(100)\n",
    "print('Кортежи:\\n')\n",
    "print(record)\n",
    "\n",
    "part_count = 5\n",
    "record_partitional = [record[d:d + part_count] for d in range(0, len(record), part_count)]\n",
    "\n",
    "print('Кортежи по пачкам:\\n')\n",
    "print(record_partitional)\n",
    "\n",
    "print('Применение функции индентичности:\\n')\n",
    "print(REDUCE(list(map(lambda x: MAP(x), record_partitional))))"
   ]
  },
  {
   "cell_type": "markdown",
   "metadata": {
    "id": "w27Ca-_Ku85V"
   },
   "source": [
    "### Projection (Проекция)\n",
    "\n",
    "Проекция на множество атрибутов $S$.\n",
    "\n",
    "**The Map Function:** Для каждого кортежа $t \\in R$ создайте кортеж $t′$, исключая  из $t$ те значения, атрибуты которых не принадлежат  $S$. Верните пару $(t′, t′)$.\n",
    "\n",
    "**The Reduce Function:** Для каждого ключа $t′$, созданного любой Map задачей, вы получаете одну или несколько пар $(t′, t′)$. Reduce функция преобразует $(t′, [t′, t′, . . . , t′])$ в $(t′, t′)$, так, что для ключа $t′$ возвращается одна пара  $(t′, t′)$."
   ]
  },
  {
   "cell_type": "code",
   "execution_count": 39,
   "metadata": {
    "colab": {
     "base_uri": "https://localhost:8080/"
    },
    "id": "BEvuY4GqvhS6",
    "outputId": "7f6d04e7-170c-45d0-ff69-c722a39080a5"
   },
   "outputs": [
    {
     "name": "stdout",
     "output_type": "stream",
     "text": [
      "Кортежи:\n",
      "\n",
      "[(31, 15, 15), (14, 22, 2), (28, 50, 1), (30, 14, 34), (36, 5, 42), (10, 28, 15), (49, 20, 40), (37, 16, 6), (2, 36, 50), (3, 3, 37), (11, 35, 36), (8, 16, 23), (50, 22, 3), (22, 43, 41), (28, 4, 41), (18, 25, 28), (32, 38, 5), (24, 47, 44), (15, 41, 1), (37, 10, 13), (5, 24, 15), (43, 28, 47), (12, 25, 50), (4, 43, 1), (7, 47, 48), (24, 46, 33), (6, 19, 21), (0, 41, 12), (34, 2, 8), (0, 35, 33), (45, 9, 30), (14, 24, 7), (48, 10, 0), (33, 33, 19), (42, 33, 30), (15, 39, 15), (25, 21, 7), (7, 22, 15), (48, 34, 26), (50, 13, 33), (5, 22, 1), (40, 48, 14), (33, 11, 38), (27, 17, 39), (5, 14, 44), (19, 28, 26), (29, 39, 22), (19, 7, 40), (27, 48, 40), (39, 29, 47), (21, 29, 4), (26, 19, 44), (29, 22, 22), (29, 30, 5), (4, 40, 10), (19, 25, 15), (40, 27, 23), (20, 15, 44), (28, 37, 14), (33, 1, 35), (29, 2, 44), (16, 17, 13), (18, 27, 14), (30, 16, 19), (38, 41, 50), (23, 11, 43), (49, 42, 2), (47, 37, 9), (26, 46, 31), (48, 9, 17), (31, 24, 8), (9, 47, 26), (39, 10, 47), (50, 37, 14), (9, 20, 5), (19, 13, 14), (15, 3, 8), (3, 16, 19), (30, 22, 41), (10, 30, 4), (10, 2, 27), (15, 47, 42), (45, 42, 15), (36, 26, 39), (21, 10, 38), (27, 38, 15), (13, 10, 0), (19, 9, 38), (41, 6, 24), (34, 48, 49), (11, 39, 33), (5, 30, 48), (48, 14, 11), (29, 4, 15), (2, 2, 7), (1, 40, 16), (10, 5, 48), (16, 24, 25), (15, 3, 33), (16, 13, 23)]\n",
      "Мап:\n",
      "\n",
      "[((), ()), ((), ()), ((), ()), ((), ()), ((), ()), ((), ()), ((), ()), ((), ()), ((), ()), ((), ()), ((), ()), ((), ()), ((), ()), ((), ()), ((), ()), ((), ()), ((), ()), ((), ()), ((), ()), ((), ()), ((), ()), ((), ()), ((), ()), ((), ()), ((), ()), ((), ()), ((), ()), ((), ()), ((), ()), ((), ()), ((), ()), ((), ()), ((), ()), ((), ()), ((), ()), ((), ()), ((), ()), ((), ()), ((), ()), ((), ()), ((), ()), ((), ()), ((), ()), ((), ()), ((), ()), ((), ()), ((), ()), ((12,), (12,)), ((), ()), ((), ()), ((), ()), ((), ()), ((), ()), ((), ()), ((), ()), ((12,), (12,)), ((), ()), ((), ()), ((), ()), ((), ()), ((12,), (12,)), ((), ()), ((), ()), ((), ()), ((), ()), ((), ()), ((), ()), ((), ()), ((), ()), ((), ()), ((), ()), ((), ()), ((), ()), ((), ()), ((), ()), ((), ()), ((), ()), ((), ()), ((), ()), ((), ()), ((), ()), ((), ()), ((), ()), ((), ()), ((), ()), ((), ()), ((), ()), ((), ()), ((), ()), ((), ()), ((), ()), ((), ()), ((), ()), ((), ()), ((), ()), ((), ()), ((), ()), ((), ()), ((), ()), ((), ())]\n",
      "Группировка:\n",
      "\n",
      "[((), [(), (), (), (), (), (), (), (), (), (), (), (), (), (), (), (), (), (), (), (), (), (), (), (), (), (), (), (), (), (), (), (), (), (), (), (), (), (), (), (), (), (), (), (), (), (), (), (), (), (), (), (), (), (), (), (), (), (), (), (), (), (), (), (), (), (), (), (), (), (), (), (), (), (), (), (), (), (), (), (), (), (), (), (), (), (), (), (), (), (), (), (), (), (), (), (), ()]), ((12,), [(12,), (12,), (12,)])]\n",
      "Проекция:\n",
      "\n",
      "[(), (12,)]\n"
     ]
    }
   ],
   "source": [
    "S = set([1 ,12, 56])\n",
    "\n",
    "def MAP(t):\n",
    "  res_list = []\n",
    "  for el in t:\n",
    "    if el in S:\n",
    "      res_list.append(el)\n",
    "    res = tuple(res_list)\n",
    "    return (res, res)\n",
    "\n",
    "\n",
    "def REDUCE(key, values: Iterator[NamedTuple]):\n",
    "    return (key, key)\n",
    "\n",
    "def RECORDREADER(count, distance=50):\n",
    "    return [(random.randint(0, distance), random.randint(0, distance), random.randint(0, distance)) for i in range(count)]\n",
    "\n",
    "def group_by_key(iterable):\n",
    "  t = {}\n",
    "  for (k2, v2) in iterable:\n",
    "    t[k2] = t.get(k2, []) + [v2]\n",
    "  return t.items()\n",
    "\n",
    "record = RECORDREADER(100)\n",
    "\n",
    "print('Кортежи:\\n')\n",
    "print(record)\n",
    "map_output = list(map(lambda x: MAP(x), RECORDREADER(100)))\n",
    "\n",
    "print('Мап:\\n')\n",
    "print(map_output)\n",
    "\n",
    "shuffle_output = group_by_key(map_output)\n",
    "shuffle_output = list(shuffle_output)\n",
    "\n",
    "print('Группировка:\\n')\n",
    "print(shuffle_output)\n",
    "\n",
    "reduce_output = list(map(lambda x: REDUCE(*x)[0], shuffle_output))\n",
    "print('Проекция:\\n')\n",
    "print(reduce_output)"
   ]
  },
  {
   "cell_type": "markdown",
   "metadata": {
    "id": "7gau6lKXvn2R"
   },
   "source": [
    "### Union (Объединение)\n",
    "\n",
    "**The Map Function:** Превратите каждый входной кортеж $t$ в пару ключ-значение $(t, t)$.\n",
    "\n",
    "**The Reduce Function:** С каждым ключом $t$ будет ассоциировано одно или два значений. В обоих случаях создайте $(t, t)$ в качестве выходного значения."
   ]
  },
  {
   "cell_type": "code",
   "execution_count": 40,
   "metadata": {
    "colab": {
     "base_uri": "https://localhost:8080/"
    },
    "id": "Sns7a5agv3nw",
    "outputId": "1ec08597-474e-4131-82a9-d8ea32665d3b"
   },
   "outputs": [
    {
     "name": "stdout",
     "output_type": "stream",
     "text": [
      "Кортежи:\n",
      "\n",
      "[(19, 76, 87), (6, 88, 34), (20, 26, 81), (88, 92, 65), (80, 45, 97), (97, 46, 55), (86, 59, 15), (20, 39, 69), (49, 44, 94), (69, 32, 21), (56, 92, 25), (97, 67, 28), (11, 10, 9), (30, 94, 82), (96, 81, 28), (4, 5, 30), (26, 84, 0), (49, 8, 20), (40, 72, 94), (66, 53, 50), (26, 60, 63), (70, 53, 18), (95, 12, 1), (67, 22, 67), (21, 97, 87), (62, 77, 84), (82, 18, 27), (64, 5, 71), (69, 11, 56), (44, 96, 23), (87, 52, 15), (9, 51, 60), (25, 51, 92), (11, 51, 42), (86, 18, 50), (64, 44, 57), (15, 78, 7), (21, 29, 72), (78, 29, 92), (96, 69, 65), (84, 80, 48), (13, 66, 89), (37, 54, 55), (80, 65, 90), (64, 8, 61), (26, 9, 77), (65, 84, 58), (21, 46, 19), (59, 43, 59), (1, 100, 11), (92, 46, 58), (50, 94, 86), (59, 34, 13), (3, 64, 68), (4, 85, 93), (41, 27, 20), (12, 13, 78), (43, 25, 74), (43, 81, 100), (59, 48, 49), (50, 41, 96), (84, 52, 55), (46, 3, 82), (86, 43, 56), (46, 53, 78), (89, 98, 90), (43, 53, 33), (13, 21, 35), (85, 43, 6), (67, 25, 11), (24, 41, 72), (47, 74, 62), (19, 10, 88), (25, 50, 73), (17, 8, 68), (43, 88, 23), (1, 46, 34), (74, 54, 12), (99, 21, 78), (45, 72, 63), (100, 12, 61), (3, 22, 96), (32, 86, 87), (55, 66, 3), (26, 7, 38), (53, 9, 12), (90, 37, 74), (28, 52, 80), (69, 55, 75), (80, 67, 62), (17, 5, 66), (67, 61, 9), (38, 0, 15), (46, 2, 48), (90, 38, 69), (77, 41, 22), (25, 97, 42), (71, 90, 92), (0, 60, 40), (86, 88, 3)]\n",
      "Мап:\n",
      "\n",
      "[((67, 81, 83), (67, 81, 83)), ((32, 75, 59), (32, 75, 59)), ((7, 56, 52), (7, 56, 52)), ((90, 77, 49), (90, 77, 49)), ((18, 95, 75), (18, 95, 75)), ((24, 64, 18), (24, 64, 18)), ((93, 52, 1), (93, 52, 1)), ((83, 58, 69), (83, 58, 69)), ((82, 15, 99), (82, 15, 99)), ((23, 21, 56), (23, 21, 56)), ((29, 34, 2), (29, 34, 2)), ((71, 66, 39), (71, 66, 39)), ((57, 71, 53), (57, 71, 53)), ((45, 13, 59), (45, 13, 59)), ((46, 70, 35), (46, 70, 35)), ((40, 78, 46), (40, 78, 46)), ((14, 25, 65), (14, 25, 65)), ((43, 84, 85), (43, 84, 85)), ((44, 37, 45), (44, 37, 45)), ((37, 61, 12), (37, 61, 12)), ((70, 93, 59), (70, 93, 59)), ((15, 79, 21), (15, 79, 21)), ((67, 1, 84), (67, 1, 84)), ((93, 71, 23), (93, 71, 23)), ((44, 91, 64), (44, 91, 64)), ((30, 31, 69), (30, 31, 69)), ((60, 0, 91), (60, 0, 91)), ((75, 58, 47), (75, 58, 47)), ((83, 90, 14), (83, 90, 14)), ((60, 39, 18), (60, 39, 18)), ((68, 35, 19), (68, 35, 19)), ((19, 20, 61), (19, 20, 61)), ((69, 70, 76), (69, 70, 76)), ((57, 47, 22), (57, 47, 22)), ((13, 71, 91), (13, 71, 91)), ((73, 100, 72), (73, 100, 72)), ((68, 32, 94), (68, 32, 94)), ((1, 54, 45), (1, 54, 45)), ((66, 99, 46), (66, 99, 46)), ((40, 43, 100), (40, 43, 100)), ((84, 28, 35), (84, 28, 35)), ((66, 27, 41), (66, 27, 41)), ((64, 30, 52), (64, 30, 52)), ((7, 41, 63), (7, 41, 63)), ((91, 55, 100), (91, 55, 100)), ((14, 0, 50), (14, 0, 50)), ((51, 58, 44), (51, 58, 44)), ((17, 98, 46), (17, 98, 46)), ((81, 73, 72), (81, 73, 72)), ((56, 21, 81), (56, 21, 81)), ((17, 7, 53), (17, 7, 53)), ((22, 23, 49), (22, 23, 49)), ((80, 14, 72), (80, 14, 72)), ((19, 18, 26), (19, 18, 26)), ((20, 68, 92), (20, 68, 92)), ((96, 50, 22), (96, 50, 22)), ((17, 41, 67), (17, 41, 67)), ((94, 13, 25), (94, 13, 25)), ((41, 63, 18), (41, 63, 18)), ((45, 86, 3), (45, 86, 3)), ((31, 95, 15), (31, 95, 15)), ((41, 15, 25), (41, 15, 25)), ((20, 69, 3), (20, 69, 3)), ((91, 64, 17), (91, 64, 17)), ((37, 96, 77), (37, 96, 77)), ((53, 33, 29), (53, 33, 29)), ((63, 74, 18), (63, 74, 18)), ((70, 2, 18), (70, 2, 18)), ((36, 94, 28), (36, 94, 28)), ((78, 6, 43), (78, 6, 43)), ((75, 77, 19), (75, 77, 19)), ((0, 83, 88), (0, 83, 88)), ((21, 11, 5), (21, 11, 5)), ((60, 19, 95), (60, 19, 95)), ((90, 68, 36), (90, 68, 36)), ((90, 59, 30), (90, 59, 30)), ((65, 38, 59), (65, 38, 59)), ((25, 98, 64), (25, 98, 64)), ((77, 0, 79), (77, 0, 79)), ((0, 38, 5), (0, 38, 5)), ((30, 61, 84), (30, 61, 84)), ((10, 97, 75), (10, 97, 75)), ((73, 75, 82), (73, 75, 82)), ((52, 14, 45), (52, 14, 45)), ((56, 97, 100), (56, 97, 100)), ((36, 91, 9), (36, 91, 9)), ((71, 72, 70), (71, 72, 70)), ((1, 4, 96), (1, 4, 96)), ((54, 93, 72), (54, 93, 72)), ((34, 78, 96), (34, 78, 96)), ((23, 82, 42), (23, 82, 42)), ((52, 54, 55), (52, 54, 55)), ((77, 97, 98), (77, 97, 98)), ((87, 41, 70), (87, 41, 70)), ((24, 45, 94), (24, 45, 94)), ((20, 15, 0), (20, 15, 0)), ((37, 22, 34), (37, 22, 34)), ((95, 92, 76), (95, 92, 76)), ((79, 78, 83), (79, 78, 83)), ((72, 31, 27), (72, 31, 27))]\n",
      "Группировка:\n",
      "\n",
      "[((67, 81, 83), [(67, 81, 83)]), ((32, 75, 59), [(32, 75, 59)]), ((7, 56, 52), [(7, 56, 52)]), ((90, 77, 49), [(90, 77, 49)]), ((18, 95, 75), [(18, 95, 75)]), ((24, 64, 18), [(24, 64, 18)]), ((93, 52, 1), [(93, 52, 1)]), ((83, 58, 69), [(83, 58, 69)]), ((82, 15, 99), [(82, 15, 99)]), ((23, 21, 56), [(23, 21, 56)]), ((29, 34, 2), [(29, 34, 2)]), ((71, 66, 39), [(71, 66, 39)]), ((57, 71, 53), [(57, 71, 53)]), ((45, 13, 59), [(45, 13, 59)]), ((46, 70, 35), [(46, 70, 35)]), ((40, 78, 46), [(40, 78, 46)]), ((14, 25, 65), [(14, 25, 65)]), ((43, 84, 85), [(43, 84, 85)]), ((44, 37, 45), [(44, 37, 45)]), ((37, 61, 12), [(37, 61, 12)]), ((70, 93, 59), [(70, 93, 59)]), ((15, 79, 21), [(15, 79, 21)]), ((67, 1, 84), [(67, 1, 84)]), ((93, 71, 23), [(93, 71, 23)]), ((44, 91, 64), [(44, 91, 64)]), ((30, 31, 69), [(30, 31, 69)]), ((60, 0, 91), [(60, 0, 91)]), ((75, 58, 47), [(75, 58, 47)]), ((83, 90, 14), [(83, 90, 14)]), ((60, 39, 18), [(60, 39, 18)]), ((68, 35, 19), [(68, 35, 19)]), ((19, 20, 61), [(19, 20, 61)]), ((69, 70, 76), [(69, 70, 76)]), ((57, 47, 22), [(57, 47, 22)]), ((13, 71, 91), [(13, 71, 91)]), ((73, 100, 72), [(73, 100, 72)]), ((68, 32, 94), [(68, 32, 94)]), ((1, 54, 45), [(1, 54, 45)]), ((66, 99, 46), [(66, 99, 46)]), ((40, 43, 100), [(40, 43, 100)]), ((84, 28, 35), [(84, 28, 35)]), ((66, 27, 41), [(66, 27, 41)]), ((64, 30, 52), [(64, 30, 52)]), ((7, 41, 63), [(7, 41, 63)]), ((91, 55, 100), [(91, 55, 100)]), ((14, 0, 50), [(14, 0, 50)]), ((51, 58, 44), [(51, 58, 44)]), ((17, 98, 46), [(17, 98, 46)]), ((81, 73, 72), [(81, 73, 72)]), ((56, 21, 81), [(56, 21, 81)]), ((17, 7, 53), [(17, 7, 53)]), ((22, 23, 49), [(22, 23, 49)]), ((80, 14, 72), [(80, 14, 72)]), ((19, 18, 26), [(19, 18, 26)]), ((20, 68, 92), [(20, 68, 92)]), ((96, 50, 22), [(96, 50, 22)]), ((17, 41, 67), [(17, 41, 67)]), ((94, 13, 25), [(94, 13, 25)]), ((41, 63, 18), [(41, 63, 18)]), ((45, 86, 3), [(45, 86, 3)]), ((31, 95, 15), [(31, 95, 15)]), ((41, 15, 25), [(41, 15, 25)]), ((20, 69, 3), [(20, 69, 3)]), ((91, 64, 17), [(91, 64, 17)]), ((37, 96, 77), [(37, 96, 77)]), ((53, 33, 29), [(53, 33, 29)]), ((63, 74, 18), [(63, 74, 18)]), ((70, 2, 18), [(70, 2, 18)]), ((36, 94, 28), [(36, 94, 28)]), ((78, 6, 43), [(78, 6, 43)]), ((75, 77, 19), [(75, 77, 19)]), ((0, 83, 88), [(0, 83, 88)]), ((21, 11, 5), [(21, 11, 5)]), ((60, 19, 95), [(60, 19, 95)]), ((90, 68, 36), [(90, 68, 36)]), ((90, 59, 30), [(90, 59, 30)]), ((65, 38, 59), [(65, 38, 59)]), ((25, 98, 64), [(25, 98, 64)]), ((77, 0, 79), [(77, 0, 79)]), ((0, 38, 5), [(0, 38, 5)]), ((30, 61, 84), [(30, 61, 84)]), ((10, 97, 75), [(10, 97, 75)]), ((73, 75, 82), [(73, 75, 82)]), ((52, 14, 45), [(52, 14, 45)]), ((56, 97, 100), [(56, 97, 100)]), ((36, 91, 9), [(36, 91, 9)]), ((71, 72, 70), [(71, 72, 70)]), ((1, 4, 96), [(1, 4, 96)]), ((54, 93, 72), [(54, 93, 72)]), ((34, 78, 96), [(34, 78, 96)]), ((23, 82, 42), [(23, 82, 42)]), ((52, 54, 55), [(52, 54, 55)]), ((77, 97, 98), [(77, 97, 98)]), ((87, 41, 70), [(87, 41, 70)]), ((24, 45, 94), [(24, 45, 94)]), ((20, 15, 0), [(20, 15, 0)]), ((37, 22, 34), [(37, 22, 34)]), ((95, 92, 76), [(95, 92, 76)]), ((79, 78, 83), [(79, 78, 83)]), ((72, 31, 27), [(72, 31, 27)])]\n",
      "Объединение:\n",
      "\n",
      "[(67, 81, 83), (32, 75, 59), (7, 56, 52), (90, 77, 49), (18, 95, 75), (24, 64, 18), (93, 52, 1), (83, 58, 69), (82, 15, 99), (23, 21, 56), (29, 34, 2), (71, 66, 39), (57, 71, 53), (45, 13, 59), (46, 70, 35), (40, 78, 46), (14, 25, 65), (43, 84, 85), (44, 37, 45), (37, 61, 12), (70, 93, 59), (15, 79, 21), (67, 1, 84), (93, 71, 23), (44, 91, 64), (30, 31, 69), (60, 0, 91), (75, 58, 47), (83, 90, 14), (60, 39, 18), (68, 35, 19), (19, 20, 61), (69, 70, 76), (57, 47, 22), (13, 71, 91), (73, 100, 72), (68, 32, 94), (1, 54, 45), (66, 99, 46), (40, 43, 100), (84, 28, 35), (66, 27, 41), (64, 30, 52), (7, 41, 63), (91, 55, 100), (14, 0, 50), (51, 58, 44), (17, 98, 46), (81, 73, 72), (56, 21, 81), (17, 7, 53), (22, 23, 49), (80, 14, 72), (19, 18, 26), (20, 68, 92), (96, 50, 22), (17, 41, 67), (94, 13, 25), (41, 63, 18), (45, 86, 3), (31, 95, 15), (41, 15, 25), (20, 69, 3), (91, 64, 17), (37, 96, 77), (53, 33, 29), (63, 74, 18), (70, 2, 18), (36, 94, 28), (78, 6, 43), (75, 77, 19), (0, 83, 88), (21, 11, 5), (60, 19, 95), (90, 68, 36), (90, 59, 30), (65, 38, 59), (25, 98, 64), (77, 0, 79), (0, 38, 5), (30, 61, 84), (10, 97, 75), (73, 75, 82), (52, 14, 45), (56, 97, 100), (36, 91, 9), (71, 72, 70), (1, 4, 96), (54, 93, 72), (34, 78, 96), (23, 82, 42), (52, 54, 55), (77, 97, 98), (87, 41, 70), (24, 45, 94), (20, 15, 0), (37, 22, 34), (95, 92, 76), (79, 78, 83), (72, 31, 27)]\n"
     ]
    }
   ],
   "source": [
    "def MAP(t):\n",
    "  return (t, t)\n",
    "\n",
    "\n",
    "def REDUCE(key, values: Iterator[NamedTuple]):\n",
    "    return (key, key)\n",
    "\n",
    "def RECORDREADER(count):\n",
    "    return [(random.randint(0, 100), random.randint(0, 100), random.randint(0, 100)) for i in range(count)]\n",
    "\n",
    "def group_by_key(iterable):\n",
    "  t = {}\n",
    "  for (k2, v2) in iterable:\n",
    "    t[k2] = t.get(k2, []) + [v2]\n",
    "  return t.items()\n",
    "\n",
    "record = RECORDREADER(100)\n",
    "print('Кортежи:\\n')\n",
    "print(record)\n",
    "map_output = list(map(lambda x: MAP(x), RECORDREADER(100)))\n",
    "\n",
    "print('Мап:\\n')\n",
    "print(map_output)\n",
    "\n",
    "shuffle_output = group_by_key(map_output)\n",
    "shuffle_output = list(shuffle_output)\n",
    "\n",
    "print('Группировка:\\n')\n",
    "print(shuffle_output)\n",
    "\n",
    "reduce_output = list(map(lambda x: REDUCE(*x)[0], shuffle_output))\n",
    "print('Объединение:\\n')\n",
    "print(reduce_output)"
   ]
  },
  {
   "cell_type": "markdown",
   "metadata": {
    "id": "dQ8TuEbjv4J8"
   },
   "source": [
    "### Intersection (Пересечение)\n",
    "\n",
    "**The Map Function:** Превратите каждый кортеж $t$ в пары ключ-значение $(t, t)$.\n",
    "\n",
    "**The Reduce Function:** Если для ключа $t$ есть список из двух элементов $[t, t]$ $-$ создайте пару $(t, t)$. Иначе, ничего не создавайте."
   ]
  },
  {
   "cell_type": "code",
   "execution_count": 42,
   "metadata": {
    "colab": {
     "base_uri": "https://localhost:8080/"
    },
    "id": "XKlBZh4IwERR",
    "outputId": "cda173e1-9766-409f-898e-3b0d38818e5a"
   },
   "outputs": [
    {
     "name": "stdout",
     "output_type": "stream",
     "text": [
      "Кортежи:\n",
      "\n",
      "[(2, 0), (2, 3), (2, 0), (2, 1), (1, 1), (1, 2), (0, 2), (3, 1), (3, 3), (1, 0), (0, 1), (3, 2), (0, 0), (3, 3), (0, 2), (3, 3), (0, 0), (0, 3), (3, 2), (1, 3), (1, 1), (0, 3), (0, 1), (2, 0), (2, 2), (3, 2), (2, 0), (2, 3), (1, 1), (2, 0), (0, 0), (0, 2), (3, 2), (3, 3), (2, 2), (0, 0), (3, 2), (3, 1), (2, 1), (0, 0), (1, 3), (3, 3), (1, 0), (1, 3), (2, 0), (3, 1), (1, 2), (3, 2), (3, 0), (1, 3), (2, 2), (1, 1), (2, 3), (2, 2), (1, 1), (0, 3), (3, 2), (1, 0), (3, 0), (2, 2), (1, 3), (2, 3), (1, 0), (3, 2), (0, 1), (1, 0), (1, 0), (3, 2), (3, 1), (2, 0), (3, 0), (3, 2), (2, 3), (0, 1), (0, 2), (2, 2), (3, 0), (1, 1), (1, 3), (3, 2), (3, 2), (0, 1), (0, 2), (0, 2), (3, 2), (0, 3), (0, 2), (3, 0), (1, 1), (3, 2), (1, 2), (3, 2), (1, 3), (3, 0), (3, 3), (0, 1), (3, 2), (0, 1), (2, 3), (1, 1)]\n",
      "Кортежи:\n",
      "\n",
      "[((3, 2), (3, 2)), ((1, 1), (1, 1)), ((0, 2), (0, 2)), ((0, 2), (0, 2)), ((3, 2), (3, 2)), ((0, 2), (0, 2)), ((2, 0), (2, 0)), ((2, 1), (2, 1)), ((1, 0), (1, 0)), ((3, 2), (3, 2)), ((0, 0), (0, 0)), ((1, 2), (1, 2)), ((3, 0), (3, 0)), ((1, 3), (1, 3)), ((2, 0), (2, 0)), ((1, 1), (1, 1)), ((0, 2), (0, 2)), ((2, 3), (2, 3)), ((0, 0), (0, 0)), ((1, 1), (1, 1)), ((3, 1), (3, 1)), ((0, 0), (0, 0)), ((0, 3), (0, 3)), ((0, 2), (0, 2)), ((3, 0), (3, 0)), ((3, 2), (3, 2)), ((3, 3), (3, 3)), ((3, 0), (3, 0)), ((3, 2), (3, 2)), ((0, 1), (0, 1)), ((1, 2), (1, 2)), ((0, 0), (0, 0)), ((1, 1), (1, 1)), ((1, 1), (1, 1)), ((3, 0), (3, 0)), ((0, 0), (0, 0)), ((2, 1), (2, 1)), ((3, 3), (3, 3)), ((3, 2), (3, 2)), ((2, 1), (2, 1)), ((3, 0), (3, 0)), ((1, 2), (1, 2)), ((2, 1), (2, 1)), ((2, 3), (2, 3)), ((0, 0), (0, 0)), ((0, 3), (0, 3)), ((3, 3), (3, 3)), ((3, 1), (3, 1)), ((3, 0), (3, 0)), ((3, 3), (3, 3)), ((2, 1), (2, 1)), ((3, 3), (3, 3)), ((0, 1), (0, 1)), ((3, 2), (3, 2)), ((0, 1), (0, 1)), ((0, 2), (0, 2)), ((1, 0), (1, 0)), ((2, 0), (2, 0)), ((2, 2), (2, 2)), ((2, 3), (2, 3)), ((0, 1), (0, 1)), ((0, 2), (0, 2)), ((0, 3), (0, 3)), ((3, 2), (3, 2)), ((3, 0), (3, 0)), ((1, 2), (1, 2)), ((0, 3), (0, 3)), ((2, 3), (2, 3)), ((0, 1), (0, 1)), ((2, 0), (2, 0)), ((2, 3), (2, 3)), ((3, 2), (3, 2)), ((0, 1), (0, 1)), ((0, 1), (0, 1)), ((0, 2), (0, 2)), ((3, 2), (3, 2)), ((1, 0), (1, 0)), ((1, 1), (1, 1)), ((3, 0), (3, 0)), ((1, 3), (1, 3)), ((2, 1), (2, 1)), ((2, 0), (2, 0)), ((0, 0), (0, 0)), ((3, 3), (3, 3)), ((2, 3), (2, 3)), ((3, 0), (3, 0)), ((3, 1), (3, 1)), ((2, 0), (2, 0)), ((2, 2), (2, 2)), ((3, 0), (3, 0)), ((3, 3), (3, 3)), ((2, 2), (2, 2)), ((0, 0), (0, 0)), ((0, 0), (0, 0)), ((2, 3), (2, 3)), ((3, 1), (3, 1)), ((1, 0), (1, 0)), ((1, 1), (1, 1)), ((2, 0), (2, 0)), ((3, 0), (3, 0))]\n",
      "Группировка:\n",
      "\n",
      "[((3, 2), [(3, 2), (3, 2), (3, 2), (3, 2), (3, 2), (3, 2), (3, 2), (3, 2), (3, 2), (3, 2)]), ((1, 1), [(1, 1), (1, 1), (1, 1), (1, 1), (1, 1), (1, 1), (1, 1)]), ((0, 2), [(0, 2), (0, 2), (0, 2), (0, 2), (0, 2), (0, 2), (0, 2), (0, 2)]), ((2, 0), [(2, 0), (2, 0), (2, 0), (2, 0), (2, 0), (2, 0), (2, 0)]), ((2, 1), [(2, 1), (2, 1), (2, 1), (2, 1), (2, 1), (2, 1)]), ((1, 0), [(1, 0), (1, 0), (1, 0), (1, 0)]), ((0, 0), [(0, 0), (0, 0), (0, 0), (0, 0), (0, 0), (0, 0), (0, 0), (0, 0), (0, 0)]), ((1, 2), [(1, 2), (1, 2), (1, 2), (1, 2)]), ((3, 0), [(3, 0), (3, 0), (3, 0), (3, 0), (3, 0), (3, 0), (3, 0), (3, 0), (3, 0), (3, 0), (3, 0)]), ((1, 3), [(1, 3), (1, 3)]), ((2, 3), [(2, 3), (2, 3), (2, 3), (2, 3), (2, 3), (2, 3), (2, 3)]), ((3, 1), [(3, 1), (3, 1), (3, 1), (3, 1)]), ((0, 3), [(0, 3), (0, 3), (0, 3), (0, 3)]), ((3, 3), [(3, 3), (3, 3), (3, 3), (3, 3), (3, 3), (3, 3), (3, 3)]), ((0, 1), [(0, 1), (0, 1), (0, 1), (0, 1), (0, 1), (0, 1), (0, 1)]), ((2, 2), [(2, 2), (2, 2), (2, 2)])]\n",
      "Пересечение:\n",
      "\n",
      "[(1, 3)]\n"
     ]
    }
   ],
   "source": [
    "def MAP(t):\n",
    "  return (t, t)\n",
    "\n",
    "\n",
    "def REDUCE(key, values: Iterator[NamedTuple]):\n",
    "  if len(values) == 2:\n",
    "    return (key, key)\n",
    "\n",
    "def RECORDREADER(count):\n",
    "    return [(random.randint(0, 3), random.randint(0, 3)) for i in range(count)]\n",
    "\n",
    "def group_by_key(iterable):\n",
    "  t = {}\n",
    "  for (k2, v2) in iterable:\n",
    "    t[k2] = t.get(k2, []) + [v2]\n",
    "  return t.items()\n",
    "\n",
    "record = RECORDREADER(100)\n",
    "print('Кортежи:\\n')\n",
    "print(record)\n",
    "map_output = list(map(lambda x: MAP(x), RECORDREADER(100)))\n",
    "\n",
    "print('Кортежи:\\n')\n",
    "print(map_output)\n",
    "\n",
    "shuffle_output = group_by_key(map_output)\n",
    "shuffle_output = list(shuffle_output)\n",
    "\n",
    "print('Группировка:\\n')\n",
    "print(shuffle_output)\n",
    "\n",
    "reduce_output = [el[0] for el in list(map(lambda x: REDUCE(*x), shuffle_output)) if el is not None]\n",
    "print('Пересечение:\\n')\n",
    "print(reduce_output)"
   ]
  },
  {
   "cell_type": "markdown",
   "metadata": {
    "id": "AVOpqoY3wE5k"
   },
   "source": [
    "### Difference (Разница)\n",
    "\n",
    "**The Map Function:** Для кортежа $t \\in R$, создайте пару $(t, R)$, и для кортежа $t \\in S$, создайте пару $(t, S)$. Задумка заключается в том, чтобы значение пары было именем отношения $R$ or $S$, которому принадлежит кортеж (а лучше, единичный бит, по которому можно два отношения различить $R$ or $S$), а не весь набор атрибутов отношения.\n",
    "\n",
    "**The Reduce Function:** Для каждого ключа $t$, если соответствующее значение является списком $[R]$, создайте пару $(t, t)$. В иных случаях не предпринимайте действий."
   ]
  },
  {
   "cell_type": "code",
   "execution_count": 44,
   "metadata": {
    "colab": {
     "base_uri": "https://localhost:8080/"
    },
    "id": "QE_AC09lwZIZ",
    "outputId": "39738bc2-ab83-44a7-f507-25f4f3f2eba5"
   },
   "outputs": [
    {
     "name": "stdout",
     "output_type": "stream",
     "text": [
      "Мап:\n",
      "\n",
      "[(((3, 2), (2, 3), (3, 3)), 2), (((3, 2), (3, 1), (3, 0)), 2), (((2, 2), (0, 1), (0, 0)), 2), (((3, 0), (0, 1), (1, 1)), 2), (((2, 3), (2, 2), (1, 1)), 1), (((1, 0), (0, 0), (0, 1)), 2), (((0, 2), (3, 3), (2, 1)), 2), (((0, 2), (0, 1), (2, 2)), 1), (((0, 2), (0, 0), (2, 1)), 2), (((2, 3), (0, 2), (0, 0)), 1), (((3, 3), (3, 1), (1, 1)), 2), (((2, 0), (3, 3), (3, 0)), 2), (((1, 1), (2, 2), (1, 3)), 2), (((0, 3), (2, 1), (2, 0)), 2), (((1, 2), (1, 0), (1, 2)), 2), (((3, 1), (3, 2), (0, 3)), 2), (((0, 3), (1, 0), (0, 0)), 1), (((1, 1), (2, 2), (3, 3)), 1), (((1, 2), (1, 0), (1, 2)), 2), (((2, 0), (1, 0), (1, 1)), 2), (((1, 2), (1, 2), (2, 3)), 1), (((2, 1), (2, 0), (3, 1)), 2), (((2, 3), (0, 1), (0, 3)), 2), (((0, 0), (3, 1), (0, 1)), 1), (((2, 2), (0, 1), (0, 2)), 2), (((3, 0), (1, 0), (3, 2)), 1), (((3, 3), (3, 0), (0, 1)), 2), (((2, 3), (1, 0), (0, 3)), 1), (((3, 2), (1, 3), (0, 2)), 1), (((2, 2), (0, 3), (2, 1)), 2), (((3, 3), (1, 2), (2, 2)), 1), (((3, 3), (3, 0), (1, 3)), 2), (((0, 3), (0, 0), (1, 0)), 1), (((1, 0), (2, 1), (3, 2)), 2), (((0, 0), (3, 2), (1, 2)), 2), (((3, 1), (3, 2), (2, 0)), 1), (((2, 0), (0, 3), (2, 2)), 2), (((3, 0), (0, 1), (2, 1)), 2), (((3, 1), (3, 1), (2, 1)), 2), (((1, 3), (3, 3), (3, 1)), 2), (((1, 3), (1, 0), (2, 2)), 1), (((0, 1), (0, 1), (2, 1)), 2), (((2, 0), (1, 1), (3, 2)), 2), (((2, 1), (2, 3), (1, 1)), 1), (((1, 2), (1, 3), (3, 1)), 2), (((1, 0), (2, 3), (2, 3)), 1), (((2, 0), (1, 3), (2, 3)), 1), (((0, 1), (1, 0), (1, 1)), 2), (((3, 2), (1, 2), (0, 2)), 1), (((2, 0), (3, 1), (1, 0)), 1), (((3, 0), (2, 0), (3, 0)), 2), (((1, 3), (2, 0), (3, 0)), 2), (((2, 3), (2, 0), (2, 2)), 2), (((1, 0), (2, 3), (1, 2)), 1), (((1, 0), (0, 0), (3, 3)), 2), (((2, 0), (0, 3), (2, 1)), 1), (((0, 3), (3, 2), (0, 0)), 1), (((3, 0), (2, 1), (0, 2)), 2), (((1, 2), (2, 3), (2, 3)), 1), (((0, 3), (0, 2), (0, 1)), 2), (((0, 0), (0, 0), (2, 3)), 1), (((0, 0), (2, 3), (0, 2)), 2), (((2, 3), (2, 2), (2, 3)), 2), (((3, 3), (1, 2), (2, 1)), 1), (((1, 0), (1, 1), (2, 2)), 1), (((0, 3), (0, 2), (2, 1)), 1), (((3, 2), (2, 0), (1, 3)), 1), (((3, 1), (2, 0), (1, 1)), 2), (((1, 3), (3, 2), (2, 0)), 2), (((2, 1), (0, 3), (2, 3)), 1), (((0, 2), (0, 3), (2, 2)), 1), (((3, 3), (1, 1), (1, 0)), 2), (((0, 3), (2, 2), (1, 0)), 1), (((1, 1), (1, 0), (0, 3)), 1), (((2, 1), (3, 0), (3, 3)), 1), (((1, 3), (3, 2), (2, 1)), 2), (((2, 3), (3, 2), (2, 3)), 1), (((1, 3), (3, 2), (2, 1)), 1), (((1, 3), (3, 2), (3, 1)), 2), (((0, 3), (2, 2), (1, 0)), 2), (((1, 0), (2, 1), (0, 1)), 2), (((3, 2), (0, 2), (0, 1)), 1), (((3, 1), (2, 0), (0, 3)), 1), (((3, 3), (2, 2), (1, 1)), 2), (((2, 3), (3, 3), (3, 0)), 2), (((3, 0), (3, 2), (2, 2)), 1), (((2, 1), (1, 3), (0, 3)), 2), (((0, 0), (1, 0), (0, 0)), 1), (((0, 1), (2, 0), (2, 3)), 1), (((3, 3), (3, 0), (3, 2)), 2), (((0, 1), (3, 3), (2, 2)), 1), (((1, 1), (3, 0), (3, 1)), 2), (((0, 3), (0, 1), (1, 3)), 2), (((2, 2), (3, 0), (3, 3)), 1), (((3, 3), (0, 3), (1, 0)), 2), (((3, 1), (1, 1), (1, 1)), 2), (((1, 1), (0, 2), (1, 1)), 2), (((1, 0), (0, 0), (1, 1)), 1), (((3, 1), (2, 1), (3, 3)), 1), (((0, 2), (1, 0), (1, 0)), 1)]\n",
      "Группировка:\n",
      "\n",
      "[(((3, 2), (2, 3), (3, 3)), [2]), (((3, 2), (3, 1), (3, 0)), [2]), (((2, 2), (0, 1), (0, 0)), [2]), (((3, 0), (0, 1), (1, 1)), [2]), (((2, 3), (2, 2), (1, 1)), [1]), (((1, 0), (0, 0), (0, 1)), [2]), (((0, 2), (3, 3), (2, 1)), [2]), (((0, 2), (0, 1), (2, 2)), [1]), (((0, 2), (0, 0), (2, 1)), [2]), (((2, 3), (0, 2), (0, 0)), [1]), (((3, 3), (3, 1), (1, 1)), [2]), (((2, 0), (3, 3), (3, 0)), [2]), (((1, 1), (2, 2), (1, 3)), [2]), (((0, 3), (2, 1), (2, 0)), [2]), (((1, 2), (1, 0), (1, 2)), [2, 2]), (((3, 1), (3, 2), (0, 3)), [2]), (((0, 3), (1, 0), (0, 0)), [1]), (((1, 1), (2, 2), (3, 3)), [1]), (((2, 0), (1, 0), (1, 1)), [2]), (((1, 2), (1, 2), (2, 3)), [1]), (((2, 1), (2, 0), (3, 1)), [2]), (((2, 3), (0, 1), (0, 3)), [2]), (((0, 0), (3, 1), (0, 1)), [1]), (((2, 2), (0, 1), (0, 2)), [2]), (((3, 0), (1, 0), (3, 2)), [1]), (((3, 3), (3, 0), (0, 1)), [2]), (((2, 3), (1, 0), (0, 3)), [1]), (((3, 2), (1, 3), (0, 2)), [1]), (((2, 2), (0, 3), (2, 1)), [2]), (((3, 3), (1, 2), (2, 2)), [1]), (((3, 3), (3, 0), (1, 3)), [2]), (((0, 3), (0, 0), (1, 0)), [1]), (((1, 0), (2, 1), (3, 2)), [2]), (((0, 0), (3, 2), (1, 2)), [2]), (((3, 1), (3, 2), (2, 0)), [1]), (((2, 0), (0, 3), (2, 2)), [2]), (((3, 0), (0, 1), (2, 1)), [2]), (((3, 1), (3, 1), (2, 1)), [2]), (((1, 3), (3, 3), (3, 1)), [2]), (((1, 3), (1, 0), (2, 2)), [1]), (((0, 1), (0, 1), (2, 1)), [2]), (((2, 0), (1, 1), (3, 2)), [2]), (((2, 1), (2, 3), (1, 1)), [1]), (((1, 2), (1, 3), (3, 1)), [2]), (((1, 0), (2, 3), (2, 3)), [1]), (((2, 0), (1, 3), (2, 3)), [1]), (((0, 1), (1, 0), (1, 1)), [2]), (((3, 2), (1, 2), (0, 2)), [1]), (((2, 0), (3, 1), (1, 0)), [1]), (((3, 0), (2, 0), (3, 0)), [2]), (((1, 3), (2, 0), (3, 0)), [2]), (((2, 3), (2, 0), (2, 2)), [2]), (((1, 0), (2, 3), (1, 2)), [1]), (((1, 0), (0, 0), (3, 3)), [2]), (((2, 0), (0, 3), (2, 1)), [1]), (((0, 3), (3, 2), (0, 0)), [1]), (((3, 0), (2, 1), (0, 2)), [2]), (((1, 2), (2, 3), (2, 3)), [1]), (((0, 3), (0, 2), (0, 1)), [2]), (((0, 0), (0, 0), (2, 3)), [1]), (((0, 0), (2, 3), (0, 2)), [2]), (((2, 3), (2, 2), (2, 3)), [2]), (((3, 3), (1, 2), (2, 1)), [1]), (((1, 0), (1, 1), (2, 2)), [1]), (((0, 3), (0, 2), (2, 1)), [1]), (((3, 2), (2, 0), (1, 3)), [1]), (((3, 1), (2, 0), (1, 1)), [2]), (((1, 3), (3, 2), (2, 0)), [2]), (((2, 1), (0, 3), (2, 3)), [1]), (((0, 2), (0, 3), (2, 2)), [1]), (((3, 3), (1, 1), (1, 0)), [2]), (((0, 3), (2, 2), (1, 0)), [1, 2]), (((1, 1), (1, 0), (0, 3)), [1]), (((2, 1), (3, 0), (3, 3)), [1]), (((1, 3), (3, 2), (2, 1)), [2, 1]), (((2, 3), (3, 2), (2, 3)), [1]), (((1, 3), (3, 2), (3, 1)), [2]), (((1, 0), (2, 1), (0, 1)), [2]), (((3, 2), (0, 2), (0, 1)), [1]), (((3, 1), (2, 0), (0, 3)), [1]), (((3, 3), (2, 2), (1, 1)), [2]), (((2, 3), (3, 3), (3, 0)), [2]), (((3, 0), (3, 2), (2, 2)), [1]), (((2, 1), (1, 3), (0, 3)), [2]), (((0, 0), (1, 0), (0, 0)), [1]), (((0, 1), (2, 0), (2, 3)), [1]), (((3, 3), (3, 0), (3, 2)), [2]), (((0, 1), (3, 3), (2, 2)), [1]), (((1, 1), (3, 0), (3, 1)), [2]), (((0, 3), (0, 1), (1, 3)), [2]), (((2, 2), (3, 0), (3, 3)), [1]), (((3, 3), (0, 3), (1, 0)), [2]), (((3, 1), (1, 1), (1, 1)), [2]), (((1, 1), (0, 2), (1, 1)), [2]), (((1, 0), (0, 0), (1, 1)), [1]), (((3, 1), (2, 1), (3, 3)), [1]), (((0, 2), (1, 0), (1, 0)), [1])]\n",
      "Разница:\n",
      "\n",
      "[((2, 3), (2, 2), (1, 1)), ((0, 2), (0, 1), (2, 2)), ((2, 3), (0, 2), (0, 0)), ((0, 3), (1, 0), (0, 0)), ((1, 1), (2, 2), (3, 3)), ((1, 2), (1, 2), (2, 3)), ((0, 0), (3, 1), (0, 1)), ((3, 0), (1, 0), (3, 2)), ((2, 3), (1, 0), (0, 3)), ((3, 2), (1, 3), (0, 2)), ((3, 3), (1, 2), (2, 2)), ((0, 3), (0, 0), (1, 0)), ((3, 1), (3, 2), (2, 0)), ((1, 3), (1, 0), (2, 2)), ((2, 1), (2, 3), (1, 1)), ((1, 0), (2, 3), (2, 3)), ((2, 0), (1, 3), (2, 3)), ((3, 2), (1, 2), (0, 2)), ((2, 0), (3, 1), (1, 0)), ((1, 0), (2, 3), (1, 2)), ((2, 0), (0, 3), (2, 1)), ((0, 3), (3, 2), (0, 0)), ((1, 2), (2, 3), (2, 3)), ((0, 0), (0, 0), (2, 3)), ((3, 3), (1, 2), (2, 1)), ((1, 0), (1, 1), (2, 2)), ((0, 3), (0, 2), (2, 1)), ((3, 2), (2, 0), (1, 3)), ((2, 1), (0, 3), (2, 3)), ((0, 2), (0, 3), (2, 2)), ((1, 1), (1, 0), (0, 3)), ((2, 1), (3, 0), (3, 3)), ((2, 3), (3, 2), (2, 3)), ((3, 2), (0, 2), (0, 1)), ((3, 1), (2, 0), (0, 3)), ((3, 0), (3, 2), (2, 2)), ((0, 0), (1, 0), (0, 0)), ((0, 1), (2, 0), (2, 3)), ((0, 1), (3, 3), (2, 2)), ((2, 2), (3, 0), (3, 3)), ((1, 0), (0, 0), (1, 1)), ((3, 1), (2, 1), (3, 3)), ((0, 2), (1, 0), (1, 0))]\n"
     ]
    }
   ],
   "source": [
    "rels = [1, 2]\n",
    "class Tuple: # класс кортежа, который хранит данные и имя представления из массива rels выше\n",
    "  def __init__(self, data: tuple, rel_id: int):\n",
    "    self.data = data\n",
    "    self.rel_id = rel_id\n",
    "\n",
    "def get_random_tuple(count):\n",
    "  data = tuple([(random.randint(0, 3), random.randint(0, 3)) for i in range(count)])\n",
    "  rel_id = rels[random.randint(0, len(rels) - 1)]\n",
    "  return Tuple(data, rel_id)\n",
    "\n",
    "\n",
    "def RECORDREADER(count):\n",
    "    return [get_random_tuple(3) for i in range(count)]\n",
    "\n",
    "def MAP(t: Tuple):\n",
    "  return (t.data, t.rel_id)\n",
    "\n",
    "def REDUCE(key, values: Iterator[NamedTuple]):\n",
    "  if values == [rels[0]]: # если соответствующее значение является списком  [R] , создайте пару  (t,t)\n",
    "    return (key, key)\n",
    "\n",
    "def group_by_key(iterable):\n",
    "  t = {}\n",
    "  for (k2, v2) in iterable:\n",
    "    t[k2] = t.get(k2, []) + [v2]\n",
    "  return t.items()\n",
    "\n",
    "record = RECORDREADER(100)\n",
    "\n",
    "# print('Кортежи:\\n')\n",
    "# print(record)\n",
    "map_output = list(map(lambda x: MAP(x), RECORDREADER(100)))\n",
    "\n",
    "print('Мап:\\n')\n",
    "print(map_output)\n",
    "\n",
    "shuffle_output = group_by_key(map_output)\n",
    "shuffle_output = list(shuffle_output)\n",
    "\n",
    "print('Группировка:\\n')\n",
    "print(shuffle_output)\n",
    "\n",
    "reduce_output = [el[0] for el in list(map(lambda x: REDUCE(*x), shuffle_output)) if el is not None]\n",
    "\n",
    "print('Разница:\\n')\n",
    "print(reduce_output)"
   ]
  },
  {
   "cell_type": "markdown",
   "metadata": {
    "id": "j8I58V2VwhSm"
   },
   "source": [
    "### Natural Join\n",
    "\n",
    "**The Map Function:** Для каждого кортежа $(a, b)$ отношения $R$, создайте пару $(b,(R, a))$. Для каждого кортежа $(b, c)$ отношения $S$, создайте пару $(b,(S, c))$.\n",
    "\n",
    "**The Reduce Function:** Каждый ключ $b$ будет асоциирован со списком пар, которые принимают форму либо $(R, a)$, либо $(S, c)$. Создайте все пары, одни, состоящие из  первого компонента $R$, а другие, из первого компонента $S$, то есть $(R, a)$ и $(S, c)$. На выходе вы получаете последовательность пар ключ-значение из списков ключей и значений. Ключ не нужен. Каждое значение, это тройка $(a, b, c)$ такая, что $(R, a)$ и $(S, c)$ это принадлежат входному списку значений."
   ]
  },
  {
   "cell_type": "code",
   "execution_count": 45,
   "metadata": {
    "colab": {
     "base_uri": "https://localhost:8080/"
    },
    "id": "yHiuuTctw86I",
    "outputId": "e052d36a-4979-4d2e-d4f9-bad418a1addf"
   },
   "outputs": [
    {
     "name": "stdout",
     "output_type": "stream",
     "text": [
      "Кортежи:\n",
      "\n",
      "[<__main__.Tuple object at 0x00000258D5474D90>, <__main__.Tuple object at 0x00000258D5474ED0>, <__main__.Tuple object at 0x00000258D548C650>, <__main__.Tuple object at 0x00000258D548CA50>, <__main__.Tuple object at 0x00000258D548C510>, <__main__.Tuple object at 0x00000258D548C7D0>, <__main__.Tuple object at 0x00000258D548CA10>, <__main__.Tuple object at 0x00000258D548CB10>, <__main__.Tuple object at 0x00000258D548CB50>, <__main__.Tuple object at 0x00000258D548C4D0>, <__main__.Tuple object at 0x00000258D548CB90>, <__main__.Tuple object at 0x00000258D548CBD0>, <__main__.Tuple object at 0x00000258D548CC50>, <__main__.Tuple object at 0x00000258D548CC90>, <__main__.Tuple object at 0x00000258D548CCD0>, <__main__.Tuple object at 0x00000258D548CD10>, <__main__.Tuple object at 0x00000258D548CD50>, <__main__.Tuple object at 0x00000258D548CD90>, <__main__.Tuple object at 0x00000258D548CDD0>, <__main__.Tuple object at 0x00000258D548CE10>, <__main__.Tuple object at 0x00000258D548CE50>, <__main__.Tuple object at 0x00000258D548CE90>, <__main__.Tuple object at 0x00000258D548CED0>, <__main__.Tuple object at 0x00000258D548CF10>, <__main__.Tuple object at 0x00000258D548CF90>, <__main__.Tuple object at 0x00000258D548CFD0>, <__main__.Tuple object at 0x00000258D548D010>, <__main__.Tuple object at 0x00000258D548D050>, <__main__.Tuple object at 0x00000258D548D090>, <__main__.Tuple object at 0x00000258D548D0D0>, <__main__.Tuple object at 0x00000258D548D110>, <__main__.Tuple object at 0x00000258D548D150>, <__main__.Tuple object at 0x00000258D548D190>, <__main__.Tuple object at 0x00000258D548D1D0>, <__main__.Tuple object at 0x00000258D548D210>, <__main__.Tuple object at 0x00000258D548D250>, <__main__.Tuple object at 0x00000258D548D290>, <__main__.Tuple object at 0x00000258D548D2D0>, <__main__.Tuple object at 0x00000258D548D310>, <__main__.Tuple object at 0x00000258D548D350>, <__main__.Tuple object at 0x00000258D548D390>, <__main__.Tuple object at 0x00000258D548D3D0>, <__main__.Tuple object at 0x00000258D548D410>, <__main__.Tuple object at 0x00000258D548D450>, <__main__.Tuple object at 0x00000258D548D490>, <__main__.Tuple object at 0x00000258D548D4D0>, <__main__.Tuple object at 0x00000258D548D510>, <__main__.Tuple object at 0x00000258D548D550>, <__main__.Tuple object at 0x00000258D548D590>, <__main__.Tuple object at 0x00000258D548D5D0>, <__main__.Tuple object at 0x00000258D548D610>, <__main__.Tuple object at 0x00000258D548D650>, <__main__.Tuple object at 0x00000258D548D690>, <__main__.Tuple object at 0x00000258D548D6D0>, <__main__.Tuple object at 0x00000258D548D710>, <__main__.Tuple object at 0x00000258D548D750>, <__main__.Tuple object at 0x00000258D548D790>, <__main__.Tuple object at 0x00000258D548D7D0>, <__main__.Tuple object at 0x00000258D548D810>, <__main__.Tuple object at 0x00000258D548D850>, <__main__.Tuple object at 0x00000258D548D890>, <__main__.Tuple object at 0x00000258D548D8D0>, <__main__.Tuple object at 0x00000258D548D910>, <__main__.Tuple object at 0x00000258D548D950>, <__main__.Tuple object at 0x00000258D548D990>, <__main__.Tuple object at 0x00000258D548D9D0>, <__main__.Tuple object at 0x00000258D548DA10>, <__main__.Tuple object at 0x00000258D548DA50>, <__main__.Tuple object at 0x00000258D548DA90>, <__main__.Tuple object at 0x00000258D548DAD0>, <__main__.Tuple object at 0x00000258D548DB10>, <__main__.Tuple object at 0x00000258D548DB50>, <__main__.Tuple object at 0x00000258D548DB90>, <__main__.Tuple object at 0x00000258D548DBD0>, <__main__.Tuple object at 0x00000258D548DC10>, <__main__.Tuple object at 0x00000258D548DC50>, <__main__.Tuple object at 0x00000258D548DC90>, <__main__.Tuple object at 0x00000258D548DCD0>, <__main__.Tuple object at 0x00000258D548DD10>, <__main__.Tuple object at 0x00000258D548DD50>, <__main__.Tuple object at 0x00000258D548DD90>, <__main__.Tuple object at 0x00000258D548DDD0>, <__main__.Tuple object at 0x00000258D548DE10>, <__main__.Tuple object at 0x00000258D548DE50>, <__main__.Tuple object at 0x00000258D548DE90>, <__main__.Tuple object at 0x00000258D548DED0>, <__main__.Tuple object at 0x00000258D548DF10>, <__main__.Tuple object at 0x00000258D548DF50>, <__main__.Tuple object at 0x00000258D548DF90>, <__main__.Tuple object at 0x00000258D548DFD0>, <__main__.Tuple object at 0x00000258D548E010>, <__main__.Tuple object at 0x00000258D548E050>, <__main__.Tuple object at 0x00000258D548E090>, <__main__.Tuple object at 0x00000258D548E0D0>, <__main__.Tuple object at 0x00000258D548E110>, <__main__.Tuple object at 0x00000258D548E150>, <__main__.Tuple object at 0x00000258D548E190>, <__main__.Tuple object at 0x00000258D548E1D0>, <__main__.Tuple object at 0x00000258D548E210>, <__main__.Tuple object at 0x00000258D548E250>]\n",
      "Мап:\n",
      "\n",
      "[(2, (1, 3)), (0, (2, 2)), (3, (1, 0)), (2, (2, 1)), (2, (2, 2)), (0, (1, 0)), (2, (2, 1)), (3, (2, 2)), (2, (1, 2)), (3, (2, 3)), (0, (1, 2)), (3, (1, 3)), (3, (1, 0)), (3, (2, 1)), (2, (1, 3)), (3, (1, 3)), (2, (2, 3)), (2, (2, 3)), (1, (1, 1)), (2, (2, 0)), (3, (2, 1)), (0, (2, 3)), (1, (1, 1)), (3, (2, 1)), (2, (1, 2)), (3, (1, 3)), (3, (2, 2)), (1, (1, 2)), (3, (1, 2)), (3, (2, 0)), (3, (2, 3)), (0, (2, 2)), (3, (1, 1)), (1, (2, 1)), (0, (1, 1)), (3, (1, 2)), (2, (1, 3)), (0, (2, 0)), (2, (1, 0)), (0, (2, 1)), (1, (1, 2)), (1, (2, 2)), (1, (2, 1)), (3, (1, 0)), (2, (2, 2)), (1, (1, 2)), (1, (1, 0)), (0, (1, 2)), (0, (1, 0)), (3, (2, 1)), (0, (2, 1)), (0, (2, 2)), (1, (1, 2)), (3, (2, 3)), (0, (1, 2)), (3, (2, 3)), (0, (2, 1)), (3, (2, 3)), (0, (2, 3)), (1, (2, 0)), (2, (1, 0)), (0, (2, 1)), (3, (1, 2)), (3, (2, 2)), (3, (2, 3)), (2, (1, 2)), (2, (2, 1)), (0, (2, 3)), (0, (1, 3)), (0, (1, 1)), (3, (2, 3)), (3, (2, 1)), (2, (1, 3)), (2, (2, 0)), (3, (1, 1)), (2, (2, 0)), (2, (1, 2)), (0, (1, 3)), (3, (1, 1)), (1, (1, 2)), (0, (2, 1)), (1, (1, 3)), (1, (1, 1)), (0, (1, 3)), (0, (1, 3)), (3, (1, 0)), (0, (2, 1)), (1, (1, 1)), (1, (2, 1)), (3, (1, 3)), (3, (2, 0)), (0, (1, 1)), (2, (1, 0)), (0, (2, 0)), (0, (1, 1)), (2, (2, 3)), (2, (2, 1)), (1, (2, 0)), (1, (2, 3)), (1, (1, 0))]\n",
      "Группировка:\n",
      "\n",
      "[(2, [(1, 3), (2, 1), (2, 2), (2, 1), (1, 2), (1, 3), (2, 3), (2, 3), (2, 0), (1, 2), (1, 3), (1, 0), (2, 2), (1, 0), (1, 2), (2, 1), (1, 3), (2, 0), (2, 0), (1, 2), (1, 0), (2, 3), (2, 1)]), (0, [(2, 2), (1, 0), (1, 2), (2, 3), (2, 2), (1, 1), (2, 0), (2, 1), (1, 2), (1, 0), (2, 1), (2, 2), (1, 2), (2, 1), (2, 3), (2, 1), (2, 3), (1, 3), (1, 1), (1, 3), (2, 1), (1, 3), (1, 3), (2, 1), (1, 1), (2, 0), (1, 1)]), (3, [(1, 0), (2, 2), (2, 3), (1, 3), (1, 0), (2, 1), (1, 3), (2, 1), (2, 1), (1, 3), (2, 2), (1, 2), (2, 0), (2, 3), (1, 1), (1, 2), (1, 0), (2, 1), (2, 3), (2, 3), (2, 3), (1, 2), (2, 2), (2, 3), (2, 3), (2, 1), (1, 1), (1, 1), (1, 0), (1, 3), (2, 0)]), (1, [(1, 1), (1, 1), (1, 2), (2, 1), (1, 2), (2, 2), (2, 1), (1, 2), (1, 0), (1, 2), (2, 0), (1, 2), (1, 3), (1, 1), (1, 1), (2, 1), (2, 0), (2, 3), (1, 0)])]\n",
      "Соединение:\n",
      "\n",
      "[[(1, 2, 3), (2, 2, 1), (2, 2, 2), (2, 2, 1), (1, 2, 2), (1, 2, 3), (2, 2, 3), (2, 2, 3), (2, 2, 0), (1, 2, 2), (1, 2, 3), (1, 2, 0), (2, 2, 2), (1, 2, 0), (1, 2, 2), (2, 2, 1), (1, 2, 3), (2, 2, 0), (2, 2, 0), (1, 2, 2), (1, 2, 0), (2, 2, 3), (2, 2, 1)], [(2, 0, 2), (1, 0, 0), (1, 0, 2), (2, 0, 3), (2, 0, 2), (1, 0, 1), (2, 0, 0), (2, 0, 1), (1, 0, 2), (1, 0, 0), (2, 0, 1), (2, 0, 2), (1, 0, 2), (2, 0, 1), (2, 0, 3), (2, 0, 1), (2, 0, 3), (1, 0, 3), (1, 0, 1), (1, 0, 3), (2, 0, 1), (1, 0, 3), (1, 0, 3), (2, 0, 1), (1, 0, 1), (2, 0, 0), (1, 0, 1)], [(1, 3, 0), (2, 3, 2), (2, 3, 3), (1, 3, 3), (1, 3, 0), (2, 3, 1), (1, 3, 3), (2, 3, 1), (2, 3, 1), (1, 3, 3), (2, 3, 2), (1, 3, 2), (2, 3, 0), (2, 3, 3), (1, 3, 1), (1, 3, 2), (1, 3, 0), (2, 3, 1), (2, 3, 3), (2, 3, 3), (2, 3, 3), (1, 3, 2), (2, 3, 2), (2, 3, 3), (2, 3, 3), (2, 3, 1), (1, 3, 1), (1, 3, 1), (1, 3, 0), (1, 3, 3), (2, 3, 0)], [(1, 1, 1), (1, 1, 1), (1, 1, 2), (2, 1, 1), (1, 1, 2), (2, 1, 2), (2, 1, 1), (1, 1, 2), (1, 1, 0), (1, 1, 2), (2, 1, 0), (1, 1, 2), (1, 1, 3), (1, 1, 1), (1, 1, 1), (2, 1, 1), (2, 1, 0), (2, 1, 3), (1, 1, 0)]]\n"
     ]
    }
   ],
   "source": [
    "rels = [1, 2]\n",
    "class Tuple: # класс кортежа, который хранит данные и имя представления из массива rels выше\n",
    "  def __init__(self, data: tuple, rel_id: int):\n",
    "    self.data = data\n",
    "    self.rel_id = rel_id\n",
    "\n",
    "def get_random_tuple():\n",
    "  data = (random.randint(0, 3), random.randint(0, 3))\n",
    "  rel_id = rels[random.randint(0, len(rels) - 1)]\n",
    "  return Tuple(data, rel_id)\n",
    "\n",
    "\n",
    "def RECORDREADER(count):\n",
    "  return [get_random_tuple() for i in range(count)]\n",
    "\n",
    "def MAP(t: Tuple):\n",
    "  if t.rel_id == rels[0]:\n",
    "    return (t.data[1], (t.rel_id, t.data[0]))\n",
    "  else:\n",
    "    return (t.data[0], (t.rel_id, t.data[1]))\n",
    "\n",
    "def REDUCE(key, values: Iterator[NamedTuple]):\n",
    "  res = []\n",
    "  for v in values:\n",
    "    res.append((v[0], key, v[1]))\n",
    "  return res\n",
    "\n",
    "def group_by_key(iterable):\n",
    "  t = {}\n",
    "  for (k2, v2) in iterable:\n",
    "    t[k2] = t.get(k2, []) + [v2]\n",
    "  return t.items()\n",
    "\n",
    "record = RECORDREADER(100)\n",
    "print('Кортежи:\\n')\n",
    "print(record)\n",
    "map_output = list(map(lambda x: MAP(x), RECORDREADER(100)))\n",
    "\n",
    "print('Мап:\\n')\n",
    "print(map_output)\n",
    "\n",
    "shuffle_output = group_by_key(map_output)\n",
    "shuffle_output = list(shuffle_output)\n",
    "\n",
    "print('Группировка:\\n')\n",
    "print(shuffle_output)\n",
    "\n",
    "reduce_output = list(map(lambda x: REDUCE(*x), shuffle_output))\n",
    "print('Соединение:\\n')\n",
    "print(reduce_output)"
   ]
  },
  {
   "cell_type": "markdown",
   "metadata": {
    "id": "kYdlr0YUxE27"
   },
   "source": [
    "### Grouping and Aggregation (Группировка и аггрегация)\n",
    "\n",
    "**The Map Function:** Для каждого кортежа $(a, b, c$) создайте пару $(a, b)$.\n",
    "\n",
    "**The Reduce Function:** Ключ представляет ту или иную группу. Примение аггрегирующую операцию $\\theta$ к списку значений $[b1, b2, . . . , bn]$ ассоциированных с ключом $a$. Возвращайте в выходной поток $(a, x)$, где $x$ результат применения  $\\theta$ к списку. Например, если $\\theta$ это $SUM$, тогда $x = b1 + b2 + · · · + bn$, а если $\\theta$ is $MAX$, тогда $x$ это максимальное из значений $b1, b2, . . . , bn$."
   ]
  },
  {
   "cell_type": "code",
   "execution_count": 85,
   "metadata": {
    "colab": {
     "base_uri": "https://localhost:8080/"
    },
    "id": "MLPckfEGxico",
    "outputId": "75793a56-3cf8-4301-8bdc-077a975c9cb8"
   },
   "outputs": [
    {
     "name": "stdout",
     "output_type": "stream",
     "text": [
      "[(3, 1, 1), (0, 1, 1), (1, 0, 3), (1, 0, 3), (1, 1, 2), (2, 0, 2), (2, 2, 1), (1, 3, 2), (3, 2, 3), (2, 1, 3), (3, 3, 3), (0, 0, 1), (2, 0, 2), (1, 1, 0), (3, 2, 2), (3, 2, 1), (2, 0, 0), (1, 2, 1), (2, 1, 1), (1, 0, 3), (3, 3, 2), (2, 3, 1), (0, 2, 3), (2, 3, 1), (0, 3, 3), (2, 2, 2), (0, 1, 3), (2, 3, 3), (0, 0, 1), (3, 0, 0), (2, 0, 3), (1, 1, 0), (2, 1, 3), (3, 0, 1), (2, 3, 0), (2, 1, 3), (3, 1, 1), (3, 1, 0), (2, 3, 0), (1, 1, 0), (1, 3, 0), (3, 3, 2), (0, 0, 1), (1, 0, 2), (2, 3, 0), (1, 3, 3), (0, 1, 3), (0, 0, 0), (3, 1, 3), (0, 0, 1), (2, 2, 3), (2, 0, 3), (2, 2, 1), (3, 1, 2), (2, 0, 2), (2, 3, 0), (0, 0, 0), (0, 3, 3), (1, 2, 0), (1, 1, 0), (3, 3, 3), (1, 0, 0), (0, 2, 0), (2, 0, 1), (2, 2, 1), (0, 3, 2), (2, 1, 1), (0, 2, 0), (0, 1, 0), (1, 2, 2), (0, 2, 3), (0, 3, 2), (3, 3, 0), (0, 2, 0), (0, 2, 1), (0, 1, 0), (3, 0, 2), (2, 1, 1), (3, 1, 2), (1, 0, 3), (2, 1, 3), (0, 0, 0), (1, 2, 0), (3, 0, 0), (3, 3, 3), (0, 0, 0), (1, 0, 0), (2, 0, 0), (3, 0, 2), (1, 0, 0), (3, 3, 2), (3, 3, 2), (1, 2, 1), (1, 0, 0), (2, 2, 3), (2, 0, 2), (1, 3, 2), (0, 2, 3), (0, 3, 2), (0, 0, 1)]\n",
      "[(2, 3), (2, 2), (2, 1), (3, 3), (0, 1), (2, 0), (3, 0), (3, 2), (1, 0), (0, 1), (2, 3), (0, 2), (2, 1), (3, 3), (3, 3), (3, 0), (3, 2), (2, 1), (1, 2), (1, 3), (0, 2), (3, 0), (3, 1), (0, 0), (0, 2), (3, 3), (0, 2), (1, 2), (3, 1), (0, 2), (3, 2), (3, 3), (2, 0), (1, 2), (0, 1), (3, 3), (0, 3), (2, 1), (2, 0), (2, 2), (1, 2), (1, 1), (0, 1), (3, 1), (2, 1), (3, 0), (0, 0), (3, 1), (1, 3), (3, 1), (3, 3), (1, 0), (1, 3), (3, 1), (2, 3), (1, 2), (3, 1), (2, 1), (1, 0), (0, 1), (3, 2), (0, 2), (1, 1), (3, 0), (0, 2), (2, 3), (1, 2), (0, 1), (2, 3), (3, 3), (3, 3), (3, 0), (3, 3), (2, 0), (0, 2), (1, 3), (1, 1), (3, 3), (3, 2), (3, 3), (3, 1), (2, 0), (3, 2), (1, 0), (2, 3), (1, 0), (2, 2), (1, 3), (0, 0), (1, 3), (1, 2), (1, 2), (2, 0), (3, 1), (0, 2), (0, 1), (0, 2), (1, 3), (2, 0), (1, 2)]\n",
      "[(2, [3, 2, 1, 0, 3, 1, 1, 0, 1, 0, 2, 1, 3, 1, 3, 3, 0, 0, 3, 2, 0, 0]), (3, [3, 0, 2, 3, 3, 0, 2, 0, 1, 3, 1, 2, 3, 3, 1, 0, 1, 1, 3, 1, 1, 2, 0, 3, 3, 0, 3, 3, 2, 3, 1, 2, 1]), (0, [1, 1, 2, 2, 0, 2, 2, 2, 1, 3, 1, 0, 1, 2, 2, 1, 2, 0, 2, 1, 2]), (1, [0, 2, 3, 2, 2, 2, 1, 3, 0, 3, 2, 0, 1, 2, 3, 1, 0, 0, 3, 3, 2, 2, 3, 2])]\n",
      "[(2, 30), (3, 57), (0, 30), (1, 42)]\n"
     ]
    }
   ],
   "source": [
    "def get_random_tuple():\n",
    "  return (random.randint(0, 3), random.randint(0, 3), random.randint(0, 3))\n",
    "\n",
    "def RECORDREADER(count):\n",
    "  return [get_random_tuple() for i in range(count)]\n",
    "\n",
    "def MAP(t: Tuple):\n",
    "  return (t[0], t[1])\n",
    "\n",
    "def tetta(values):\n",
    "  return sum(values)\n",
    "\n",
    "\n",
    "def REDUCE(key, values: Iterator[NamedTuple]):\n",
    "  x = tetta(values)\n",
    "  return (key, x)\n",
    "\n",
    "def group_by_key(iterable):\n",
    "  t = {}\n",
    "  for (k2, v2) in iterable:\n",
    "    t[k2] = t.get(k2, []) + [v2]\n",
    "  return t.items()\n",
    "\n",
    "record = RECORDREADER(100)\n",
    "print(record)\n",
    "map_output = list(map(lambda x: MAP(x), RECORDREADER(100)))\n",
    "print(map_output)\n",
    "\n",
    "shuffle_output = group_by_key(map_output)\n",
    "shuffle_output = list(shuffle_output)\n",
    "\n",
    "print(shuffle_output)\n",
    "\n",
    "reduce_output = list(map(lambda x: REDUCE(*x), shuffle_output))\n",
    "print(reduce_output)"
   ]
  },
  {
   "cell_type": "markdown",
   "metadata": {
    "id": "03IffTEOJgOb"
   },
   "source": [
    "#"
   ]
  },
  {
   "cell_type": "markdown",
   "metadata": {
    "id": "IIrRgvG4RIS4"
   },
   "source": [
    "### Matrix-Vector multiplication\n",
    "\n",
    "Случай, когда вектор не помещается в памяти Map задачи\n"
   ]
  },
  {
   "cell_type": "code",
   "execution_count": 85,
   "metadata": {
    "id": "KQhDbiL3zS9r"
   },
   "outputs": [],
   "source": []
  },
  {
   "cell_type": "markdown",
   "metadata": {
    "id": "GIo2t7nNxvA9"
   },
   "source": [
    "## Matrix multiplication (Перемножение матриц)\n",
    "\n",
    "Если у нас есть матрица $M$ с элементами $m_{ij}$ в строке $i$ и столбце $j$, и матрица $N$ с элементами $n_{jk}$ в строке $j$ и столбце $k$, тогда их произведение $P = MN$ есть матрица $P$ с элементами $p_{ik}$ в строке $i$ и столбце $k$, где\n",
    "\n",
    "$$p_{ik} =\\sum_{j} m_{ij}n_{jk}$$\n",
    "\n",
    "Необходимым требованием является одинаковое количество столбцов в $M$ и строк в $N$, чтобы операция суммирования по  $j$ была осмысленной. Мы можем размышлять о матрице, как об отношении с тремя атрибутами: номер строки, номер столбца, само значение. Таким образом матрица $M$ предстваляется как отношение $ M(I, J, V )$, с кортежами $(i, j, m_{ij})$, и, аналогично, матрица $N$ представляется как отношение $N(J, K, W)$, с кортежами $(j, k, n_{jk})$. Так как большие матрицы как правило разреженные (большинство значений равно 0), и так как мы можем нулевыми значениями пренебречь (не хранить), такое реляционное представление достаточно эффективно для больших матриц. Однако, возможно, что координаты $i$, $j$, и $k$ неявно закодированы в смещение позиции элемента относительно начала файла, вместо явного хранения. Тогда, функция Map (или Reader) должна быть разработана таким образом, чтобы реконструировать компоненты $I$, $J$, и $K$ кортежей из смещения.\n",
    "\n",
    "Произведение $MN$ это фактически join, за которым следуют группировка по ключу и аггрегация. Таким образом join отношений $M(I, J, V )$ и $N(J, K, W)$, имеющих общим только атрибут $J$, создаст кортежи $(i, j, k, v, w)$ из каждого кортежа $(i, j, v) \\in M$ и кортежа $(j, k, w) \\in N$. Такой 5 компонентный кортеж представляет пару элементов матрицы $(m_{ij} , n_{jk})$. Что нам хотелось бы получить на самом деле, это произведение этих элементов, то есть, 4 компонентный кортеж$(i, j, k, v \\times w)$, так как он представляет произведение $m_{ij}n_{jk}$. Мы представляем отношение как результат одной MapReduce операции, в которой мы можем произвести группировку и аггрегацию, с $I$ и $K$  атрибутами, по которым идёт группировка, и суммой  $V \\times W$.\n",
    "\n",
    "\n",
    "\n"
   ]
  },
  {
   "cell_type": "code",
   "execution_count": 86,
   "metadata": {
    "id": "1MBkGaLAYVCt"
   },
   "outputs": [],
   "source": [
    "# MapReduce model\n",
    "def flatten(nested_iterable):\n",
    "  for iterable in nested_iterable:\n",
    "    for element in iterable:\n",
    "      yield element\n",
    "\n",
    "def groupbykey(iterable):\n",
    "  t = {}\n",
    "  for (k2, v2) in iterable:\n",
    "    t[k2] = t.get(k2, []) + [v2]\n",
    "  return t.items()\n",
    "\n",
    "def MapReduce(RECORDREADER, MAP, REDUCE):\n",
    "  return flatten(map(lambda x: REDUCE(*x), groupbykey(flatten(map(lambda x: MAP(*x), RECORDREADER())))))"
   ]
  },
  {
   "cell_type": "markdown",
   "metadata": {
    "id": "sMspsOT0ZB35"
   },
   "source": [
    "Реализуйте перемножение матриц с использованием модельного кода MapReduce для одной машины в случае, когда одна матрица хранится в памяти, а другая генерируется RECORDREADER-ом."
   ]
  },
  {
   "cell_type": "code",
   "execution_count": 87,
   "metadata": {
    "id": "psP1XekbsEjS"
   },
   "outputs": [],
   "source": [
    "import numpy as np\n",
    "I = 2\n",
    "J = 3\n",
    "K = 4*10\n",
    "small_mat = np.random.rand(I,J) # it is legal to access this from RECORDREADER, MAP, REDUCE\n",
    "big_mat = np.random.rand(J,K)\n",
    "\n",
    "def RECORDREADER():\n",
    "  for j in range(big_mat.shape[0]):\n",
    "    for k in range(big_mat.shape[1]):\n",
    "      yield ((j, k), big_mat[j,k])\n",
    "\n",
    "def MAP(k1, v1):\n",
    "  (j, k) = k1\n",
    "  w = v1\n",
    "  for i in range(small_mat.shape[0]):\n",
    "    yield ((i, k), w * small_mat[i][j])\n",
    "\n",
    "def REDUCE(key, values):\n",
    "  (i, k) = key\n",
    "  el_value = 0\n",
    "  for v in values:\n",
    "    el_value += v\n",
    "  yield ((i, k), el_value)"
   ]
  },
  {
   "cell_type": "markdown",
   "metadata": {
    "id": "rnt306LHhHrm"
   },
   "source": [
    "Проверьте своё решение"
   ]
  },
  {
   "cell_type": "code",
   "execution_count": 88,
   "metadata": {
    "colab": {
     "base_uri": "https://localhost:8080/"
    },
    "id": "Ewy_ZNYqW5a2",
    "outputId": "7b9762b2-ef4f-49e8-878e-55922dbf0641"
   },
   "outputs": [
    {
     "data": {
      "text/plain": [
       "True"
      ]
     },
     "execution_count": 88,
     "metadata": {},
     "output_type": "execute_result"
    }
   ],
   "source": [
    "# CHECK THE SOLUTION\n",
    "reference_solution = np.matmul(small_mat, big_mat)\n",
    "solution = MapReduce(RECORDREADER, MAP, REDUCE)\n",
    "\n",
    "def asmatrix(reduce_output):\n",
    "  reduce_output = list(reduce_output)\n",
    "  I = max(i for ((i,k), vw) in reduce_output)+1\n",
    "  K = max(k for ((i,k), vw) in reduce_output)+1\n",
    "  mat = np.empty(shape=(I,K))\n",
    "  for ((i,k), vw) in reduce_output:\n",
    "    mat[i,k] = vw\n",
    "  return mat\n",
    "\n",
    "np.allclose(reference_solution, asmatrix(solution)) # should return true"
   ]
  },
  {
   "cell_type": "code",
   "execution_count": 89,
   "metadata": {
    "colab": {
     "base_uri": "https://localhost:8080/"
    },
    "id": "TK7v4CEcfxqf",
    "outputId": "49ed6ff0-143e-453a-eba1-29fcdbe287e5"
   },
   "outputs": [
    {
     "data": {
      "text/plain": [
       "1"
      ]
     },
     "execution_count": 89,
     "metadata": {},
     "output_type": "execute_result"
    }
   ],
   "source": [
    "reduce_output = list(MapReduce(RECORDREADER, MAP, REDUCE))\n",
    "max(i for ((i,k), vw) in reduce_output)"
   ]
  },
  {
   "cell_type": "markdown",
   "metadata": {
    "id": "i4yyg3kOZqJJ"
   },
   "source": [
    "Реализуйте перемножение матриц  с использованием модельного кода MapReduce для одной машины в случае, когда обе матрицы генерируются в RECORDREADER. Например, сначала одна, а потом другая."
   ]
  },
  {
   "cell_type": "code",
   "execution_count": 90,
   "metadata": {
    "colab": {
     "base_uri": "https://localhost:8080/"
    },
    "id": "3B7rIAJCaHZq",
    "outputId": "5cd9e3f5-3fd8-4671-b075-790cd03e8699"
   },
   "outputs": [
    {
     "data": {
      "text/plain": [
       "True"
      ]
     },
     "execution_count": 90,
     "metadata": {},
     "output_type": "execute_result"
    }
   ],
   "source": [
    "import numpy as np\n",
    "I = 2\n",
    "J = 3\n",
    "K = 4*10\n",
    "small_mat = np.random.rand(I,J)\n",
    "big_mat = np.random.rand(J,K)\n",
    "reference_solution = np.matmul(small_mat, big_mat)\n",
    "\n",
    "def RECORDREADER():\n",
    "  for i in range(small_mat.shape[0]):\n",
    "    for j in range(small_mat.shape[1]):\n",
    "      yield ((0, i, j), small_mat[i,j]) # первая матрица\n",
    "\n",
    "  for j in range(big_mat.shape[0]):\n",
    "    for k in range(big_mat.shape[1]):\n",
    "      yield ((1, j, k), big_mat[j,k]) # вторая матрица\n",
    "\n",
    "def MAP_JOIN(k1, v1):\n",
    "  (mat_num, i, j) = k1\n",
    "  w = v1\n",
    "  if mat_num == 0:\n",
    "    yield (j, (mat_num, i, w))\n",
    "  else:\n",
    "    yield (i, (mat_num, j, w))\n",
    "\n",
    "\n",
    "def REDUCE_JOIN(key, values):\n",
    "  from_first_mat = [v for v in values if v[0] == 0]\n",
    "  from_second_mat = [v for v in values if v[0] == 1]\n",
    "  for f in from_first_mat:\n",
    "    for s in from_second_mat:\n",
    "      yield ((f[1], s[1]), f[2] * s[2])\n",
    "\n",
    "\n",
    "def MAP_MUL(k1, v1):\n",
    "  (i, k) = k1\n",
    "  yield ((i, k), v1)\n",
    "\n",
    "\n",
    "def REDUCE_MUL(key, values):\n",
    "  res_el_value = 0\n",
    "  for v in values:\n",
    "    res_el_value += v\n",
    "  yield (key, res_el_value)\n",
    "\n",
    "\n",
    "def GET_JOINED():\n",
    "  for j in joined:\n",
    "    yield j\n",
    "\n",
    "joined = MapReduce(RECORDREADER, MAP_JOIN, REDUCE_JOIN)\n",
    "solution = MapReduce(GET_JOINED, MAP_MUL, REDUCE_MUL)\n",
    "np.allclose(reference_solution, asmatrix(solution)) # should return true"
   ]
  },
  {
   "cell_type": "markdown",
   "metadata": {
    "id": "mXyzQi1DaIwo"
   },
   "source": [
    "Реализуйте перемножение матриц с использованием модельного кода MapReduce Distributed, когда каждая матрица генерируется в своём RECORDREADER."
   ]
  },
  {
   "cell_type": "code",
   "execution_count": 91,
   "metadata": {
    "colab": {
     "base_uri": "https://localhost:8080/"
    },
    "id": "TDM_s78Rb5eR",
    "outputId": "eb870fa5-e25b-404c-a69a-8ee7779eff79"
   },
   "outputs": [
    {
     "name": "stdout",
     "output_type": "stream",
     "text": [
      "126 key-value pairs were sent over a network.\n",
      "[(0, [((0, 0), 0.004882209977262622), ((0, 1), 0.0038683451450971613), ((0, 2), 0.003390957747262682), ((0, 3), 0.003214427472294149), ((0, 4), 0.0036018560350790443), ((0, 5), 0.0009688484558747747), ((0, 6), 0.004937945352445722), ((0, 7), 0.00024106855149476318), ((0, 8), 0.0036262309305828667), ((0, 9), 0.0028645230944768893), ((0, 10), 0.0029622096829746633), ((0, 11), 0.000612627135925204), ((0, 12), 0.004594738074563853), ((0, 13), 0.0033357819100331572), ((0, 14), 0.0005310222298188597), ((0, 15), 0.0049873557765213045), ((0, 16), 0.0026101958816150484), ((0, 17), 0.0052606402573071335), ((0, 18), 0.003688775428009355), ((0, 19), 0.0035654339981394064), ((0, 20), 0.0011257624299577998), ((0, 21), 0.00515052073444553), ((0, 22), 0.0007713453302701629), ((0, 23), 0.0032375162015068435), ((0, 24), 0.003396008622807865), ((0, 25), 0.0018057050375171655), ((0, 26), 0.004540959918195643), ((0, 27), 0.0026251648417825128), ((0, 28), 0.004967273108999728), ((0, 29), 0.0017190620198806648), ((0, 30), 5.6444344352063374e-05), ((0, 31), 0.0033705088553017035), ((0, 32), 0.005098655333106185), ((0, 33), 0.00430371520783456), ((0, 34), 0.0030265324818666947), ((0, 35), 0.0020397941431426338), ((0, 36), 0.004129665766712022), ((0, 37), 0.003548604003817868), ((0, 38), 0.001412016391007241), ((0, 39), 0.00497588053625449), ((1, 0), 0.3687798441643711), ((1, 1), 0.2921971251598619), ((1, 2), 0.25613746140116733), ((1, 3), 0.24280317066062646), ((1, 4), 0.27206775487024465), ((1, 5), 0.07318238753358963), ((1, 6), 0.3729898398569347), ((1, 7), 0.018209217396875452), ((1, 8), 0.2739089231541337), ((1, 9), 0.2163729920069362), ((1, 10), 0.2237517907581027), ((1, 11), 0.046275055921301045), ((1, 12), 0.3470655295460704), ((1, 13), 0.2519697306501537), ((1, 14), 0.040110994011407705), ((1, 15), 0.37672207762949056), ((1, 16), 0.19716227588396118), ((1, 17), 0.39736473919179516), ((1, 18), 0.27863324884305285), ((1, 19), 0.26931660054273665), ((1, 20), 0.08503495249475403), ((1, 21), 0.3890468133611806), ((1, 22), 0.05826390344100611), ((1, 23), 0.24454718781692766), ((1, 24), 0.2565189814720207), ((1, 25), 0.1363947117071282), ((1, 26), 0.3430033732239789), ((1, 27), 0.19829296277034442), ((1, 28), 0.37520512464436634), ((1, 29), 0.12985009386178212), ((1, 30), 0.004263547985657302), ((1, 31), 0.2545928454944726), ((1, 32), 0.3851291378182351), ((1, 33), 0.32508299132249496), ((1, 34), 0.22861044121805682), ((1, 35), 0.15407673363883126), ((1, 36), 0.31193609144047607), ((1, 37), 0.26804533963587496), ((1, 38), 0.10665726936332004), ((1, 39), 0.3758552903882508), ((0, 0), 0.12817858536652713), ((0, 1), 0.11650023399978002), ((0, 2), 0.2840000537400202), ((0, 3), 0.021846158089859246), ((0, 4), 0.28456349453072005), ((0, 5), 0.24018138425551874), ((0, 6), 0.06879339843635576), ((0, 7), 0.2735355531534772), ((0, 8), 0.22116063564825836), ((0, 9), 0.09232577870424898), ((0, 10), 0.4158797444521804), ((0, 11), 0.14403317026442547), ((0, 12), 0.34218747537105515), ((0, 13), 0.14647330492874278), ((0, 14), 0.051172033719148705), ((0, 15), 0.23915905155425904), ((0, 16), 0.28557329054940506), ((0, 17), 0.23890031550992571), ((0, 18), 0.05195116542234951), ((0, 19), 0.21332507384257676), ((0, 20), 0.3902994729841371), ((0, 21), 0.15700020107143253), ((0, 22), 0.15768942917542986), ((0, 23), 0.43703286942405417), ((0, 24), 0.09111333512243619), ((0, 25), 0.4681797289347698), ((0, 26), 0.4860820749494453), ((0, 27), 0.2837497432440064), ((0, 28), 0.44320917414970257), ((0, 29), 0.2470978668262238), ((0, 30), 0.08433658671073146), ((0, 31), 0.42580521569818586), ((0, 32), 0.4242067661117786), ((0, 33), 0.20357501536228662), ((0, 34), 0.15810372567564188), ((0, 35), 0.3196235543385938), ((0, 36), 0.24865226190413878), ((0, 37), 0.3502079311183882), ((0, 38), 0.17717169148339443), ((0, 39), 0.0063464983090031745), ((1, 0), 0.12529329589440094), ((1, 1), 0.11387782326167882), ((1, 2), 0.2776072357603537), ((1, 3), 0.021354402858181246), ((1, 4), 0.27815799354494203), ((1, 5), 0.23477492094176375), ((1, 6), 0.06724486466456683), ((1, 7), 0.2673782902260613), ((1, 8), 0.2161823278298348), ((1, 9), 0.09024753297748044), ((1, 10), 0.4065183254217925), ((1, 11), 0.1407909953830866), ((1, 12), 0.3344848632899628), ((1, 13), 0.14317620281570298), ((1, 14), 0.050020155425789865), ((1, 15), 0.23377560086598684), ((1, 16), 0.27914505913784354), ((1, 17), 0.23352268894884792), ((1, 18), 0.05078174893808134), ((1, 19), 0.2085231438794828), ((1, 20), 0.3815138637721352), ((1, 21), 0.15346613938727702), ((1, 22), 0.15413985302302938), ((1, 23), 0.4271952952807869), ((1, 24), 0.08906238140152142), ((1, 25), 0.4576410415315997), ((1, 26), 0.47514040720182216), ((1, 27), 0.27736255973313084), ((1, 28), 0.43323257189225695), ((1, 29), 0.24153571405554172), ((1, 30), 0.08243817704225438), ((1, 31), 0.4162203751219126), ((1, 32), 0.4146579065049489), ((1, 33), 0.19899255841806981), ((1, 34), 0.15454482374290934), ((1, 35), 0.3124288542743074), ((1, 36), 0.24305511982739586), ((1, 37), 0.3423247792344632), ((1, 38), 0.17318357120000957), ((1, 39), 0.006203639151184637)]), (1, [((0, 0), 0.38689496117391253), ((0, 1), 0.06568214733388372), ((0, 2), 0.314259758328031), ((0, 3), 0.08869933184676519), ((0, 4), 0.19823242308664693), ((0, 5), 0.3121873237275845), ((0, 6), 0.17255001571416964), ((0, 7), 0.3104668466956982), ((0, 8), 0.028579104865897365), ((0, 9), 0.36877451479882173), ((0, 10), 0.15637629870084474), ((0, 11), 0.33701517288343447), ((0, 12), 0.0868843042377715), ((0, 13), 0.02044850007848319), ((0, 14), 0.19291370454709106), ((0, 15), 0.22009523071353138), ((0, 16), 0.22027817192405705), ((0, 17), 0.3375836303604021), ((0, 18), 0.03712095201039474), ((0, 19), 0.04591040236889899), ((0, 20), 0.048757011831507), ((0, 21), 0.31690367386110674), ((0, 22), 0.14399862001438868), ((0, 23), 0.060549178438003406), ((0, 24), 0.313769169463068), ((0, 25), 0.19960871627210947), ((0, 26), 0.1963957181811052), ((0, 27), 0.11131904954578903), ((0, 28), 0.08488295640997683), ((0, 29), 0.018310377859050833), ((0, 30), 0.18621693573376294), ((0, 31), 0.1411379849315096), ((0, 32), 0.044338884996270665), ((0, 33), 0.22539991924283342), ((0, 34), 0.42779082797077916), ((0, 35), 0.07249688560334917), ((0, 36), 0.4155615983497288), ((0, 37), 0.3449289825378443), ((0, 38), 0.14020281011056454), ((0, 39), 0.4036946870250264), ((1, 0), 0.24108099378182876), ((1, 1), 0.04092769082577776), ((1, 2), 0.19582073287665114), ((1, 3), 0.05527009967904493), ((1, 4), 0.12352207796272316), ((1, 5), 0.1945293627551393), ((1, 6), 0.1075189222915294), ((1, 7), 0.19345730352912233), ((1, 8), 0.017808138367996416), ((1, 9), 0.22978982781103816), ((1, 10), 0.09744079731702056), ((1, 11), 0.21000002830683434), ((1, 12), 0.05413912434044143), ((1, 13), 0.012741816810719769), ((1, 14), 0.12020789173690258), ((1, 15), 0.13714517445784918), ((1, 16), 0.13725916831474347), ((1, 17), 0.21035424406879272), ((1, 18), 0.02313071220581448), ((1, 19), 0.028607571921937178), ((1, 20), 0.030381343893720013), ((1, 21), 0.19746820272804216), ((1, 22), 0.08972804998790337), ((1, 23), 0.037729248440497395), ((1, 24), 0.19551503840406168), ((1, 25), 0.12437967023500225), ((1, 26), 0.12237759512281118), ((1, 27), 0.06936484003285852), ((1, 28), 0.05289204962599209), ((1, 29), 0.011409515588900396), ((1, 30), 0.11603501836645157), ((1, 31), 0.08794553840766686), ((1, 32), 0.027628332055930384), ((1, 33), 0.14045061833974132), ((1, 34), 0.266563921186836), ((1, 35), 0.04517407302052361), ((1, 36), 0.2589436750578001), ((1, 37), 0.21493126103805557), ((1, 38), 0.08736281467689222), ((1, 39), 0.2515491957743284)])]\n",
      "aa (0, [((0, 0), 0.004882209977262622), ((0, 1), 0.0038683451450971613), ((0, 2), 0.003390957747262682), ((0, 3), 0.003214427472294149), ((0, 4), 0.0036018560350790443), ((0, 5), 0.0009688484558747747), ((0, 6), 0.004937945352445722), ((0, 7), 0.00024106855149476318), ((0, 8), 0.0036262309305828667), ((0, 9), 0.0028645230944768893), ((0, 10), 0.0029622096829746633), ((0, 11), 0.000612627135925204), ((0, 12), 0.004594738074563853), ((0, 13), 0.0033357819100331572), ((0, 14), 0.0005310222298188597), ((0, 15), 0.0049873557765213045), ((0, 16), 0.0026101958816150484), ((0, 17), 0.0052606402573071335), ((0, 18), 0.003688775428009355), ((0, 19), 0.0035654339981394064), ((0, 20), 0.0011257624299577998), ((0, 21), 0.00515052073444553), ((0, 22), 0.0007713453302701629), ((0, 23), 0.0032375162015068435), ((0, 24), 0.003396008622807865), ((0, 25), 0.0018057050375171655), ((0, 26), 0.004540959918195643), ((0, 27), 0.0026251648417825128), ((0, 28), 0.004967273108999728), ((0, 29), 0.0017190620198806648), ((0, 30), 5.6444344352063374e-05), ((0, 31), 0.0033705088553017035), ((0, 32), 0.005098655333106185), ((0, 33), 0.00430371520783456), ((0, 34), 0.0030265324818666947), ((0, 35), 0.0020397941431426338), ((0, 36), 0.004129665766712022), ((0, 37), 0.003548604003817868), ((0, 38), 0.001412016391007241), ((0, 39), 0.00497588053625449), ((1, 0), 0.3687798441643711), ((1, 1), 0.2921971251598619), ((1, 2), 0.25613746140116733), ((1, 3), 0.24280317066062646), ((1, 4), 0.27206775487024465), ((1, 5), 0.07318238753358963), ((1, 6), 0.3729898398569347), ((1, 7), 0.018209217396875452), ((1, 8), 0.2739089231541337), ((1, 9), 0.2163729920069362), ((1, 10), 0.2237517907581027), ((1, 11), 0.046275055921301045), ((1, 12), 0.3470655295460704), ((1, 13), 0.2519697306501537), ((1, 14), 0.040110994011407705), ((1, 15), 0.37672207762949056), ((1, 16), 0.19716227588396118), ((1, 17), 0.39736473919179516), ((1, 18), 0.27863324884305285), ((1, 19), 0.26931660054273665), ((1, 20), 0.08503495249475403), ((1, 21), 0.3890468133611806), ((1, 22), 0.05826390344100611), ((1, 23), 0.24454718781692766), ((1, 24), 0.2565189814720207), ((1, 25), 0.1363947117071282), ((1, 26), 0.3430033732239789), ((1, 27), 0.19829296277034442), ((1, 28), 0.37520512464436634), ((1, 29), 0.12985009386178212), ((1, 30), 0.004263547985657302), ((1, 31), 0.2545928454944726), ((1, 32), 0.3851291378182351), ((1, 33), 0.32508299132249496), ((1, 34), 0.22861044121805682), ((1, 35), 0.15407673363883126), ((1, 36), 0.31193609144047607), ((1, 37), 0.26804533963587496), ((1, 38), 0.10665726936332004), ((1, 39), 0.3758552903882508), ((0, 0), 0.12817858536652713), ((0, 1), 0.11650023399978002), ((0, 2), 0.2840000537400202), ((0, 3), 0.021846158089859246), ((0, 4), 0.28456349453072005), ((0, 5), 0.24018138425551874), ((0, 6), 0.06879339843635576), ((0, 7), 0.2735355531534772), ((0, 8), 0.22116063564825836), ((0, 9), 0.09232577870424898), ((0, 10), 0.4158797444521804), ((0, 11), 0.14403317026442547), ((0, 12), 0.34218747537105515), ((0, 13), 0.14647330492874278), ((0, 14), 0.051172033719148705), ((0, 15), 0.23915905155425904), ((0, 16), 0.28557329054940506), ((0, 17), 0.23890031550992571), ((0, 18), 0.05195116542234951), ((0, 19), 0.21332507384257676), ((0, 20), 0.3902994729841371), ((0, 21), 0.15700020107143253), ((0, 22), 0.15768942917542986), ((0, 23), 0.43703286942405417), ((0, 24), 0.09111333512243619), ((0, 25), 0.4681797289347698), ((0, 26), 0.4860820749494453), ((0, 27), 0.2837497432440064), ((0, 28), 0.44320917414970257), ((0, 29), 0.2470978668262238), ((0, 30), 0.08433658671073146), ((0, 31), 0.42580521569818586), ((0, 32), 0.4242067661117786), ((0, 33), 0.20357501536228662), ((0, 34), 0.15810372567564188), ((0, 35), 0.3196235543385938), ((0, 36), 0.24865226190413878), ((0, 37), 0.3502079311183882), ((0, 38), 0.17717169148339443), ((0, 39), 0.0063464983090031745), ((1, 0), 0.12529329589440094), ((1, 1), 0.11387782326167882), ((1, 2), 0.2776072357603537), ((1, 3), 0.021354402858181246), ((1, 4), 0.27815799354494203), ((1, 5), 0.23477492094176375), ((1, 6), 0.06724486466456683), ((1, 7), 0.2673782902260613), ((1, 8), 0.2161823278298348), ((1, 9), 0.09024753297748044), ((1, 10), 0.4065183254217925), ((1, 11), 0.1407909953830866), ((1, 12), 0.3344848632899628), ((1, 13), 0.14317620281570298), ((1, 14), 0.050020155425789865), ((1, 15), 0.23377560086598684), ((1, 16), 0.27914505913784354), ((1, 17), 0.23352268894884792), ((1, 18), 0.05078174893808134), ((1, 19), 0.2085231438794828), ((1, 20), 0.3815138637721352), ((1, 21), 0.15346613938727702), ((1, 22), 0.15413985302302938), ((1, 23), 0.4271952952807869), ((1, 24), 0.08906238140152142), ((1, 25), 0.4576410415315997), ((1, 26), 0.47514040720182216), ((1, 27), 0.27736255973313084), ((1, 28), 0.43323257189225695), ((1, 29), 0.24153571405554172), ((1, 30), 0.08243817704225438), ((1, 31), 0.4162203751219126), ((1, 32), 0.4146579065049489), ((1, 33), 0.19899255841806981), ((1, 34), 0.15454482374290934), ((1, 35), 0.3124288542743074), ((1, 36), 0.24305511982739586), ((1, 37), 0.3423247792344632), ((1, 38), 0.17318357120000957), ((1, 39), 0.006203639151184637)])\n",
      "aa (1, [((0, 0), 0.38689496117391253), ((0, 1), 0.06568214733388372), ((0, 2), 0.314259758328031), ((0, 3), 0.08869933184676519), ((0, 4), 0.19823242308664693), ((0, 5), 0.3121873237275845), ((0, 6), 0.17255001571416964), ((0, 7), 0.3104668466956982), ((0, 8), 0.028579104865897365), ((0, 9), 0.36877451479882173), ((0, 10), 0.15637629870084474), ((0, 11), 0.33701517288343447), ((0, 12), 0.0868843042377715), ((0, 13), 0.02044850007848319), ((0, 14), 0.19291370454709106), ((0, 15), 0.22009523071353138), ((0, 16), 0.22027817192405705), ((0, 17), 0.3375836303604021), ((0, 18), 0.03712095201039474), ((0, 19), 0.04591040236889899), ((0, 20), 0.048757011831507), ((0, 21), 0.31690367386110674), ((0, 22), 0.14399862001438868), ((0, 23), 0.060549178438003406), ((0, 24), 0.313769169463068), ((0, 25), 0.19960871627210947), ((0, 26), 0.1963957181811052), ((0, 27), 0.11131904954578903), ((0, 28), 0.08488295640997683), ((0, 29), 0.018310377859050833), ((0, 30), 0.18621693573376294), ((0, 31), 0.1411379849315096), ((0, 32), 0.044338884996270665), ((0, 33), 0.22539991924283342), ((0, 34), 0.42779082797077916), ((0, 35), 0.07249688560334917), ((0, 36), 0.4155615983497288), ((0, 37), 0.3449289825378443), ((0, 38), 0.14020281011056454), ((0, 39), 0.4036946870250264), ((1, 0), 0.24108099378182876), ((1, 1), 0.04092769082577776), ((1, 2), 0.19582073287665114), ((1, 3), 0.05527009967904493), ((1, 4), 0.12352207796272316), ((1, 5), 0.1945293627551393), ((1, 6), 0.1075189222915294), ((1, 7), 0.19345730352912233), ((1, 8), 0.017808138367996416), ((1, 9), 0.22978982781103816), ((1, 10), 0.09744079731702056), ((1, 11), 0.21000002830683434), ((1, 12), 0.05413912434044143), ((1, 13), 0.012741816810719769), ((1, 14), 0.12020789173690258), ((1, 15), 0.13714517445784918), ((1, 16), 0.13725916831474347), ((1, 17), 0.21035424406879272), ((1, 18), 0.02313071220581448), ((1, 19), 0.028607571921937178), ((1, 20), 0.030381343893720013), ((1, 21), 0.19746820272804216), ((1, 22), 0.08972804998790337), ((1, 23), 0.037729248440497395), ((1, 24), 0.19551503840406168), ((1, 25), 0.12437967023500225), ((1, 26), 0.12237759512281118), ((1, 27), 0.06936484003285852), ((1, 28), 0.05289204962599209), ((1, 29), 0.011409515588900396), ((1, 30), 0.11603501836645157), ((1, 31), 0.08794553840766686), ((1, 32), 0.027628332055930384), ((1, 33), 0.14045061833974132), ((1, 34), 0.266563921186836), ((1, 35), 0.04517407302052361), ((1, 36), 0.2589436750578001), ((1, 37), 0.21493126103805557), ((1, 38), 0.08736281467689222), ((1, 39), 0.2515491957743284)])\n",
      "240 key-value pairs were sent over a network.\n",
      "[(0, [((0, 1), 0.18605072647876092), ((0, 2), 0.6016507698153138), ((0, 4), 0.4863977736524461), ((0, 5), 0.553337556438978), ((0, 8), 0.2533659714447386), ((0, 9), 0.4639648165975476), ((0, 11), 0.48166097028378513), ((0, 12), 0.4336665176833905), ((0, 15), 0.46424163804431173), ((0, 16), 0.5084616583550772), ((0, 18), 0.0927608928607536), ((0, 19), 0.26280091020961516), ((0, 22), 0.3024593945200887), ((0, 23), 0.5008195640635644), ((0, 25), 0.6695941502443964), ((0, 26), 0.6870187530487462), ((0, 29), 0.26712730670515533), ((0, 32), 0.4736443064411554), ((0, 33), 0.4332786498129546), ((0, 36), 0.6683435260205796), ((0, 39), 0.4150170658702841), ((1, 0), 0.7351541338406008), ((1, 1), 0.4470026392473185), ((1, 3), 0.31942767319785265), ((1, 4), 0.6737478263779099), ((1, 7), 0.4790448111520591), ((1, 10), 0.7277109134969157), ((1, 11), 0.397066079611222), ((1, 14), 0.21033904117410016), ((1, 17), 0.8412416722094358), ((1, 18), 0.3525457099869487), ((1, 21), 0.7399811554764997), ((1, 24), 0.5410964012776038), ((1, 25), 0.7184154234737302), ((1, 27), 0.5450203625363338), ((1, 28), 0.8613297461626155), ((1, 31), 0.7587587590240521), ((1, 32), 0.8274153763791144), ((1, 34), 0.6497191861478022), ((1, 35), 0.5116796609336622), ((1, 38), 0.3672036552402218), ((1, 39), 0.6336081253137638)]), (1, [((0, 0), 0.5199557565177023), ((0, 3), 0.11375991740891858), ((0, 6), 0.24628135950297114), ((0, 7), 0.5842434684006701), ((0, 10), 0.5752182528359998), ((0, 13), 0.17025758691725915), ((0, 14), 0.24461676049605863), ((0, 17), 0.5817445861276349), ((0, 20), 0.4401822472456019), ((0, 21), 0.4790543956669848), ((0, 24), 0.40827851320831204), ((0, 27), 0.39769395763157794), ((0, 28), 0.5330594036686791), ((0, 30), 0.27060996678884647), ((0, 31), 0.5703137094849972), ((0, 34), 0.5889210861282878), ((0, 35), 0.3941602340850856), ((0, 37), 0.6986855176600504), ((0, 38), 0.3187865179849662), ((1, 2), 0.7295654300381721), ((1, 5), 0.5024866712304927), ((1, 6), 0.5477536268130309), ((1, 8), 0.5078993893519649), ((1, 9), 0.5364103527954548), ((1, 12), 0.7356895171764746), ((1, 13), 0.4078877502765765), ((1, 15), 0.7476428529533266), ((1, 16), 0.6135665033365482), ((1, 19), 0.5064473163441566), ((1, 20), 0.4969301601606092), ((1, 22), 0.3021318064519388), ((1, 23), 0.709471731538212), ((1, 26), 0.9405213755486123), ((1, 29), 0.38279532350622425), ((1, 30), 0.20273674339436326), ((1, 33), 0.6645261680803061), ((1, 36), 0.8139348863256719), ((1, 37), 0.8253013799083937)])]\n",
      "[((0, 1), 0.18605072647876092), ((0, 2), 0.6016507698153138), ((0, 4), 0.4863977736524461), ((0, 5), 0.553337556438978), ((0, 8), 0.2533659714447386), ((0, 9), 0.4639648165975476), ((0, 11), 0.48166097028378513), ((0, 12), 0.4336665176833905), ((0, 15), 0.46424163804431173), ((0, 16), 0.5084616583550772), ((0, 18), 0.0927608928607536), ((0, 19), 0.26280091020961516), ((0, 22), 0.3024593945200887), ((0, 23), 0.5008195640635644), ((0, 25), 0.6695941502443964), ((0, 26), 0.6870187530487462), ((0, 29), 0.26712730670515533), ((0, 32), 0.4736443064411554), ((0, 33), 0.4332786498129546), ((0, 36), 0.6683435260205796), ((0, 39), 0.4150170658702841), ((1, 0), 0.7351541338406008), ((1, 1), 0.4470026392473185), ((1, 3), 0.31942767319785265), ((1, 4), 0.6737478263779099), ((1, 7), 0.4790448111520591), ((1, 10), 0.7277109134969157), ((1, 11), 0.397066079611222), ((1, 14), 0.21033904117410016), ((1, 17), 0.8412416722094358), ((1, 18), 0.3525457099869487), ((1, 21), 0.7399811554764997), ((1, 24), 0.5410964012776038), ((1, 25), 0.7184154234737302), ((1, 27), 0.5450203625363338), ((1, 28), 0.8613297461626155), ((1, 31), 0.7587587590240521), ((1, 32), 0.8274153763791144), ((1, 34), 0.6497191861478022), ((1, 35), 0.5116796609336622), ((1, 38), 0.3672036552402218), ((1, 39), 0.6336081253137638), ((0, 0), 0.5199557565177023), ((0, 3), 0.11375991740891858), ((0, 6), 0.24628135950297114), ((0, 7), 0.5842434684006701), ((0, 10), 0.5752182528359998), ((0, 13), 0.17025758691725915), ((0, 14), 0.24461676049605863), ((0, 17), 0.5817445861276349), ((0, 20), 0.4401822472456019), ((0, 21), 0.4790543956669848), ((0, 24), 0.40827851320831204), ((0, 27), 0.39769395763157794), ((0, 28), 0.5330594036686791), ((0, 30), 0.27060996678884647), ((0, 31), 0.5703137094849972), ((0, 34), 0.5889210861282878), ((0, 35), 0.3941602340850856), ((0, 37), 0.6986855176600504), ((0, 38), 0.3187865179849662), ((1, 2), 0.7295654300381721), ((1, 5), 0.5024866712304927), ((1, 6), 0.5477536268130309), ((1, 8), 0.5078993893519649), ((1, 9), 0.5364103527954548), ((1, 12), 0.7356895171764746), ((1, 13), 0.4078877502765765), ((1, 15), 0.7476428529533266), ((1, 16), 0.6135665033365482), ((1, 19), 0.5064473163441566), ((1, 20), 0.4969301601606092), ((1, 22), 0.3021318064519388), ((1, 23), 0.709471731538212), ((1, 26), 0.9405213755486123), ((1, 29), 0.38279532350622425), ((1, 30), 0.20273674339436326), ((1, 33), 0.6645261680803061), ((1, 36), 0.8139348863256719), ((1, 37), 0.8253013799083937)]\n"
     ]
    },
    {
     "data": {
      "text/plain": [
       "True"
      ]
     },
     "execution_count": 91,
     "metadata": {},
     "output_type": "execute_result"
    }
   ],
   "source": [
    "def flatten(nested_iterable):\n",
    "  for iterable in nested_iterable:\n",
    "    for element in iterable:\n",
    "      yield element\n",
    "\n",
    "def groupbykey(iterable):\n",
    "  t = {}\n",
    "  for (k2, v2) in iterable:\n",
    "    t[k2] = t.get(k2, []) + [v2]\n",
    "  return t.items()\n",
    "\n",
    "def groupbykey_distributed(map_partitions, PARTITIONER):\n",
    "  global reducers\n",
    "  partitions = [dict() for _ in range(reducers)]\n",
    "  for map_partition in map_partitions:\n",
    "    for (k2, v2) in map_partition:\n",
    "      p = partitions[PARTITIONER(k2)]\n",
    "      p[k2] = p.get(k2, []) + [v2]\n",
    "  return [(partition_id, sorted(partition.items(), key=lambda x: x[0])) for (partition_id, partition) in enumerate(partitions)]\n",
    "\n",
    "def PARTITIONER(obj):\n",
    "  global reducers\n",
    "  return hash(obj) % reducers\n",
    "\n",
    "def MapReduceDistributed(INPUTFORMAT, MAP, REDUCE, PARTITIONER=PARTITIONER, COMBINER=None):\n",
    "  map_partitions = map(lambda record_reader: flatten(map(lambda k1v1: MAP(*k1v1), record_reader)), INPUTFORMAT())\n",
    "  if COMBINER != None:\n",
    "    map_partitions = map(lambda map_partition: flatten(map(lambda k2v2: COMBINER(*k2v2), groupbykey(map_partition))), map_partitions)\n",
    "  reduce_partitions = groupbykey_distributed(map_partitions, PARTITIONER) # shuffle\n",
    "  reduce_outputs = map(lambda reduce_partition: (reduce_partition[0], flatten(map(lambda reduce_input_group: REDUCE(*reduce_input_group), reduce_partition[1]))), reduce_partitions)\n",
    "\n",
    "  print(\"{} key-value pairs were sent over a network.\".format(sum([len(vs) for (k,vs) in flatten([partition for (partition_id, partition) in reduce_partitions])])))\n",
    "  return reduce_outputs\n",
    "\n",
    "def asmatrix(reduce_output):\n",
    "  reduce_output = list(reduce_output)\n",
    "  I = max(i for ((i,k), vw) in reduce_output)+1\n",
    "  K = max(k for ((i,k), vw) in reduce_output)+1\n",
    "  mat = np.empty(shape=(I,K))\n",
    "  for ((i,k), vw) in reduce_output:\n",
    "    mat[i,k] = vw\n",
    "  return mat\n",
    "\n",
    "# ===================================================================================================================================================================================\n",
    "\n",
    "import numpy as np\n",
    "I = 2\n",
    "J = 3\n",
    "K = 4*10\n",
    "small_mat = np.random.rand(I,J)\n",
    "big_mat = np.random.rand(J,K)\n",
    "reference_solution = np.matmul(small_mat, big_mat)\n",
    "\n",
    "def INPUTFORMAT():\n",
    "  first_mat = []\n",
    "  for i in range(small_mat.shape[0]):\n",
    "    for j in range(small_mat.shape[1]):\n",
    "      first_mat.append(((0, i, j), small_mat[i,j])) # первая матрица\n",
    "  yield first_mat\n",
    "\n",
    "  second_mat = []\n",
    "  for j in range(big_mat.shape[0]):\n",
    "    for k in range(big_mat.shape[1]):\n",
    "      second_mat.append(((1, j, k), big_mat[j,k])) # вторая матрица\n",
    "  yield second_mat\n",
    "\n",
    "\n",
    "def MAP_JOIN(k1, v1):\n",
    "  (mat_num, i, j) = k1\n",
    "  w = v1\n",
    "  if mat_num == 0:\n",
    "    yield (j, (mat_num, i, w))\n",
    "  else:\n",
    "    yield (i, (mat_num, j, w))\n",
    "\n",
    "\n",
    "def REDUCE_JOIN(key, values):\n",
    "  from_first_mat = [v for v in values if v[0] == 0]\n",
    "  from_second_mat = [v for v in values if v[0] == 1]\n",
    "  for f in from_first_mat:\n",
    "    for s in from_second_mat:\n",
    "      yield ((f[1], s[1]), f[2] * s[2])\n",
    "\n",
    "\n",
    "def GET_JOINED():\n",
    "  for j in joined:\n",
    "    print(\"aa\", j)\n",
    "    yield j[1]\n",
    "\n",
    "\n",
    "def MAP_MUL(k1, v1):\n",
    "  yield (k1, v1)\n",
    "\n",
    "\n",
    "def REDUCE_MUL(key, values):\n",
    "  res_val = 0\n",
    "  for v in values:\n",
    "    res_val += v\n",
    "  yield (key, res_val)\n",
    "\n",
    "maps = 4\n",
    "reducers = 2\n",
    "partitioned_output = MapReduceDistributed(INPUTFORMAT, MAP_JOIN, REDUCE_JOIN, COMBINER=None)\n",
    "joined = [(partition_id, list(partition)) for (partition_id, partition) in partitioned_output]\n",
    "print(joined)\n",
    "\n",
    "mul_output = MapReduceDistributed(GET_JOINED, MAP_MUL, REDUCE_MUL, COMBINER=None)\n",
    "pre_result = [(partition_id, list(partition)) for (partition_id, partition) in mul_output]\n",
    "print(pre_result)\n",
    "\n",
    "solution = []\n",
    "for p in pre_result:\n",
    "  for v in p[1]:\n",
    "    solution.append(v)\n",
    "\n",
    "print(solution)\n",
    "np.allclose(reference_solution, asmatrix(solution)) # should return true\n"
   ]
  },
  {
   "cell_type": "markdown",
   "metadata": {
    "id": "ZuSA2P9Db6UM"
   },
   "source": [
    "Обобщите предыдущее решение на случай, когда каждая матрица генерируется несколькими RECORDREADER-ами, и проверьте его работоспособность. Будет ли работать решение, если RECORDREADER-ы будут генерировать случайное подмножество элементов матрицы?"
   ]
  },
  {
   "cell_type": "code",
   "execution_count": 92,
   "metadata": {
    "colab": {
     "base_uri": "https://localhost:8080/"
    },
    "id": "ehN0FqRDcwU5",
    "outputId": "ca61f29e-90be-4019-813f-f50000e89253"
   },
   "outputs": [
    {
     "name": "stdout",
     "output_type": "stream",
     "text": [
      "126 key-value pairs were sent over a network.\n",
      "[(0, [((0, 0), 0.2597241050229439), ((0, 1), 0.401575155675791), ((0, 2), 0.48696056075347904), ((0, 3), 0.15550329099934523), ((0, 4), 0.6474419040648105), ((0, 5), 0.21157506698264378), ((0, 6), 0.5493977409722797), ((0, 7), 0.12556834078574267), ((0, 8), 0.48166764407265433), ((0, 9), 0.14121495297756564), ((0, 10), 0.21719559880892286), ((0, 11), 0.44477801190453703), ((0, 12), 0.46100539969532117), ((0, 13), 0.6762059090446996), ((0, 14), 0.33092172487529037), ((0, 15), 0.15605497432927276), ((0, 16), 0.0017540311672767492), ((0, 17), 0.07559319004211063), ((0, 18), 0.5329479878291786), ((0, 19), 0.33301178653165975), ((0, 20), 0.38581091716718885), ((0, 21), 0.5607321278530568), ((0, 22), 0.647414618432631), ((0, 23), 0.13884507959910106), ((0, 24), 0.6556002174363336), ((0, 25), 0.6164376851333723), ((0, 26), 0.5012853954486918), ((0, 27), 0.5336417651420756), ((0, 28), 0.6648073794634358), ((0, 29), 0.10175440197720324), ((0, 30), 0.24276179798361824), ((0, 31), 0.6750328061557419), ((0, 32), 0.26636635124255836), ((0, 33), 0.057511862365798534), ((0, 34), 0.5890275254370614), ((0, 35), 0.18568698132079772), ((0, 36), 0.3039914232907089), ((0, 37), 0.11561823994949888), ((0, 38), 0.3460593778773589), ((0, 39), 0.2336374883142896), ((1, 0), 0.21785361504431214), ((1, 1), 0.3368366573761998), ((1, 2), 0.40845696064590997), ((1, 3), 0.13043438572057967), ((1, 4), 0.5430668798309329), ((1, 5), 0.17746675146436505), ((1, 6), 0.46082855481364166), ((1, 7), 0.10532529113103925), ((1, 8), 0.4040173225424535), ((1, 9), 0.11844949086168775), ((1, 10), 0.18218118941273467), ((1, 11), 0.37307472010372583), ((1, 12), 0.3866860677783514), ((1, 13), 0.5671937989225123), ((1, 14), 0.27757336599316673), ((1, 15), 0.13089713140132336), ((1, 16), 0.0014712613242343366), ((1, 17), 0.06340670505708625), ((1, 18), 0.4470306896193636), ((1, 19), 0.27932648585651304), ((1, 20), 0.3236137940335141), ((1, 21), 0.47033570916910666), ((1, 22), 0.5430439929540737), ((1, 23), 0.11646166811935824), ((1, 24), 0.5499099799755793), ((1, 25), 0.5170608948445089), ((1, 26), 0.4204724684979386), ((1, 27), 0.44761262211129377), ((1, 28), 0.5576328424019442), ((1, 29), 0.08535043104854498), ((1, 30), 0.20362582549169345), ((1, 31), 0.566209813607958), ((1, 32), 0.22342505536491541), ((1, 33), 0.048240293765622236), ((1, 34), 0.49406956572526634), ((1, 35), 0.15575212067369673), ((1, 36), 0.2549845363813894), ((1, 37), 0.09697926011077776), ((1, 38), 0.2902706565642352), ((1, 39), 0.19597245867742946), ((0, 0), 0.3514130576051677), ((0, 1), 0.633066696250603), ((0, 2), 0.6981044158761278), ((0, 3), 0.4717063685511523), ((0, 4), 0.6303436164503327), ((0, 5), 0.8318923723915375), ((0, 6), 0.8101150511033456), ((0, 7), 0.5247531009172873), ((0, 8), 0.5635025990125148), ((0, 9), 0.21447672886390737), ((0, 10), 0.6462418298947845), ((0, 11), 0.8633726725601415), ((0, 12), 0.6239660248251446), ((0, 13), 0.5215078540310112), ((0, 14), 0.2668051133471187), ((0, 15), 0.5435507213663806), ((0, 16), 0.559000955762353), ((0, 17), 0.08459498063951841), ((0, 18), 0.8274309311031406), ((0, 19), 0.30184410678144197), ((0, 20), 0.4863498922000382), ((0, 21), 0.5377987455955864), ((0, 22), 0.8809964530946472), ((0, 23), 0.8274453397222072), ((0, 24), 0.060528412561022586), ((0, 25), 0.4599274663676378), ((0, 26), 0.6087724515720482), ((0, 27), 0.7732969153002893), ((0, 28), 0.09643024824370192), ((0, 29), 0.07282889142434705), ((0, 30), 0.37365590282654076), ((0, 31), 0.26578867558547464), ((0, 32), 0.08204984975054401), ((0, 33), 0.4190792957865905), ((0, 34), 0.2580399028812047), ((0, 35), 0.8636158243186489), ((0, 36), 0.06228115545145327), ((0, 37), 0.7356972117962133), ((0, 38), 0.5507315090012407), ((0, 39), 0.5357354218230774), ((1, 0), 0.2596119997074392), ((1, 1), 0.4676881163205363), ((1, 2), 0.5157357687426185), ((1, 3), 0.34848060128684893), ((1, 4), 0.4656763976976461), ((1, 5), 0.6145737549131889), ((1, 6), 0.5984854115646869), ((1, 7), 0.3876697206706562), ((1, 8), 0.4162965302625309), ((1, 9), 0.1584481033531476), ((1, 10), 0.47742145638219613), ((1, 11), 0.6378303286269187), ((1, 12), 0.46096485019165456), ((1, 13), 0.3852722427868461), ((1, 14), 0.19710653178414184), ((1, 15), 0.4015567625119233), ((1, 16), 0.41297086953122963), ((1, 17), 0.06249589084339851), ((1, 18), 0.6112777940221756), ((1, 19), 0.22299214689250518), ((1, 20), 0.3592987378784659), ((1, 21), 0.39730739869402437), ((1, 22), 0.6508501775140045), ((1, 23), 0.6112884386192614), ((1, 24), 0.04471632992573487), ((1, 25), 0.3397787494801461), ((1, 26), 0.44974035568419773), ((1, 27), 0.5712854266623872), ((1, 28), 0.07123938350338659), ((1, 29), 0.053803504821366276), ((1, 30), 0.27604425628451745), ((1, 31), 0.19635562218027885), ((1, 32), 0.06061563481618452), ((1, 33), 0.3096015121253201), ((1, 34), 0.19063109278816343), ((1, 35), 0.6380099608656542), ((1, 36), 0.04601119668412653), ((1, 37), 0.5435080461585945), ((1, 38), 0.4068616838772956), ((1, 39), 0.39578308535667883)]), (1, [((0, 0), 0.27610182787690185), ((0, 1), 0.1332749223713688), ((0, 2), 0.3853430861395932), ((0, 3), 0.35969914043199824), ((0, 4), 0.32769968991243537), ((0, 5), 0.37930444619194426), ((0, 6), 0.2460079869132202), ((0, 7), 0.33230168815292105), ((0, 8), 0.13584827237875927), ((0, 9), 0.27732451319513307), ((0, 10), 0.08856146872973582), ((0, 11), 0.32325347304067137), ((0, 12), 0.2627232174501027), ((0, 13), 0.3241629754948172), ((0, 14), 0.03247698492510181), ((0, 15), 0.015878997816500578), ((0, 16), 0.10357058322450248), ((0, 17), 0.060504939039823354), ((0, 18), 0.13439508174184944), ((0, 19), 0.22613890229829117), ((0, 20), 0.15432011385083264), ((0, 21), 0.11429178373924417), ((0, 22), 0.17841206451177502), ((0, 23), 0.27489838589292087), ((0, 24), 0.25716693202345814), ((0, 25), 0.10945358934362749), ((0, 26), 0.20773913067717786), ((0, 27), 0.33398998692360726), ((0, 28), 0.305457253944798), ((0, 29), 0.3963475080235614), ((0, 30), 0.23084443650304962), ((0, 31), 0.3739911411718008), ((0, 32), 0.08611901171073122), ((0, 33), 0.39188873403765395), ((0, 34), 0.007226477293756278), ((0, 35), 0.2572102322653391), ((0, 36), 0.10336428862905012), ((0, 37), 0.24564730428847772), ((0, 38), 0.25039782516646986), ((0, 39), 0.31095997475266784), ((1, 0), 0.06401775240292015), ((1, 1), 0.03090150125950129), ((1, 2), 0.08934674018043817), ((1, 3), 0.08340086224269894), ((1, 4), 0.07598137894502156), ((1, 5), 0.08794660400607235), ((1, 6), 0.05704010913818681), ((1, 7), 0.07704841130110374), ((1, 8), 0.03149816548619603), ((1, 9), 0.06430124768642152), ((1, 10), 0.02053411316098528), ((1, 11), 0.0749504664986426), ((1, 12), 0.060915749868623977), ((1, 13), 0.07516134631558216), ((1, 14), 0.007530205778483625), ((1, 15), 0.0036817494416460732), ((1, 16), 0.024014168990030497), ((1, 17), 0.014028846662804831), ((1, 18), 0.03116122458615457), ((1, 19), 0.05243320686183427), ((1, 20), 0.03578109900705778), ((1, 21), 0.026500016929873898), ((1, 22), 0.04136712697425837), ((1, 23), 0.06373871893344192), ((1, 24), 0.05962745378069851), ((1, 25), 0.025378219463781514), ((1, 26), 0.04816698366089308), ((1, 27), 0.0774398650394402), ((1, 28), 0.07082418469693111), ((1, 29), 0.09189825662972165), ((1, 30), 0.053524245360058204), ((1, 31), 0.08671464604390924), ((1, 32), 0.019967798153584737), ((1, 33), 0.09086443265526514), ((1, 34), 0.0016755515082763999), ((1, 35), 0.05963749349751255), ((1, 36), 0.023966336940401265), ((1, 37), 0.056956480242484266), ((1, 38), 0.05805794947827574), ((1, 39), 0.07210006114052231)])]\n",
      "aa (0, [((0, 0), 0.2597241050229439), ((0, 1), 0.401575155675791), ((0, 2), 0.48696056075347904), ((0, 3), 0.15550329099934523), ((0, 4), 0.6474419040648105), ((0, 5), 0.21157506698264378), ((0, 6), 0.5493977409722797), ((0, 7), 0.12556834078574267), ((0, 8), 0.48166764407265433), ((0, 9), 0.14121495297756564), ((0, 10), 0.21719559880892286), ((0, 11), 0.44477801190453703), ((0, 12), 0.46100539969532117), ((0, 13), 0.6762059090446996), ((0, 14), 0.33092172487529037), ((0, 15), 0.15605497432927276), ((0, 16), 0.0017540311672767492), ((0, 17), 0.07559319004211063), ((0, 18), 0.5329479878291786), ((0, 19), 0.33301178653165975), ((0, 20), 0.38581091716718885), ((0, 21), 0.5607321278530568), ((0, 22), 0.647414618432631), ((0, 23), 0.13884507959910106), ((0, 24), 0.6556002174363336), ((0, 25), 0.6164376851333723), ((0, 26), 0.5012853954486918), ((0, 27), 0.5336417651420756), ((0, 28), 0.6648073794634358), ((0, 29), 0.10175440197720324), ((0, 30), 0.24276179798361824), ((0, 31), 0.6750328061557419), ((0, 32), 0.26636635124255836), ((0, 33), 0.057511862365798534), ((0, 34), 0.5890275254370614), ((0, 35), 0.18568698132079772), ((0, 36), 0.3039914232907089), ((0, 37), 0.11561823994949888), ((0, 38), 0.3460593778773589), ((0, 39), 0.2336374883142896), ((1, 0), 0.21785361504431214), ((1, 1), 0.3368366573761998), ((1, 2), 0.40845696064590997), ((1, 3), 0.13043438572057967), ((1, 4), 0.5430668798309329), ((1, 5), 0.17746675146436505), ((1, 6), 0.46082855481364166), ((1, 7), 0.10532529113103925), ((1, 8), 0.4040173225424535), ((1, 9), 0.11844949086168775), ((1, 10), 0.18218118941273467), ((1, 11), 0.37307472010372583), ((1, 12), 0.3866860677783514), ((1, 13), 0.5671937989225123), ((1, 14), 0.27757336599316673), ((1, 15), 0.13089713140132336), ((1, 16), 0.0014712613242343366), ((1, 17), 0.06340670505708625), ((1, 18), 0.4470306896193636), ((1, 19), 0.27932648585651304), ((1, 20), 0.3236137940335141), ((1, 21), 0.47033570916910666), ((1, 22), 0.5430439929540737), ((1, 23), 0.11646166811935824), ((1, 24), 0.5499099799755793), ((1, 25), 0.5170608948445089), ((1, 26), 0.4204724684979386), ((1, 27), 0.44761262211129377), ((1, 28), 0.5576328424019442), ((1, 29), 0.08535043104854498), ((1, 30), 0.20362582549169345), ((1, 31), 0.566209813607958), ((1, 32), 0.22342505536491541), ((1, 33), 0.048240293765622236), ((1, 34), 0.49406956572526634), ((1, 35), 0.15575212067369673), ((1, 36), 0.2549845363813894), ((1, 37), 0.09697926011077776), ((1, 38), 0.2902706565642352), ((1, 39), 0.19597245867742946), ((0, 0), 0.3514130576051677), ((0, 1), 0.633066696250603), ((0, 2), 0.6981044158761278), ((0, 3), 0.4717063685511523), ((0, 4), 0.6303436164503327), ((0, 5), 0.8318923723915375), ((0, 6), 0.8101150511033456), ((0, 7), 0.5247531009172873), ((0, 8), 0.5635025990125148), ((0, 9), 0.21447672886390737), ((0, 10), 0.6462418298947845), ((0, 11), 0.8633726725601415), ((0, 12), 0.6239660248251446), ((0, 13), 0.5215078540310112), ((0, 14), 0.2668051133471187), ((0, 15), 0.5435507213663806), ((0, 16), 0.559000955762353), ((0, 17), 0.08459498063951841), ((0, 18), 0.8274309311031406), ((0, 19), 0.30184410678144197), ((0, 20), 0.4863498922000382), ((0, 21), 0.5377987455955864), ((0, 22), 0.8809964530946472), ((0, 23), 0.8274453397222072), ((0, 24), 0.060528412561022586), ((0, 25), 0.4599274663676378), ((0, 26), 0.6087724515720482), ((0, 27), 0.7732969153002893), ((0, 28), 0.09643024824370192), ((0, 29), 0.07282889142434705), ((0, 30), 0.37365590282654076), ((0, 31), 0.26578867558547464), ((0, 32), 0.08204984975054401), ((0, 33), 0.4190792957865905), ((0, 34), 0.2580399028812047), ((0, 35), 0.8636158243186489), ((0, 36), 0.06228115545145327), ((0, 37), 0.7356972117962133), ((0, 38), 0.5507315090012407), ((0, 39), 0.5357354218230774), ((1, 0), 0.2596119997074392), ((1, 1), 0.4676881163205363), ((1, 2), 0.5157357687426185), ((1, 3), 0.34848060128684893), ((1, 4), 0.4656763976976461), ((1, 5), 0.6145737549131889), ((1, 6), 0.5984854115646869), ((1, 7), 0.3876697206706562), ((1, 8), 0.4162965302625309), ((1, 9), 0.1584481033531476), ((1, 10), 0.47742145638219613), ((1, 11), 0.6378303286269187), ((1, 12), 0.46096485019165456), ((1, 13), 0.3852722427868461), ((1, 14), 0.19710653178414184), ((1, 15), 0.4015567625119233), ((1, 16), 0.41297086953122963), ((1, 17), 0.06249589084339851), ((1, 18), 0.6112777940221756), ((1, 19), 0.22299214689250518), ((1, 20), 0.3592987378784659), ((1, 21), 0.39730739869402437), ((1, 22), 0.6508501775140045), ((1, 23), 0.6112884386192614), ((1, 24), 0.04471632992573487), ((1, 25), 0.3397787494801461), ((1, 26), 0.44974035568419773), ((1, 27), 0.5712854266623872), ((1, 28), 0.07123938350338659), ((1, 29), 0.053803504821366276), ((1, 30), 0.27604425628451745), ((1, 31), 0.19635562218027885), ((1, 32), 0.06061563481618452), ((1, 33), 0.3096015121253201), ((1, 34), 0.19063109278816343), ((1, 35), 0.6380099608656542), ((1, 36), 0.04601119668412653), ((1, 37), 0.5435080461585945), ((1, 38), 0.4068616838772956), ((1, 39), 0.39578308535667883)])\n",
      "aa (1, [((0, 0), 0.27610182787690185), ((0, 1), 0.1332749223713688), ((0, 2), 0.3853430861395932), ((0, 3), 0.35969914043199824), ((0, 4), 0.32769968991243537), ((0, 5), 0.37930444619194426), ((0, 6), 0.2460079869132202), ((0, 7), 0.33230168815292105), ((0, 8), 0.13584827237875927), ((0, 9), 0.27732451319513307), ((0, 10), 0.08856146872973582), ((0, 11), 0.32325347304067137), ((0, 12), 0.2627232174501027), ((0, 13), 0.3241629754948172), ((0, 14), 0.03247698492510181), ((0, 15), 0.015878997816500578), ((0, 16), 0.10357058322450248), ((0, 17), 0.060504939039823354), ((0, 18), 0.13439508174184944), ((0, 19), 0.22613890229829117), ((0, 20), 0.15432011385083264), ((0, 21), 0.11429178373924417), ((0, 22), 0.17841206451177502), ((0, 23), 0.27489838589292087), ((0, 24), 0.25716693202345814), ((0, 25), 0.10945358934362749), ((0, 26), 0.20773913067717786), ((0, 27), 0.33398998692360726), ((0, 28), 0.305457253944798), ((0, 29), 0.3963475080235614), ((0, 30), 0.23084443650304962), ((0, 31), 0.3739911411718008), ((0, 32), 0.08611901171073122), ((0, 33), 0.39188873403765395), ((0, 34), 0.007226477293756278), ((0, 35), 0.2572102322653391), ((0, 36), 0.10336428862905012), ((0, 37), 0.24564730428847772), ((0, 38), 0.25039782516646986), ((0, 39), 0.31095997475266784), ((1, 0), 0.06401775240292015), ((1, 1), 0.03090150125950129), ((1, 2), 0.08934674018043817), ((1, 3), 0.08340086224269894), ((1, 4), 0.07598137894502156), ((1, 5), 0.08794660400607235), ((1, 6), 0.05704010913818681), ((1, 7), 0.07704841130110374), ((1, 8), 0.03149816548619603), ((1, 9), 0.06430124768642152), ((1, 10), 0.02053411316098528), ((1, 11), 0.0749504664986426), ((1, 12), 0.060915749868623977), ((1, 13), 0.07516134631558216), ((1, 14), 0.007530205778483625), ((1, 15), 0.0036817494416460732), ((1, 16), 0.024014168990030497), ((1, 17), 0.014028846662804831), ((1, 18), 0.03116122458615457), ((1, 19), 0.05243320686183427), ((1, 20), 0.03578109900705778), ((1, 21), 0.026500016929873898), ((1, 22), 0.04136712697425837), ((1, 23), 0.06373871893344192), ((1, 24), 0.05962745378069851), ((1, 25), 0.025378219463781514), ((1, 26), 0.04816698366089308), ((1, 27), 0.0774398650394402), ((1, 28), 0.07082418469693111), ((1, 29), 0.09189825662972165), ((1, 30), 0.053524245360058204), ((1, 31), 0.08671464604390924), ((1, 32), 0.019967798153584737), ((1, 33), 0.09086443265526514), ((1, 34), 0.0016755515082763999), ((1, 35), 0.05963749349751255), ((1, 36), 0.023966336940401265), ((1, 37), 0.056956480242484266), ((1, 38), 0.05805794947827574), ((1, 39), 0.07210006114052231)])\n",
      "240 key-value pairs were sent over a network.\n",
      "[(0, [((0, 1), 1.1679167742977627), ((0, 2), 1.5704080627692), ((0, 4), 1.6054852104275785), ((0, 5), 1.4227718855661253), ((0, 8), 1.1810185154639283), ((0, 9), 0.6330161950366061), ((0, 11), 1.63140415750535), ((0, 12), 1.3476946419705684), ((0, 15), 0.7154846935121539), ((0, 16), 0.6643255701541323), ((0, 18), 1.4947740006741688), ((0, 19), 0.8609947956113928), ((0, 22), 1.7068231360390533), ((0, 23), 1.2411888052142293), ((0, 25), 1.1858187408446375), ((0, 26), 1.317796977697918), ((0, 29), 0.5709308014251117), ((0, 32), 0.4345352127038336), ((0, 33), 0.868479892190043), ((0, 36), 0.46963686737121224), ((0, 39), 1.0803328848900349), ((1, 0), 0.5414833671546715), ((1, 1), 0.8354262749562373), ((1, 3), 0.5623158492501276), ((1, 4), 1.0847246564736008), ((1, 7), 0.5700434231027992), ((1, 10), 0.6801367589559161), ((1, 11), 1.0858555152292872), ((1, 14), 0.4822101035557922), ((1, 17), 0.13993144256328957), ((1, 18), 1.0894697082276938), ((1, 21), 0.894143124793005), ((1, 24), 0.6542537636820127), ((1, 25), 0.8822178637884365), ((1, 27), 1.096337913813121), ((1, 28), 0.6996964106022618), ((1, 31), 0.849280081832146), ((1, 32), 0.3040084883346847), ((1, 34), 0.6863762100217061), ((1, 35), 0.8533995750368635), ((1, 38), 0.7551902899198065), ((1, 39), 0.6638556051746305)]), (1, [((0, 0), 0.8872389905050135), ((0, 3), 0.9869087999824957), ((0, 6), 1.6055207789888453), ((0, 7), 0.982623129855951), ((0, 10), 0.9519988974334432), ((0, 13), 1.521876738570528), ((0, 14), 0.6302038231475108), ((0, 17), 0.2206931097214524), ((0, 20), 1.0264809232180596), ((0, 21), 1.2128226571878873), ((0, 24), 0.9732955620208144), ((0, 27), 1.640928667365972), ((0, 28), 1.0666948816519357), ((0, 30), 0.8472621373132087), ((0, 31), 1.3148126229130175), ((0, 34), 0.8542939056120223), ((0, 35), 1.3065130379047858), ((0, 37), 1.09696275603419), ((0, 38), 1.1471887120450694), ((1, 2), 1.0135394695689666), ((1, 5), 0.8799871103836263), ((1, 6), 1.1163540755165156), ((1, 8), 0.8518120182911804), ((1, 9), 0.3411988419012569), ((1, 12), 0.90856666783863), ((1, 13), 1.0276273880249407), ((1, 15), 0.5361356433548927), ((1, 16), 0.4384562998454945), ((1, 19), 0.5547518396108525), ((1, 20), 0.7186936309190377), ((1, 22), 1.2352612974423365), ((1, 23), 0.7914888256720616), ((1, 26), 0.9183798078430294), ((1, 29), 0.2310521924996329), ((1, 30), 0.5331943271362691), ((1, 33), 0.4487062385462075), ((1, 36), 0.3249620700059172), ((1, 37), 0.6974437865118565)])]\n",
      "[((0, 1), 1.1679167742977627), ((0, 2), 1.5704080627692), ((0, 4), 1.6054852104275785), ((0, 5), 1.4227718855661253), ((0, 8), 1.1810185154639283), ((0, 9), 0.6330161950366061), ((0, 11), 1.63140415750535), ((0, 12), 1.3476946419705684), ((0, 15), 0.7154846935121539), ((0, 16), 0.6643255701541323), ((0, 18), 1.4947740006741688), ((0, 19), 0.8609947956113928), ((0, 22), 1.7068231360390533), ((0, 23), 1.2411888052142293), ((0, 25), 1.1858187408446375), ((0, 26), 1.317796977697918), ((0, 29), 0.5709308014251117), ((0, 32), 0.4345352127038336), ((0, 33), 0.868479892190043), ((0, 36), 0.46963686737121224), ((0, 39), 1.0803328848900349), ((1, 0), 0.5414833671546715), ((1, 1), 0.8354262749562373), ((1, 3), 0.5623158492501276), ((1, 4), 1.0847246564736008), ((1, 7), 0.5700434231027992), ((1, 10), 0.6801367589559161), ((1, 11), 1.0858555152292872), ((1, 14), 0.4822101035557922), ((1, 17), 0.13993144256328957), ((1, 18), 1.0894697082276938), ((1, 21), 0.894143124793005), ((1, 24), 0.6542537636820127), ((1, 25), 0.8822178637884365), ((1, 27), 1.096337913813121), ((1, 28), 0.6996964106022618), ((1, 31), 0.849280081832146), ((1, 32), 0.3040084883346847), ((1, 34), 0.6863762100217061), ((1, 35), 0.8533995750368635), ((1, 38), 0.7551902899198065), ((1, 39), 0.6638556051746305), ((0, 0), 0.8872389905050135), ((0, 3), 0.9869087999824957), ((0, 6), 1.6055207789888453), ((0, 7), 0.982623129855951), ((0, 10), 0.9519988974334432), ((0, 13), 1.521876738570528), ((0, 14), 0.6302038231475108), ((0, 17), 0.2206931097214524), ((0, 20), 1.0264809232180596), ((0, 21), 1.2128226571878873), ((0, 24), 0.9732955620208144), ((0, 27), 1.640928667365972), ((0, 28), 1.0666948816519357), ((0, 30), 0.8472621373132087), ((0, 31), 1.3148126229130175), ((0, 34), 0.8542939056120223), ((0, 35), 1.3065130379047858), ((0, 37), 1.09696275603419), ((0, 38), 1.1471887120450694), ((1, 2), 1.0135394695689666), ((1, 5), 0.8799871103836263), ((1, 6), 1.1163540755165156), ((1, 8), 0.8518120182911804), ((1, 9), 0.3411988419012569), ((1, 12), 0.90856666783863), ((1, 13), 1.0276273880249407), ((1, 15), 0.5361356433548927), ((1, 16), 0.4384562998454945), ((1, 19), 0.5547518396108525), ((1, 20), 0.7186936309190377), ((1, 22), 1.2352612974423365), ((1, 23), 0.7914888256720616), ((1, 26), 0.9183798078430294), ((1, 29), 0.2310521924996329), ((1, 30), 0.5331943271362691), ((1, 33), 0.4487062385462075), ((1, 36), 0.3249620700059172), ((1, 37), 0.6974437865118565)]\n"
     ]
    },
    {
     "data": {
      "text/plain": [
       "True"
      ]
     },
     "execution_count": 92,
     "metadata": {},
     "output_type": "execute_result"
    }
   ],
   "source": [
    "def flatten(nested_iterable):\n",
    "  for iterable in nested_iterable:\n",
    "    for element in iterable:\n",
    "      yield element\n",
    "\n",
    "def groupbykey(iterable):\n",
    "  t = {}\n",
    "  for (k2, v2) in iterable:\n",
    "    t[k2] = t.get(k2, []) + [v2]\n",
    "  return t.items()\n",
    "\n",
    "def groupbykey_distributed(map_partitions, PARTITIONER):\n",
    "  global reducers\n",
    "  partitions = [dict() for _ in range(reducers)]\n",
    "  for map_partition in map_partitions:\n",
    "    for (k2, v2) in map_partition:\n",
    "      p = partitions[PARTITIONER(k2)]\n",
    "      p[k2] = p.get(k2, []) + [v2]\n",
    "  return [(partition_id, sorted(partition.items(), key=lambda x: x[0])) for (partition_id, partition) in enumerate(partitions)]\n",
    "\n",
    "def PARTITIONER(obj):\n",
    "  global reducers\n",
    "  return hash(obj) % reducers\n",
    "\n",
    "def MapReduceDistributed(INPUTFORMAT, MAP, REDUCE, PARTITIONER=PARTITIONER, COMBINER=None):\n",
    "  map_partitions = map(lambda record_reader: flatten(map(lambda k1v1: MAP(*k1v1), record_reader)), INPUTFORMAT())\n",
    "  if COMBINER != None:\n",
    "    map_partitions = map(lambda map_partition: flatten(map(lambda k2v2: COMBINER(*k2v2), groupbykey(map_partition))), map_partitions)\n",
    "  reduce_partitions = groupbykey_distributed(map_partitions, PARTITIONER) # shuffle\n",
    "  reduce_outputs = map(lambda reduce_partition: (reduce_partition[0], flatten(map(lambda reduce_input_group: REDUCE(*reduce_input_group), reduce_partition[1]))), reduce_partitions)\n",
    "\n",
    "  print(\"{} key-value pairs were sent over a network.\".format(sum([len(vs) for (k,vs) in flatten([partition for (partition_id, partition) in reduce_partitions])])))\n",
    "  return reduce_outputs\n",
    "\n",
    "def asmatrix(reduce_output):\n",
    "  reduce_output = list(reduce_output)\n",
    "  I = max(i for ((i,k), vw) in reduce_output)+1\n",
    "  K = max(k for ((i,k), vw) in reduce_output)+1\n",
    "  mat = np.empty(shape=(I,K))\n",
    "  for ((i,k), vw) in reduce_output:\n",
    "    mat[i,k] = vw\n",
    "  return mat\n",
    "\n",
    "# ===================================================================================================================================================================================\n",
    "\n",
    "import numpy as np\n",
    "I = 2\n",
    "J = 3\n",
    "K = 4*10\n",
    "small_mat = np.random.rand(I,J)\n",
    "big_mat = np.random.rand(J,K)\n",
    "reference_solution = np.matmul(small_mat, big_mat)\n",
    "\n",
    "def INPUTFORMAT():\n",
    "  first_mat = []\n",
    "  for i in range(small_mat.shape[0]):\n",
    "    for j in range(small_mat.shape[1]):\n",
    "      first_mat.append(((0, i, j), small_mat[i,j])) # первая матрица\n",
    "\n",
    "  global maps\n",
    "  split_size =  int(np.ceil(len(first_mat)/maps))\n",
    "  for i in range(0, len(first_mat), split_size):\n",
    "    yield first_mat[i:i+split_size]\n",
    "\n",
    "  second_mat = []\n",
    "  for j in range(big_mat.shape[0]):\n",
    "    for k in range(big_mat.shape[1]):\n",
    "      second_mat.append(((1, j, k), big_mat[j,k])) # вторая матрица\n",
    "\n",
    "  split_size =  int(np.ceil(len(second_mat)/maps))\n",
    "  for i in range(0, len(second_mat), split_size):\n",
    "    yield second_mat[i:i+split_size]\n",
    "\n",
    "\n",
    "def MAP_JOIN(k1, v1):\n",
    "  (mat_num, i, j) = k1\n",
    "  w = v1\n",
    "  if mat_num == 0:\n",
    "    yield (j, (mat_num, i, w))\n",
    "  else:\n",
    "    yield (i, (mat_num, j, w))\n",
    "\n",
    "\n",
    "def REDUCE_JOIN(key, values):\n",
    "  from_first_mat = [v for v in values if v[0] == 0]\n",
    "  from_second_mat = [v for v in values if v[0] == 1]\n",
    "  for f in from_first_mat:\n",
    "    for s in from_second_mat:\n",
    "      yield ((f[1], s[1]), f[2] * s[2])\n",
    "\n",
    "\n",
    "def GET_JOINED():\n",
    "  for j in joined:\n",
    "    print(\"aa\", j)\n",
    "    yield j[1]\n",
    "\n",
    "\n",
    "def MAP_MUL(k1, v1):\n",
    "  yield (k1, v1)\n",
    "\n",
    "\n",
    "def REDUCE_MUL(key, values):\n",
    "  res_val = 0\n",
    "  for v in values:\n",
    "    res_val += v\n",
    "  yield (key, res_val)\n",
    "\n",
    "maps = 3\n",
    "reducers = 2\n",
    "partitioned_output = MapReduceDistributed(INPUTFORMAT, MAP_JOIN, REDUCE_JOIN, COMBINER=None)\n",
    "joined = [(partition_id, list(partition)) for (partition_id, partition) in partitioned_output]\n",
    "print(joined)\n",
    "\n",
    "mul_output = MapReduceDistributed(GET_JOINED, MAP_MUL, REDUCE_MUL, COMBINER=None)\n",
    "pre_result = [(partition_id, list(partition)) for (partition_id, partition) in mul_output]\n",
    "print(pre_result)\n",
    "\n",
    "solution = []\n",
    "for p in pre_result:\n",
    "  for v in p[1]:\n",
    "    solution.append(v)\n",
    "\n",
    "print(solution)\n",
    "np.allclose(reference_solution, asmatrix(solution)) # should return true\n"
   ]
  },
  {
   "cell_type": "code",
   "execution_count": 92,
   "metadata": {
    "id": "FIpqZIDrAw8V"
   },
   "outputs": [],
   "source": []
  }
 ],
 "metadata": {
  "colab": {
   "provenance": []
  },
  "kernelspec": {
   "display_name": "Python 3 (ipykernel)",
   "language": "python",
   "name": "python3"
  },
  "language_info": {
   "codemirror_mode": {
    "name": "ipython",
    "version": 3
   },
   "file_extension": ".py",
   "mimetype": "text/x-python",
   "name": "python",
   "nbconvert_exporter": "python",
   "pygments_lexer": "ipython3",
   "version": "3.11.2"
  }
 },
 "nbformat": 4,
 "nbformat_minor": 4
}
